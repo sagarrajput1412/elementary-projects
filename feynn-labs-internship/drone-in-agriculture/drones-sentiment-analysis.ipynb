{
 "cells": [
  {
   "cell_type": "markdown",
   "id": "33ac09bf",
   "metadata": {},
   "source": [
    "### drone sentiment analysis"
   ]
  },
  {
   "cell_type": "code",
   "execution_count": 1,
   "id": "528f9bbd",
   "metadata": {},
   "outputs": [],
   "source": [
    "!pip install pandas numpy matplotlib seaborn scikit-learn --quiet"
   ]
  },
  {
   "cell_type": "code",
   "execution_count": 2,
   "id": "61ccbe5b",
   "metadata": {},
   "outputs": [],
   "source": [
    "!pip install nltk TextBlob wordcloud --quiet"
   ]
  },
  {
   "cell_type": "markdown",
   "id": "09ef893c",
   "metadata": {},
   "source": [
    "### Import Packages"
   ]
  },
  {
   "cell_type": "code",
   "execution_count": 3,
   "id": "522e5022",
   "metadata": {},
   "outputs": [],
   "source": [
    "import pandas as pd\n",
    "import numpy as np\n",
    "import matplotlib.pyplot as plt\n",
    "import seaborn as sns\n",
    "\n",
    "%matplotlib inline"
   ]
  },
  {
   "cell_type": "code",
   "execution_count": 4,
   "id": "b22a029e",
   "metadata": {},
   "outputs": [],
   "source": [
    "df = pd.read_csv(\"drone_reviews.csv\")"
   ]
  },
  {
   "cell_type": "code",
   "execution_count": 5,
   "id": "8ce68309",
   "metadata": {},
   "outputs": [
    {
     "data": {
      "text/html": [
       "<div>\n",
       "<style scoped>\n",
       "    .dataframe tbody tr th:only-of-type {\n",
       "        vertical-align: middle;\n",
       "    }\n",
       "\n",
       "    .dataframe tbody tr th {\n",
       "        vertical-align: top;\n",
       "    }\n",
       "\n",
       "    .dataframe thead th {\n",
       "        text-align: right;\n",
       "    }\n",
       "</style>\n",
       "<table border=\"1\" class=\"dataframe\">\n",
       "  <thead>\n",
       "    <tr style=\"text-align: right;\">\n",
       "      <th></th>\n",
       "      <th>Customer ID</th>\n",
       "      <th>Purchase Date</th>\n",
       "      <th>Drone Model</th>\n",
       "      <th>Price</th>\n",
       "      <th>Payment Method</th>\n",
       "      <th>Warranty</th>\n",
       "      <th>Usage Frequency</th>\n",
       "      <th>Purpose of Use</th>\n",
       "      <th>Customer Satisfaction</th>\n",
       "      <th>Customer Feedback</th>\n",
       "    </tr>\n",
       "  </thead>\n",
       "  <tbody>\n",
       "    <tr>\n",
       "      <th>0</th>\n",
       "      <td>CUST001</td>\n",
       "      <td>2023-03-08</td>\n",
       "      <td>Skydio 2</td>\n",
       "      <td>2158.16</td>\n",
       "      <td>Debit Card</td>\n",
       "      <td>1 Year</td>\n",
       "      <td>Monthly</td>\n",
       "      <td>Professional Use</td>\n",
       "      <td>5</td>\n",
       "      <td>The Skydio 2 is excellent and exceeded my expe...</td>\n",
       "    </tr>\n",
       "    <tr>\n",
       "      <th>1</th>\n",
       "      <td>CUST002</td>\n",
       "      <td>2023-08-06</td>\n",
       "      <td>Parrot Anafi USA</td>\n",
       "      <td>1213.72</td>\n",
       "      <td>Credit Card</td>\n",
       "      <td>2 Years</td>\n",
       "      <td>Daily</td>\n",
       "      <td>Professional Use</td>\n",
       "      <td>4</td>\n",
       "      <td>For the price of 1213.72, the Parrot Anafi USA...</td>\n",
       "    </tr>\n",
       "    <tr>\n",
       "      <th>2</th>\n",
       "      <td>CUST003</td>\n",
       "      <td>2023-02-19</td>\n",
       "      <td>DJI Mini 2</td>\n",
       "      <td>1175.52</td>\n",
       "      <td>Cash</td>\n",
       "      <td>2 Years</td>\n",
       "      <td>Daily</td>\n",
       "      <td>Aerial Photography</td>\n",
       "      <td>2</td>\n",
       "      <td>I'm truly impressed with the DJI Mini 2. It's ...</td>\n",
       "    </tr>\n",
       "    <tr>\n",
       "      <th>3</th>\n",
       "      <td>CUST004</td>\n",
       "      <td>2023-05-11</td>\n",
       "      <td>Parrot Anafi USA</td>\n",
       "      <td>1772.46</td>\n",
       "      <td>PayPal</td>\n",
       "      <td>No Warranty</td>\n",
       "      <td>Weekly</td>\n",
       "      <td>Aerial Photography</td>\n",
       "      <td>3</td>\n",
       "      <td>I couldn't be happier with the Parrot Anafi US...</td>\n",
       "    </tr>\n",
       "    <tr>\n",
       "      <th>4</th>\n",
       "      <td>CUST005</td>\n",
       "      <td>2023-05-23</td>\n",
       "      <td>DJI Air 2S</td>\n",
       "      <td>1276.78</td>\n",
       "      <td>Credit Card</td>\n",
       "      <td>1 Year</td>\n",
       "      <td>Monthly</td>\n",
       "      <td>Aerial Photography</td>\n",
       "      <td>4</td>\n",
       "      <td>The DJI Air 2S is impressive and exceeded my e...</td>\n",
       "    </tr>\n",
       "  </tbody>\n",
       "</table>\n",
       "</div>"
      ],
      "text/plain": [
       "  Customer ID Purchase Date       Drone Model    Price Payment Method  \\\n",
       "0     CUST001    2023-03-08          Skydio 2  2158.16     Debit Card   \n",
       "1     CUST002    2023-08-06  Parrot Anafi USA  1213.72    Credit Card   \n",
       "2     CUST003    2023-02-19        DJI Mini 2  1175.52           Cash   \n",
       "3     CUST004    2023-05-11  Parrot Anafi USA  1772.46         PayPal   \n",
       "4     CUST005    2023-05-23        DJI Air 2S  1276.78    Credit Card   \n",
       "\n",
       "      Warranty Usage Frequency      Purpose of Use  Customer Satisfaction  \\\n",
       "0       1 Year         Monthly    Professional Use                      5   \n",
       "1      2 Years           Daily    Professional Use                      4   \n",
       "2      2 Years           Daily  Aerial Photography                      2   \n",
       "3  No Warranty          Weekly  Aerial Photography                      3   \n",
       "4       1 Year         Monthly  Aerial Photography                      4   \n",
       "\n",
       "                                   Customer Feedback  \n",
       "0  The Skydio 2 is excellent and exceeded my expe...  \n",
       "1  For the price of 1213.72, the Parrot Anafi USA...  \n",
       "2  I'm truly impressed with the DJI Mini 2. It's ...  \n",
       "3  I couldn't be happier with the Parrot Anafi US...  \n",
       "4  The DJI Air 2S is impressive and exceeded my e...  "
      ]
     },
     "execution_count": 5,
     "metadata": {},
     "output_type": "execute_result"
    }
   ],
   "source": [
    "df.head()"
   ]
  },
  {
   "cell_type": "code",
   "execution_count": 6,
   "id": "bd92cded",
   "metadata": {},
   "outputs": [
    {
     "data": {
      "text/plain": [
       "(5000, 10)"
      ]
     },
     "execution_count": 6,
     "metadata": {},
     "output_type": "execute_result"
    }
   ],
   "source": [
    "df.shape"
   ]
  },
  {
   "cell_type": "code",
   "execution_count": 7,
   "id": "5e47698f",
   "metadata": {},
   "outputs": [
    {
     "data": {
      "text/plain": [
       "Customer ID              0\n",
       "Purchase Date            0\n",
       "Drone Model              0\n",
       "Price                    0\n",
       "Payment Method           0\n",
       "Warranty                 0\n",
       "Usage Frequency          0\n",
       "Purpose of Use           0\n",
       "Customer Satisfaction    0\n",
       "Customer Feedback        0\n",
       "dtype: int64"
      ]
     },
     "execution_count": 7,
     "metadata": {},
     "output_type": "execute_result"
    }
   ],
   "source": [
    "df.isna().sum()"
   ]
  },
  {
   "cell_type": "code",
   "execution_count": 8,
   "id": "1ca47cb0",
   "metadata": {},
   "outputs": [
    {
     "name": "stdout",
     "output_type": "stream",
     "text": [
      "<class 'pandas.core.frame.DataFrame'>\n",
      "RangeIndex: 5000 entries, 0 to 4999\n",
      "Data columns (total 10 columns):\n",
      " #   Column                 Non-Null Count  Dtype  \n",
      "---  ------                 --------------  -----  \n",
      " 0   Customer ID            5000 non-null   object \n",
      " 1   Purchase Date          5000 non-null   object \n",
      " 2   Drone Model            5000 non-null   object \n",
      " 3   Price                  5000 non-null   float64\n",
      " 4   Payment Method         5000 non-null   object \n",
      " 5   Warranty               5000 non-null   object \n",
      " 6   Usage Frequency        5000 non-null   object \n",
      " 7   Purpose of Use         5000 non-null   object \n",
      " 8   Customer Satisfaction  5000 non-null   int64  \n",
      " 9   Customer Feedback      5000 non-null   object \n",
      "dtypes: float64(1), int64(1), object(8)\n",
      "memory usage: 390.8+ KB\n"
     ]
    }
   ],
   "source": [
    "df.info()"
   ]
  },
  {
   "cell_type": "code",
   "execution_count": 9,
   "id": "d5e95c20",
   "metadata": {},
   "outputs": [],
   "source": [
    "df.drop(columns = ['Customer ID', 'Purchase Date' ], inplace = True)"
   ]
  },
  {
   "cell_type": "code",
   "execution_count": 10,
   "id": "05636a20",
   "metadata": {},
   "outputs": [],
   "source": [
    "df.rename(columns = {'Customer Satisfaction': 'Satisfaction', 'Customer Feedback': 'Feedback'}, inplace= True)"
   ]
  },
  {
   "cell_type": "code",
   "execution_count": 11,
   "id": "c4b37ba7",
   "metadata": {},
   "outputs": [
    {
     "data": {
      "text/html": [
       "<div>\n",
       "<style scoped>\n",
       "    .dataframe tbody tr th:only-of-type {\n",
       "        vertical-align: middle;\n",
       "    }\n",
       "\n",
       "    .dataframe tbody tr th {\n",
       "        vertical-align: top;\n",
       "    }\n",
       "\n",
       "    .dataframe thead th {\n",
       "        text-align: right;\n",
       "    }\n",
       "</style>\n",
       "<table border=\"1\" class=\"dataframe\">\n",
       "  <thead>\n",
       "    <tr style=\"text-align: right;\">\n",
       "      <th></th>\n",
       "      <th>Drone Model</th>\n",
       "      <th>Price</th>\n",
       "      <th>Payment Method</th>\n",
       "      <th>Warranty</th>\n",
       "      <th>Usage Frequency</th>\n",
       "      <th>Purpose of Use</th>\n",
       "      <th>Satisfaction</th>\n",
       "      <th>Feedback</th>\n",
       "    </tr>\n",
       "  </thead>\n",
       "  <tbody>\n",
       "    <tr>\n",
       "      <th>0</th>\n",
       "      <td>Skydio 2</td>\n",
       "      <td>2158.16</td>\n",
       "      <td>Debit Card</td>\n",
       "      <td>1 Year</td>\n",
       "      <td>Monthly</td>\n",
       "      <td>Professional Use</td>\n",
       "      <td>5</td>\n",
       "      <td>The Skydio 2 is excellent and exceeded my expe...</td>\n",
       "    </tr>\n",
       "    <tr>\n",
       "      <th>1</th>\n",
       "      <td>Parrot Anafi USA</td>\n",
       "      <td>1213.72</td>\n",
       "      <td>Credit Card</td>\n",
       "      <td>2 Years</td>\n",
       "      <td>Daily</td>\n",
       "      <td>Professional Use</td>\n",
       "      <td>4</td>\n",
       "      <td>For the price of 1213.72, the Parrot Anafi USA...</td>\n",
       "    </tr>\n",
       "    <tr>\n",
       "      <th>2</th>\n",
       "      <td>DJI Mini 2</td>\n",
       "      <td>1175.52</td>\n",
       "      <td>Cash</td>\n",
       "      <td>2 Years</td>\n",
       "      <td>Daily</td>\n",
       "      <td>Aerial Photography</td>\n",
       "      <td>2</td>\n",
       "      <td>I'm truly impressed with the DJI Mini 2. It's ...</td>\n",
       "    </tr>\n",
       "    <tr>\n",
       "      <th>3</th>\n",
       "      <td>Parrot Anafi USA</td>\n",
       "      <td>1772.46</td>\n",
       "      <td>PayPal</td>\n",
       "      <td>No Warranty</td>\n",
       "      <td>Weekly</td>\n",
       "      <td>Aerial Photography</td>\n",
       "      <td>3</td>\n",
       "      <td>I couldn't be happier with the Parrot Anafi US...</td>\n",
       "    </tr>\n",
       "    <tr>\n",
       "      <th>4</th>\n",
       "      <td>DJI Air 2S</td>\n",
       "      <td>1276.78</td>\n",
       "      <td>Credit Card</td>\n",
       "      <td>1 Year</td>\n",
       "      <td>Monthly</td>\n",
       "      <td>Aerial Photography</td>\n",
       "      <td>4</td>\n",
       "      <td>The DJI Air 2S is impressive and exceeded my e...</td>\n",
       "    </tr>\n",
       "  </tbody>\n",
       "</table>\n",
       "</div>"
      ],
      "text/plain": [
       "        Drone Model    Price Payment Method     Warranty Usage Frequency  \\\n",
       "0          Skydio 2  2158.16     Debit Card       1 Year         Monthly   \n",
       "1  Parrot Anafi USA  1213.72    Credit Card      2 Years           Daily   \n",
       "2        DJI Mini 2  1175.52           Cash      2 Years           Daily   \n",
       "3  Parrot Anafi USA  1772.46         PayPal  No Warranty          Weekly   \n",
       "4        DJI Air 2S  1276.78    Credit Card       1 Year         Monthly   \n",
       "\n",
       "       Purpose of Use  Satisfaction  \\\n",
       "0    Professional Use             5   \n",
       "1    Professional Use             4   \n",
       "2  Aerial Photography             2   \n",
       "3  Aerial Photography             3   \n",
       "4  Aerial Photography             4   \n",
       "\n",
       "                                            Feedback  \n",
       "0  The Skydio 2 is excellent and exceeded my expe...  \n",
       "1  For the price of 1213.72, the Parrot Anafi USA...  \n",
       "2  I'm truly impressed with the DJI Mini 2. It's ...  \n",
       "3  I couldn't be happier with the Parrot Anafi US...  \n",
       "4  The DJI Air 2S is impressive and exceeded my e...  "
      ]
     },
     "execution_count": 11,
     "metadata": {},
     "output_type": "execute_result"
    }
   ],
   "source": [
    "df.head()"
   ]
  },
  {
   "cell_type": "code",
   "execution_count": 12,
   "id": "378f632c",
   "metadata": {},
   "outputs": [
    {
     "data": {
      "text/plain": [
       "Index(['Drone Model', 'Price', 'Payment Method', 'Warranty', 'Usage Frequency',\n",
       "       'Purpose of Use', 'Satisfaction', 'Feedback'],\n",
       "      dtype='object')"
      ]
     },
     "execution_count": 12,
     "metadata": {},
     "output_type": "execute_result"
    }
   ],
   "source": [
    "df.columns"
   ]
  },
  {
   "cell_type": "markdown",
   "id": "c6856fcf",
   "metadata": {},
   "source": [
    "### Data Visualization"
   ]
  },
  {
   "cell_type": "code",
   "execution_count": 13,
   "id": "b82aef35",
   "metadata": {},
   "outputs": [
    {
     "data": {
      "text/plain": [
       "No Warranty    1695\n",
       "2 Years        1655\n",
       "1 Year         1650\n",
       "Name: Warranty, dtype: int64"
      ]
     },
     "execution_count": 13,
     "metadata": {},
     "output_type": "execute_result"
    }
   ],
   "source": [
    "df['Warranty'].value_counts()"
   ]
  },
  {
   "cell_type": "code",
   "execution_count": 14,
   "id": "9adb0bb5",
   "metadata": {},
   "outputs": [
    {
     "data": {
      "text/plain": [
       "Recreation            1679\n",
       "Aerial Photography    1675\n",
       "Professional Use      1646\n",
       "Name: Purpose of Use, dtype: int64"
      ]
     },
     "execution_count": 14,
     "metadata": {},
     "output_type": "execute_result"
    }
   ],
   "source": [
    "df['Purpose of Use'].value_counts()"
   ]
  },
  {
   "cell_type": "code",
   "execution_count": 15,
   "id": "df47410f",
   "metadata": {},
   "outputs": [
    {
     "data": {
      "text/plain": [
       "<AxesSubplot:xlabel='Warranty', ylabel='count'>"
      ]
     },
     "execution_count": 15,
     "metadata": {},
     "output_type": "execute_result"
    },
    {
     "data": {
      "image/png": "[encoded data removed]",
      "text/plain": [
       "<Figure size 432x288 with 1 Axes>"
      ]
     },
     "metadata": {
      "needs_background": "light"
     },
     "output_type": "display_data"
    }
   ],
   "source": [
    "sns.countplot(data = df, x= df['Warranty'])"
   ]
  },
  {
   "cell_type": "code",
   "execution_count": 16,
   "id": "bb395a74",
   "metadata": {},
   "outputs": [
    {
     "data": {
      "text/plain": [
       "<AxesSubplot:xlabel='Purpose of Use', ylabel='count'>"
      ]
     },
     "execution_count": 16,
     "metadata": {},
     "output_type": "execute_result"
    },
    {
     "data": {
      "image/png": "[encoded data removed]",
      "text/plain": [
       "<Figure size 432x288 with 1 Axes>"
      ]
     },
     "metadata": {
      "needs_background": "light"
     },
     "output_type": "display_data"
    }
   ],
   "source": [
    "sns.countplot(data = df, x= df['Purpose of Use'])"
   ]
  },
  {
   "cell_type": "code",
   "execution_count": 20,
   "id": "3e0f827c",
   "metadata": {},
   "outputs": [
    {
     "data": {
      "text/plain": [
       "<AxesSubplot:xlabel='Price', ylabel='Warranty'>"
      ]
     },
     "execution_count": 20,
     "metadata": {},
     "output_type": "execute_result"
    },
    {
     "data": {
      "image/png": "[encoded data removed]",
      "text/plain": [
       "<Figure size 432x288 with 1 Axes>"
      ]
     },
     "metadata": {
      "needs_background": "light"
     },
     "output_type": "display_data"
    }
   ],
   "source": [
    "sns.barplot(data = df, x= df['Price'], y= df['Warranty'])"
   ]
  },
  {
   "cell_type": "code",
   "execution_count": 21,
   "id": "cc017a41",
   "metadata": {},
   "outputs": [
    {
     "data": {
      "text/plain": [
       "<AxesSubplot:xlabel='Warranty', ylabel='count'>"
      ]
     },
     "execution_count": 21,
     "metadata": {},
     "output_type": "execute_result"
    },
    {
     "data": {
      "image/png": "[encoded data removed]",
      "text/plain": [
       "<Figure size 432x288 with 1 Axes>"
      ]
     },
     "metadata": {
      "needs_background": "light"
     },
     "output_type": "display_data"
    }
   ],
   "source": [
    "sns.countplot(data = df, x= df['Warranty'])"
   ]
  },
  {
   "cell_type": "code",
   "execution_count": 22,
   "id": "f5e5abe0",
   "metadata": {},
   "outputs": [
    {
     "data": {
      "text/plain": [
       "<AxesSubplot:xlabel='Price', ylabel='Usage Frequency'>"
      ]
     },
     "execution_count": 22,
     "metadata": {},
     "output_type": "execute_result"
    },
    {
     "data": {
      "image/png": "[encoded data removed]",
      "text/plain": [
       "<Figure size 432x288 with 1 Axes>"
      ]
     },
     "metadata": {
      "needs_background": "light"
     },
     "output_type": "display_data"
    }
   ],
   "source": [
    "sns.barplot(data = df, x= df['Price'], y= df['Usage Frequency'])"
   ]
  },
  {
   "cell_type": "code",
   "execution_count": null,
   "id": "8da0a89c",
   "metadata": {},
   "outputs": [],
   "source": []
  },
  {
   "cell_type": "markdown",
   "id": "621a5d70",
   "metadata": {},
   "source": [
    "### Sentiment Analysis"
   ]
  },
  {
   "cell_type": "code",
   "execution_count": 23,
   "id": "626c3415",
   "metadata": {},
   "outputs": [
    {
     "data": {
      "text/html": [
       "<div>\n",
       "<style scoped>\n",
       "    .dataframe tbody tr th:only-of-type {\n",
       "        vertical-align: middle;\n",
       "    }\n",
       "\n",
       "    .dataframe tbody tr th {\n",
       "        vertical-align: top;\n",
       "    }\n",
       "\n",
       "    .dataframe thead th {\n",
       "        text-align: right;\n",
       "    }\n",
       "</style>\n",
       "<table border=\"1\" class=\"dataframe\">\n",
       "  <thead>\n",
       "    <tr style=\"text-align: right;\">\n",
       "      <th></th>\n",
       "      <th>Satisfaction</th>\n",
       "      <th>Feedback</th>\n",
       "    </tr>\n",
       "  </thead>\n",
       "  <tbody>\n",
       "    <tr>\n",
       "      <th>0</th>\n",
       "      <td>5</td>\n",
       "      <td>The Skydio 2 is excellent and exceeded my expe...</td>\n",
       "    </tr>\n",
       "    <tr>\n",
       "      <th>1</th>\n",
       "      <td>4</td>\n",
       "      <td>For the price of 1213.72, the Parrot Anafi USA...</td>\n",
       "    </tr>\n",
       "    <tr>\n",
       "      <th>2</th>\n",
       "      <td>2</td>\n",
       "      <td>I'm truly impressed with the DJI Mini 2. It's ...</td>\n",
       "    </tr>\n",
       "    <tr>\n",
       "      <th>3</th>\n",
       "      <td>3</td>\n",
       "      <td>I couldn't be happier with the Parrot Anafi US...</td>\n",
       "    </tr>\n",
       "    <tr>\n",
       "      <th>4</th>\n",
       "      <td>4</td>\n",
       "      <td>The DJI Air 2S is impressive and exceeded my e...</td>\n",
       "    </tr>\n",
       "  </tbody>\n",
       "</table>\n",
       "</div>"
      ],
      "text/plain": [
       "   Satisfaction                                           Feedback\n",
       "0             5  The Skydio 2 is excellent and exceeded my expe...\n",
       "1             4  For the price of 1213.72, the Parrot Anafi USA...\n",
       "2             2  I'm truly impressed with the DJI Mini 2. It's ...\n",
       "3             3  I couldn't be happier with the Parrot Anafi US...\n",
       "4             4  The DJI Air 2S is impressive and exceeded my e..."
      ]
     },
     "execution_count": 23,
     "metadata": {},
     "output_type": "execute_result"
    }
   ],
   "source": [
    "df[['Satisfaction','Feedback']].head(5)"
   ]
  },
  {
   "cell_type": "code",
   "execution_count": 24,
   "id": "e94a9585",
   "metadata": {},
   "outputs": [],
   "source": [
    "# Stop words Removal\n",
    "import nltk\n",
    "from nltk.corpus import stopwords"
   ]
  },
  {
   "cell_type": "code",
   "execution_count": 25,
   "id": "3f9444b7",
   "metadata": {},
   "outputs": [
    {
     "name": "stderr",
     "output_type": "stream",
     "text": [
      "[nltk_data] Downloading package stopwords to C:\\Users\\Sagar\n",
      "[nltk_data]     Rajput\\AppData\\Roaming\\nltk_data...\n",
      "[nltk_data]   Package stopwords is already up-to-date!\n",
      "[nltk_data] Downloading package wordnet to C:\\Users\\Sagar\n",
      "[nltk_data]     Rajput\\AppData\\Roaming\\nltk_data...\n",
      "[nltk_data]   Package wordnet is already up-to-date!\n"
     ]
    },
    {
     "data": {
      "text/plain": [
       "True"
      ]
     },
     "execution_count": 25,
     "metadata": {},
     "output_type": "execute_result"
    }
   ],
   "source": [
    "nltk.download('stopwords')\n",
    "nltk.download('wordnet')"
   ]
  },
  {
   "cell_type": "code",
   "execution_count": 26,
   "id": "4ad548ee",
   "metadata": {},
   "outputs": [
    {
     "name": "stdout",
     "output_type": "stream",
     "text": [
      "{\"wouldn't\", 'hadn', 'herself', 'wasn', \"don't\", 'was', 'why', 'my', 'mightn', 'did', 'are', 'most', 'there', 'him', 'of', 'here', 'above', 'yours', 'if', 'because', 'than', 'how', 'about', \"didn't\", \"shouldn't\", 'it', 'have', 'this', 'from', 'or', 'to', 'where', 'd', 'does', 'but', 'don', 'y', 'no', 'he', 'you', 'has', \"should've\", 'were', 'his', 'isn', 'aren', 'for', 'haven', 'me', 'itself', 'with', 'ain', 'under', 'himself', 'can', 'o', 'themselves', 'who', 'doing', 'both', 'weren', 'further', 'up', 'against', 'all', \"that'll\", 'through', 'these', 'yourself', 'not', 'whom', 'having', 'same', 'on', \"hadn't\", 't', 'won', 'am', 've', 'down', \"you've\", 'be', 'an', 'your', 'too', 'i', 'just', \"wasn't\", 'nor', \"you'll\", \"you're\", 'only', \"shan't\", 'had', 'while', \"mightn't\", 'own', \"mustn't\", 'we', 'more', 'other', 'been', 'shan', 'hers', 'very', 'its', 'then', 'ma', 'myself', 'needn', 'do', 'ourselves', 'their', 'each', 'yourselves', 're', 'such', 'ours', \"she's\", 'couldn', 'those', \"you'd\", 'should', 'wouldn', 'below', 'over', 'in', 'doesn', 'll', 'off', 'which', 'until', 'so', \"isn't\", 'by', 's', 'at', 'they', 'is', 'shouldn', 'when', 'before', 'm', 'few', \"needn't\", 'out', \"aren't\", \"couldn't\", 'a', 'she', \"weren't\", \"haven't\", 'once', 'mustn', 'theirs', 'into', 'what', 'any', 'them', 'being', 'between', 'as', 'after', 'some', 'hasn', \"hasn't\", 'now', 'again', 'her', 'our', 'the', \"won't\", \"doesn't\", 'during', 'didn', \"it's\", 'and', 'will', 'that'}\n"
     ]
    }
   ],
   "source": [
    "nltk_stopwords = set(stopwords.words('english'))\n",
    "print(nltk_stopwords)"
   ]
  },
  {
   "cell_type": "code",
   "execution_count": 27,
   "id": "6b9f4fd0",
   "metadata": {},
   "outputs": [
    {
     "data": {
      "text/plain": [
       "179"
      ]
     },
     "execution_count": 27,
     "metadata": {},
     "output_type": "execute_result"
    }
   ],
   "source": [
    "len(nltk_stopwords)"
   ]
  },
  {
   "cell_type": "code",
   "execution_count": 28,
   "id": "a90cd4f2",
   "metadata": {},
   "outputs": [
    {
     "name": "stdout",
     "output_type": "stream",
     "text": [
      "{'might', 'take', 'find', 'move', 'became', 'seem', 'why', 'my', 'formerly', 'enough', 'are', 'un', 'side', 'fill', 'twelve', 'six', 'behind', 'fifty', 'him', 'above', 'than', 'yours', 'if', 'about', 'could', 'third', 'thereupon', 'etc', 'or', 'twenty', 'still', 'to', 'where', 'well', 'meanwhile', 'but', 'whole', 'has', 'although', 'five', 'beforehand', 'me', 'whereupon', 'even', 'itself', 'others', 'cannot', 'anyway', 'go', 'last', 'amoungst', 'can', 'indeed', 'call', 'themselves', 'who', 'someone', 'bottom', 'done', 'further', 'all', 'against', 'wherever', 'through', 'full', 'these', 'yourself', 'thin', 'thru', 'every', 'thereafter', 'same', 'whence', 'front', 'latterly', 'many', 'ten', 'your', 'too', 'bill', 'made', 'seems', 'name', 'de', 'co', 'would', 'had', 'while', 'becoming', 'sometimes', 'noone', 'nowhere', 'more', 'afterwards', 'been', 'please', 'nothing', 'two', 'serious', 'anywhere', 'con', 'anyhow', 'give', 'whoever', 'anyone', 'below', 'found', 'onto', 'off', 'ie', 'latter', 'until', 'something', 'none', 'inc', 'keep', 'four', 'by', 'they', 'is', 'when', 'before', 'however', 'besides', 'few', 'often', 'towards', 'thence', 'eight', 'once', 'forty', 'per', 'what', 'sincere', 'since', 'top', 'one', 'due', 'being', 'after', 'former', 'eleven', 'may', 'mostly', 'system', 'her', 'our', 'herein', 'except', 'never', 'around', 'empty', 'mill', 'everyone', 'therefore', 'perhaps', 'that', 'will', 'amount', 'herself', 'almost', 'mine', 'was', 'most', 'whether', 'detail', 'hence', 'there', 'of', 'here', 'namely', 'because', 'how', 'it', 'have', 'becomes', 'across', 'amongst', 'thick', 'this', 'from', 'also', 'become', 'whose', 'no', 'he', 'you', 'beside', 'were', 'his', 'within', 'yet', 'for', 'whatever', 'sometime', 'whereby', 'another', 'with', 'under', 'seeming', 'himself', 'rather', 'both', 'up', 'always', 'interest', 'therein', 'though', 'not', 'whom', 'get', 'on', 'thus', 'ever', 'am', 'down', 'nevertheless', 'an', 'be', 'along', 'least', 'i', 'neither', 'nor', 'elsewhere', 'only', 'nine', 'own', 'less', 'cry', 'we', 'other', 'whereas', 'hereby', 'hers', 'very', 'its', 'part', 'then', 'myself', 'else', 'three', 'do', 'their', 'ourselves', 'each', 'yourselves', 'ltd', 're', 'thereby', 'must', 'without', 'such', 'ours', 'cant', 'those', 'already', 'should', 'everything', 'us', 'much', 'hereafter', 'next', 'whenever', 'over', 'in', 'upon', 'whereafter', 'which', 'alone', 'via', 'several', 'either', 'so', 'hasnt', 'put', 'moreover', 'couldnt', 'describe', 'at', 'whither', 'hundred', 'out', 'everywhere', 'a', 'she', 'somewhere', 'anything', 'among', 'wherein', 'beyond', 'fire', 'into', 'together', 'hereupon', 'otherwise', 'any', 'toward', 'seemed', 'between', 'them', 'sixty', 'as', 'eg', 'nobody', 'first', 'some', 'see', 'somehow', 'now', 'show', 'again', 'the', 'back', 'during', 'throughout', 'and', 'fifteen'}\n"
     ]
    }
   ],
   "source": [
    "from sklearn.feature_extraction.text import ENGLISH_STOP_WORDS\n",
    "sklearn_stopwords = set(ENGLISH_STOP_WORDS)\n",
    "print(sklearn_stopwords)"
   ]
  },
  {
   "cell_type": "code",
   "execution_count": 29,
   "id": "70ba014b",
   "metadata": {},
   "outputs": [
    {
     "data": {
      "text/plain": [
       "318"
      ]
     },
     "execution_count": 29,
     "metadata": {},
     "output_type": "execute_result"
    }
   ],
   "source": [
    "len(sklearn_stopwords)"
   ]
  },
  {
   "cell_type": "code",
   "execution_count": 30,
   "id": "943c50a9",
   "metadata": {},
   "outputs": [
    {
     "name": "stdout",
     "output_type": "stream",
     "text": [
      "{'herself', 'why', 'was', 'my', 'most', 'are', 'there', 'him', 'of', 'here', 'above', 'yours', 'because', 'if', 'than', 'how', 'about', 'it', 'have', 'this', 'from', 'or', 'to', 'where', 'but', 'no', 'he', 'you', 'has', 'were', 'his', 'for', 'me', 'itself', 'with', 'under', 'himself', 'can', 'themselves', 'who', 'both', 'further', 'up', 'against', 'all', 'through', 'these', 'yourself', 'not', 'whom', 'same', 'on', 'am', 'down', 'be', 'an', 'your', 'too', 'i', 'nor', 'only', 'had', 'while', 'own', 'we', 'more', 'other', 'been', 'hers', 'very', 'its', 'then', 'myself', 'do', 'ourselves', 'their', 'each', 'yourselves', 're', 'such', 'ours', 'those', 'should', 'below', 'over', 'in', 'off', 'which', 'until', 'so', 'by', 'at', 'they', 'is', 'when', 'before', 'few', 'out', 'a', 'she', 'once', 'into', 'what', 'any', 'them', 'being', 'between', 'as', 'after', 'some', 'now', 'again', 'her', 'our', 'the', 'during', 'and', 'will', 'that'}\n"
     ]
    }
   ],
   "source": [
    "# Find the common stopwords from NLTK & sklearn\n",
    "print(nltk_stopwords.intersection(sklearn_stopwords))"
   ]
  },
  {
   "cell_type": "code",
   "execution_count": 31,
   "id": "4fac78c2",
   "metadata": {},
   "outputs": [
    {
     "data": {
      "text/plain": [
       "119"
      ]
     },
     "execution_count": 31,
     "metadata": {},
     "output_type": "execute_result"
    }
   ],
   "source": [
    "len(nltk_stopwords.intersection(sklearn_stopwords))"
   ]
  },
  {
   "cell_type": "code",
   "execution_count": 32,
   "id": "6230e51c",
   "metadata": {},
   "outputs": [],
   "source": [
    "# Combining the stopwords from sklearn & NLTK\n",
    "combined_stopwords = nltk_stopwords.union(sklearn_stopwords)"
   ]
  },
  {
   "cell_type": "code",
   "execution_count": 33,
   "id": "a04d2433",
   "metadata": {},
   "outputs": [
    {
     "data": {
      "text/plain": [
       "378"
      ]
     },
     "execution_count": 33,
     "metadata": {},
     "output_type": "execute_result"
    }
   ],
   "source": [
    "len(combined_stopwords)"
   ]
  },
  {
   "cell_type": "code",
   "execution_count": 34,
   "id": "bcbc10e2",
   "metadata": {},
   "outputs": [],
   "source": [
    "domain_stopwords = [ '2', 'price', '1213.72,', 'use.', \"i'm\" ]\n",
    "final_stopwords = domain_stopwords + list(combined_stopwords)"
   ]
  },
  {
   "cell_type": "code",
   "execution_count": 35,
   "id": "75fb9963",
   "metadata": {},
   "outputs": [],
   "source": [
    "# Text Normalization: Stemming or Lemmatization (prefer)\n",
    "from nltk.stem import WordNetLemmatizer\n",
    "lemmatizer = WordNetLemmatizer()"
   ]
  },
  {
   "cell_type": "code",
   "execution_count": 36,
   "id": "b4cecf48",
   "metadata": {},
   "outputs": [],
   "source": [
    "#create an empty list to collect cleaned data corpus\n",
    "cleaned_feedback =[]"
   ]
  },
  {
   "cell_type": "code",
   "execution_count": 37,
   "id": "1235dd94",
   "metadata": {},
   "outputs": [],
   "source": [
    "#loop through each review, remove punctuations, lower case it, join it and add it to corpus\n",
    "for rev in df['Feedback']:\n",
    "    rev = rev.lower()\n",
    "    rev = rev.split()\n",
    "    rev = [lemmatizer.lemmatize(word) for word in rev if word not in final_stopwords]\n",
    "    rev = \" \".join(rev)\n",
    "    cleaned_feedback.append(rev)"
   ]
  },
  {
   "cell_type": "code",
   "execution_count": 38,
   "id": "5e237ac2",
   "metadata": {},
   "outputs": [],
   "source": [
    "# add the corpus to the original dataframe\n",
    "df['Cleaned_Feedback'] = cleaned_feedback"
   ]
  },
  {
   "cell_type": "code",
   "execution_count": 39,
   "id": "22bfc62c",
   "metadata": {},
   "outputs": [
    {
     "data": {
      "text/html": [
       "<div>\n",
       "<style scoped>\n",
       "    .dataframe tbody tr th:only-of-type {\n",
       "        vertical-align: middle;\n",
       "    }\n",
       "\n",
       "    .dataframe tbody tr th {\n",
       "        vertical-align: top;\n",
       "    }\n",
       "\n",
       "    .dataframe thead th {\n",
       "        text-align: right;\n",
       "    }\n",
       "</style>\n",
       "<table border=\"1\" class=\"dataframe\">\n",
       "  <thead>\n",
       "    <tr style=\"text-align: right;\">\n",
       "      <th></th>\n",
       "      <th>Drone Model</th>\n",
       "      <th>Price</th>\n",
       "      <th>Payment Method</th>\n",
       "      <th>Warranty</th>\n",
       "      <th>Usage Frequency</th>\n",
       "      <th>Purpose of Use</th>\n",
       "      <th>Satisfaction</th>\n",
       "      <th>Feedback</th>\n",
       "      <th>Cleaned_Feedback</th>\n",
       "    </tr>\n",
       "  </thead>\n",
       "  <tbody>\n",
       "    <tr>\n",
       "      <th>0</th>\n",
       "      <td>Skydio 2</td>\n",
       "      <td>2158.16</td>\n",
       "      <td>Debit Card</td>\n",
       "      <td>1 Year</td>\n",
       "      <td>Monthly</td>\n",
       "      <td>Professional Use</td>\n",
       "      <td>5</td>\n",
       "      <td>The Skydio 2 is excellent and exceeded my expe...</td>\n",
       "      <td>skydio excellent exceeded expectations. fantas...</td>\n",
       "    </tr>\n",
       "    <tr>\n",
       "      <th>1</th>\n",
       "      <td>Parrot Anafi USA</td>\n",
       "      <td>1213.72</td>\n",
       "      <td>Credit Card</td>\n",
       "      <td>2 Years</td>\n",
       "      <td>Daily</td>\n",
       "      <td>Professional Use</td>\n",
       "      <td>4</td>\n",
       "      <td>For the price of 1213.72, the Parrot Anafi USA...</td>\n",
       "      <td>parrot anafi usa offer impressive performance....</td>\n",
       "    </tr>\n",
       "    <tr>\n",
       "      <th>2</th>\n",
       "      <td>DJI Mini 2</td>\n",
       "      <td>1175.52</td>\n",
       "      <td>Cash</td>\n",
       "      <td>2 Years</td>\n",
       "      <td>Daily</td>\n",
       "      <td>Aerial Photography</td>\n",
       "      <td>2</td>\n",
       "      <td>I'm truly impressed with the DJI Mini 2. It's ...</td>\n",
       "      <td>truly impressed dji mini 2. reliable amazing a...</td>\n",
       "    </tr>\n",
       "    <tr>\n",
       "      <th>3</th>\n",
       "      <td>Parrot Anafi USA</td>\n",
       "      <td>1772.46</td>\n",
       "      <td>PayPal</td>\n",
       "      <td>No Warranty</td>\n",
       "      <td>Weekly</td>\n",
       "      <td>Aerial Photography</td>\n",
       "      <td>3</td>\n",
       "      <td>I couldn't be happier with the Parrot Anafi US...</td>\n",
       "      <td>happier parrot anafi usa. satisfying amazing a...</td>\n",
       "    </tr>\n",
       "    <tr>\n",
       "      <th>4</th>\n",
       "      <td>DJI Air 2S</td>\n",
       "      <td>1276.78</td>\n",
       "      <td>Credit Card</td>\n",
       "      <td>1 Year</td>\n",
       "      <td>Monthly</td>\n",
       "      <td>Aerial Photography</td>\n",
       "      <td>4</td>\n",
       "      <td>The DJI Air 2S is impressive and exceeded my e...</td>\n",
       "      <td>dji air 2 impressive exceeded expectations. te...</td>\n",
       "    </tr>\n",
       "  </tbody>\n",
       "</table>\n",
       "</div>"
      ],
      "text/plain": [
       "        Drone Model    Price Payment Method     Warranty Usage Frequency  \\\n",
       "0          Skydio 2  2158.16     Debit Card       1 Year         Monthly   \n",
       "1  Parrot Anafi USA  1213.72    Credit Card      2 Years           Daily   \n",
       "2        DJI Mini 2  1175.52           Cash      2 Years           Daily   \n",
       "3  Parrot Anafi USA  1772.46         PayPal  No Warranty          Weekly   \n",
       "4        DJI Air 2S  1276.78    Credit Card       1 Year         Monthly   \n",
       "\n",
       "       Purpose of Use  Satisfaction  \\\n",
       "0    Professional Use             5   \n",
       "1    Professional Use             4   \n",
       "2  Aerial Photography             2   \n",
       "3  Aerial Photography             3   \n",
       "4  Aerial Photography             4   \n",
       "\n",
       "                                            Feedback  \\\n",
       "0  The Skydio 2 is excellent and exceeded my expe...   \n",
       "1  For the price of 1213.72, the Parrot Anafi USA...   \n",
       "2  I'm truly impressed with the DJI Mini 2. It's ...   \n",
       "3  I couldn't be happier with the Parrot Anafi US...   \n",
       "4  The DJI Air 2S is impressive and exceeded my e...   \n",
       "\n",
       "                                    Cleaned_Feedback  \n",
       "0  skydio excellent exceeded expectations. fantas...  \n",
       "1  parrot anafi usa offer impressive performance....  \n",
       "2  truly impressed dji mini 2. reliable amazing a...  \n",
       "3  happier parrot anafi usa. satisfying amazing a...  \n",
       "4  dji air 2 impressive exceeded expectations. te...  "
      ]
     },
     "execution_count": 39,
     "metadata": {},
     "output_type": "execute_result"
    }
   ],
   "source": [
    "df.head(5)"
   ]
  },
  {
   "cell_type": "markdown",
   "id": "c43fe438",
   "metadata": {},
   "source": [
    "Let us see now polarity and sentiment of the cleaned review."
   ]
  },
  {
   "cell_type": "code",
   "execution_count": 40,
   "id": "fe9fdf0f",
   "metadata": {},
   "outputs": [],
   "source": [
    "from textblob import TextBlob"
   ]
  },
  {
   "cell_type": "code",
   "execution_count": 41,
   "id": "13e810c1",
   "metadata": {},
   "outputs": [],
   "source": [
    "def polarity(text):\n",
    "    try:\n",
    "        return TextBlob(text).sentiment.polarity\n",
    "    except:\n",
    "        return None\n",
    "        \n",
    "def sentiment(num):\n",
    "    if num<0:\n",
    "        return 'Negative'\n",
    "    elif num>0:\n",
    "        return 'Positive'\n",
    "    else:\n",
    "        return 'Neutral'"
   ]
  },
  {
   "cell_type": "code",
   "execution_count": 42,
   "id": "098deab6",
   "metadata": {},
   "outputs": [],
   "source": [
    "df['Polarity'] = df['Cleaned_Feedback'].apply(polarity)"
   ]
  },
  {
   "cell_type": "code",
   "execution_count": 43,
   "id": "3da9e3a0",
   "metadata": {},
   "outputs": [],
   "source": [
    "df['Sentiment'] = df['Polarity'].apply(sentiment)"
   ]
  },
  {
   "cell_type": "code",
   "execution_count": 44,
   "id": "7c4da0b2",
   "metadata": {},
   "outputs": [
    {
     "data": {
      "text/html": [
       "<div>\n",
       "<style scoped>\n",
       "    .dataframe tbody tr th:only-of-type {\n",
       "        vertical-align: middle;\n",
       "    }\n",
       "\n",
       "    .dataframe tbody tr th {\n",
       "        vertical-align: top;\n",
       "    }\n",
       "\n",
       "    .dataframe thead th {\n",
       "        text-align: right;\n",
       "    }\n",
       "</style>\n",
       "<table border=\"1\" class=\"dataframe\">\n",
       "  <thead>\n",
       "    <tr style=\"text-align: right;\">\n",
       "      <th></th>\n",
       "      <th>Drone Model</th>\n",
       "      <th>Price</th>\n",
       "      <th>Payment Method</th>\n",
       "      <th>Warranty</th>\n",
       "      <th>Usage Frequency</th>\n",
       "      <th>Purpose of Use</th>\n",
       "      <th>Satisfaction</th>\n",
       "      <th>Feedback</th>\n",
       "      <th>Cleaned_Feedback</th>\n",
       "      <th>Polarity</th>\n",
       "      <th>Sentiment</th>\n",
       "    </tr>\n",
       "  </thead>\n",
       "  <tbody>\n",
       "    <tr>\n",
       "      <th>0</th>\n",
       "      <td>Skydio 2</td>\n",
       "      <td>2158.16</td>\n",
       "      <td>Debit Card</td>\n",
       "      <td>1 Year</td>\n",
       "      <td>Monthly</td>\n",
       "      <td>Professional Use</td>\n",
       "      <td>5</td>\n",
       "      <td>The Skydio 2 is excellent and exceeded my expe...</td>\n",
       "      <td>skydio excellent exceeded expectations. fantas...</td>\n",
       "      <td>0.50</td>\n",
       "      <td>Positive</td>\n",
       "    </tr>\n",
       "    <tr>\n",
       "      <th>1</th>\n",
       "      <td>Parrot Anafi USA</td>\n",
       "      <td>1213.72</td>\n",
       "      <td>Credit Card</td>\n",
       "      <td>2 Years</td>\n",
       "      <td>Daily</td>\n",
       "      <td>Professional Use</td>\n",
       "      <td>4</td>\n",
       "      <td>For the price of 1213.72, the Parrot Anafi USA...</td>\n",
       "      <td>parrot anafi usa offer impressive performance....</td>\n",
       "      <td>0.50</td>\n",
       "      <td>Positive</td>\n",
       "    </tr>\n",
       "    <tr>\n",
       "      <th>2</th>\n",
       "      <td>DJI Mini 2</td>\n",
       "      <td>1175.52</td>\n",
       "      <td>Cash</td>\n",
       "      <td>2 Years</td>\n",
       "      <td>Daily</td>\n",
       "      <td>Aerial Photography</td>\n",
       "      <td>2</td>\n",
       "      <td>I'm truly impressed with the DJI Mini 2. It's ...</td>\n",
       "      <td>truly impressed dji mini 2. reliable amazing a...</td>\n",
       "      <td>0.80</td>\n",
       "      <td>Positive</td>\n",
       "    </tr>\n",
       "    <tr>\n",
       "      <th>3</th>\n",
       "      <td>Parrot Anafi USA</td>\n",
       "      <td>1772.46</td>\n",
       "      <td>PayPal</td>\n",
       "      <td>No Warranty</td>\n",
       "      <td>Weekly</td>\n",
       "      <td>Aerial Photography</td>\n",
       "      <td>3</td>\n",
       "      <td>I couldn't be happier with the Parrot Anafi US...</td>\n",
       "      <td>happier parrot anafi usa. satisfying amazing a...</td>\n",
       "      <td>0.55</td>\n",
       "      <td>Positive</td>\n",
       "    </tr>\n",
       "    <tr>\n",
       "      <th>4</th>\n",
       "      <td>DJI Air 2S</td>\n",
       "      <td>1276.78</td>\n",
       "      <td>Credit Card</td>\n",
       "      <td>1 Year</td>\n",
       "      <td>Monthly</td>\n",
       "      <td>Aerial Photography</td>\n",
       "      <td>4</td>\n",
       "      <td>The DJI Air 2S is impressive and exceeded my e...</td>\n",
       "      <td>dji air 2 impressive exceeded expectations. te...</td>\n",
       "      <td>0.50</td>\n",
       "      <td>Positive</td>\n",
       "    </tr>\n",
       "  </tbody>\n",
       "</table>\n",
       "</div>"
      ],
      "text/plain": [
       "        Drone Model    Price Payment Method     Warranty Usage Frequency  \\\n",
       "0          Skydio 2  2158.16     Debit Card       1 Year         Monthly   \n",
       "1  Parrot Anafi USA  1213.72    Credit Card      2 Years           Daily   \n",
       "2        DJI Mini 2  1175.52           Cash      2 Years           Daily   \n",
       "3  Parrot Anafi USA  1772.46         PayPal  No Warranty          Weekly   \n",
       "4        DJI Air 2S  1276.78    Credit Card       1 Year         Monthly   \n",
       "\n",
       "       Purpose of Use  Satisfaction  \\\n",
       "0    Professional Use             5   \n",
       "1    Professional Use             4   \n",
       "2  Aerial Photography             2   \n",
       "3  Aerial Photography             3   \n",
       "4  Aerial Photography             4   \n",
       "\n",
       "                                            Feedback  \\\n",
       "0  The Skydio 2 is excellent and exceeded my expe...   \n",
       "1  For the price of 1213.72, the Parrot Anafi USA...   \n",
       "2  I'm truly impressed with the DJI Mini 2. It's ...   \n",
       "3  I couldn't be happier with the Parrot Anafi US...   \n",
       "4  The DJI Air 2S is impressive and exceeded my e...   \n",
       "\n",
       "                                    Cleaned_Feedback  Polarity Sentiment  \n",
       "0  skydio excellent exceeded expectations. fantas...      0.50  Positive  \n",
       "1  parrot anafi usa offer impressive performance....      0.50  Positive  \n",
       "2  truly impressed dji mini 2. reliable amazing a...      0.80  Positive  \n",
       "3  happier parrot anafi usa. satisfying amazing a...      0.55  Positive  \n",
       "4  dji air 2 impressive exceeded expectations. te...      0.50  Positive  "
      ]
     },
     "execution_count": 44,
     "metadata": {},
     "output_type": "execute_result"
    }
   ],
   "source": [
    "df.head()"
   ]
  },
  {
   "cell_type": "markdown",
   "id": "c6e30cf5",
   "metadata": {},
   "source": [
    "The above result is obtained after cleaning the feedback data with new addition of polarity and sentiment."
   ]
  },
  {
   "cell_type": "code",
   "execution_count": null,
   "id": "c925b9e1",
   "metadata": {},
   "outputs": [],
   "source": []
  },
  {
   "cell_type": "code",
   "execution_count": null,
   "id": "9f84f174",
   "metadata": {},
   "outputs": [],
   "source": []
  },
  {
   "cell_type": "markdown",
   "id": "64186559",
   "metadata": {},
   "source": [
    "Words used to express in feedback."
   ]
  },
  {
   "cell_type": "code",
   "execution_count": null,
   "id": "3ad9351e",
   "metadata": {},
   "outputs": [],
   "source": [
    "from wordcloud import WordCloud\n",
    "from wordcloud import ImageColorGenerator\n",
    "from wordcloud import STOPWORDS"
   ]
  },
  {
   "cell_type": "code",
   "execution_count": null,
   "id": "7db74b0c",
   "metadata": {},
   "outputs": [],
   "source": []
  },
  {
   "cell_type": "code",
   "execution_count": null,
   "id": "578ad09a",
   "metadata": {},
   "outputs": [],
   "source": [
    "text = str(\" \".join(df.Cleaned_Feedback))\n",
    "stopwords = set(STOPWORDS)\n",
    "wordcloud = WordCloud(stopwords=stopwords, background_color=\"white\").generate(text)\n",
    "plt.figure( figsize=(15,10))\n",
    "plt.imshow(wordcloud, interpolation='bilinear')\n",
    "plt.axis(\"off\")\n",
    "plt.show()"
   ]
  },
  {
   "cell_type": "code",
   "execution_count": null,
   "id": "83c3aedb",
   "metadata": {},
   "outputs": [],
   "source": []
  },
  {
   "cell_type": "code",
   "execution_count": null,
   "id": "c64c4272",
   "metadata": {},
   "outputs": [],
   "source": []
  },
  {
   "cell_type": "code",
   "execution_count": 45,
   "id": "2e1456b8",
   "metadata": {},
   "outputs": [
    {
     "name": "stdout",
     "output_type": "stream",
     "text": [
      "['skydio', 'excellent', 'exceeded', 'expectations.', 'fantastic', 'professional', 'parrot', 'anafi', 'usa', 'offer', 'impressive', 'performance.', 'fantastic', 'professional', 'truly', 'impressed', 'dji', 'mini', '2.', 'reliable', 'amazing', 'aerial', 'photography.', 'happier', 'parrot', 'anafi', 'usa.', 'satisfying', 'amazing', 'aerial', 'photography.', 'dji', 'air', '2', 'impressive', 'exceeded', 'expectations.', 'terrific', 'aerial', 'photography.', 'autel', 'evo', 'lite+', 'impressive', 'exceeded', 'expectations.', 'amazing', 'recreation.', 'skydio', 'x2']\n"
     ]
    },
    {
     "data": {
      "image/png": "[encoded data removed]",
      "text/plain": [
       "<Figure size 864x360 with 1 Axes>"
      ]
     },
     "metadata": {
      "needs_background": "light"
     },
     "output_type": "display_data"
    }
   ],
   "source": [
    "# Write the code for plotting the Cleaned Feedback\n",
    "\n",
    "all_words = []\n",
    "for t in df[\"Cleaned_Feedback\"]:\n",
    "    all_words.extend(t.split())\n",
    "\n",
    "print(all_words[:50])\n",
    "\n",
    "# Frequency Distribution\n",
    "freq_dist = nltk.FreqDist(all_words)\n",
    "\n",
    "plt.figure(figsize=(12,5))\n",
    "plt.title('Top 25 most common words')\n",
    "plt.xticks(fontsize=15)\n",
    "\n",
    "freq_dist.plot(25, cumulative=False)\n",
    "\n",
    "plt.show()"
   ]
  },
  {
   "cell_type": "markdown",
   "id": "92d02d33",
   "metadata": {},
   "source": [
    "The frequency chart above shows that the key words within the customer feedback include offer, performance, recreation, aerial, etc shows that people are actively expressing sentiment related to drone price and drone working using these words."
   ]
  },
  {
   "cell_type": "markdown",
   "id": "206adea2",
   "metadata": {},
   "source": [
    "### Sentiment of Customers"
   ]
  },
  {
   "cell_type": "code",
   "execution_count": 46,
   "id": "a34a1ed0",
   "metadata": {},
   "outputs": [
    {
     "data": {
      "text/plain": [
       "Positive    97.7\n",
       "Neutral      2.3\n",
       "Name: Sentiment, dtype: float64"
      ]
     },
     "execution_count": 46,
     "metadata": {},
     "output_type": "execute_result"
    }
   ],
   "source": [
    "df[\"Sentiment\"].value_counts(normalize=True)*100"
   ]
  },
  {
   "cell_type": "code",
   "execution_count": 47,
   "id": "e5c6e883",
   "metadata": {},
   "outputs": [
    {
     "data": {
      "text/plain": [
       "<Figure size 1080x1080 with 0 Axes>"
      ]
     },
     "metadata": {},
     "output_type": "display_data"
    },
    {
     "data": {
      "image/png": "[encoded data removed]",
      "text/plain": [
       "<Figure size 432x288 with 1 Axes>"
      ]
     },
     "metadata": {},
     "output_type": "display_data"
    }
   ],
   "source": [
    "# calculate the percentage of each type of sentiment score\n",
    "sentiment_type_percentages = df[\"Sentiment\"].value_counts(normalize=True) * 100\n",
    "\n",
    "# create the pie chart\n",
    "plt.figure(figsize=(15,15))\n",
    "fig, ax = plt.subplots()\n",
    "ax.pie(\n",
    "    sentiment_type_percentages,\n",
    "    labels=sentiment_type_percentages.index, \n",
    "    colors=['green', 'yellow'], \n",
    "    explode=[0.1, 0.1], \n",
    "    autopct='%1.1f%%'\n",
    "    )\n",
    "\n",
    "plt.show()"
   ]
  },
  {
   "cell_type": "markdown",
   "id": "f343d6b7",
   "metadata": {},
   "source": [
    "In the above pie diagram, we can see 97.7 % positive sentiment and 2.3 % is neutral sentiment."
   ]
  },
  {
   "cell_type": "code",
   "execution_count": null,
   "id": "7dde7768",
   "metadata": {},
   "outputs": [],
   "source": []
  }
 ],
 "metadata": {
  "kernelspec": {
   "display_name": "Python 3 (ipykernel)",
   "language": "python",
   "name": "python3"
  },
  "language_info": {
   "codemirror_mode": {
    "name": "ipython",
    "version": 3
   },
   "file_extension": ".py",
   "mimetype": "text/x-python",
   "name": "python",
   "nbconvert_exporter": "python",
   "pygments_lexer": "ipython3",
   "version": "3.9.12"
  }
 },
 "nbformat": 4,
 "nbformat_minor": 5
}
