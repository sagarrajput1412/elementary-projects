{
 "cells": [
  {
   "cell_type": "markdown",
   "id": "d01b4992",
   "metadata": {},
   "source": [
    "### sentiment-analysis-ev-vehicle-india"
   ]
  },
  {
   "cell_type": "markdown",
   "id": "4c9a2412",
   "metadata": {},
   "source": [
    "This is a general review analysis with repect to EV Vehicle Market in India, without indepth car model wise analysis just to get glimpse of Indian Customers."
   ]
  },
  {
   "cell_type": "code",
   "execution_count": 1,
   "id": "e6c17576",
   "metadata": {},
   "outputs": [],
   "source": [
    "!pip install pandas numpy matplotlib seaborn --quiet"
   ]
  },
  {
   "cell_type": "code",
   "execution_count": 2,
   "id": "5fa82c13",
   "metadata": {},
   "outputs": [],
   "source": [
    "!pip install nltk TextBlob wordcloud --quiet"
   ]
  },
  {
   "cell_type": "markdown",
   "id": "97702dd9",
   "metadata": {},
   "source": [
    "### Import Package & Data"
   ]
  },
  {
   "cell_type": "code",
   "execution_count": 3,
   "id": "ac648954",
   "metadata": {},
   "outputs": [],
   "source": [
    "import pandas as pd\n",
    "import numpy as np\n",
    "import matplotlib.pyplot as plt\n",
    "import seaborn as sns\n",
    "\n",
    "%matplotlib inline"
   ]
  },
  {
   "cell_type": "code",
   "execution_count": 4,
   "id": "74ad538c",
   "metadata": {},
   "outputs": [],
   "source": [
    "df1 = pd.read_csv('cartrade-ev-vehicle.csv')"
   ]
  },
  {
   "cell_type": "code",
   "execution_count": 5,
   "id": "129ad1fe",
   "metadata": {},
   "outputs": [],
   "source": [
    "df2 = pd.read_csv('cardekho-ev-vehicle.csv')"
   ]
  },
  {
   "cell_type": "code",
   "execution_count": 6,
   "id": "b457363f",
   "metadata": {},
   "outputs": [],
   "source": [
    "df3 = pd.read_csv('carwale-ev-vehicle.csv')"
   ]
  },
  {
   "cell_type": "code",
   "execution_count": 7,
   "id": "68aedfc8",
   "metadata": {},
   "outputs": [
    {
     "data": {
      "text/html": [
       "<div>\n",
       "<style scoped>\n",
       "    .dataframe tbody tr th:only-of-type {\n",
       "        vertical-align: middle;\n",
       "    }\n",
       "\n",
       "    .dataframe tbody tr th {\n",
       "        vertical-align: top;\n",
       "    }\n",
       "\n",
       "    .dataframe thead th {\n",
       "        text-align: right;\n",
       "    }\n",
       "</style>\n",
       "<table border=\"1\" class=\"dataframe\">\n",
       "  <thead>\n",
       "    <tr style=\"text-align: right;\">\n",
       "      <th></th>\n",
       "      <th>user_name</th>\n",
       "      <th>car</th>\n",
       "      <th>type</th>\n",
       "      <th>ratings</th>\n",
       "      <th>exterior</th>\n",
       "      <th>interior</th>\n",
       "      <th>ride_quality</th>\n",
       "      <th>mileage</th>\n",
       "      <th>time_of_review</th>\n",
       "      <th>review</th>\n",
       "    </tr>\n",
       "  </thead>\n",
       "  <tbody>\n",
       "    <tr>\n",
       "      <th>0</th>\n",
       "      <td>Kartik</td>\n",
       "      <td>tata tiago ev</td>\n",
       "      <td>ev</td>\n",
       "      <td>5</td>\n",
       "      <td>5</td>\n",
       "      <td>5</td>\n",
       "      <td>5</td>\n",
       "      <td>150 per month</td>\n",
       "      <td>3 months ago</td>\n",
       "      <td>tiago ev more than a car tiago ev is the right...</td>\n",
       "    </tr>\n",
       "    <tr>\n",
       "      <th>1</th>\n",
       "      <td>Ganesh Kailas Patil</td>\n",
       "      <td>tata tiago ev</td>\n",
       "      <td>ev</td>\n",
       "      <td>5</td>\n",
       "      <td>5</td>\n",
       "      <td>5</td>\n",
       "      <td>5</td>\n",
       "      <td>2000 per month</td>\n",
       "      <td>11 months ago</td>\n",
       "      <td>nice car buying tata tiago is very best drivin...</td>\n",
       "    </tr>\n",
       "  </tbody>\n",
       "</table>\n",
       "</div>"
      ],
      "text/plain": [
       "             user_name            car type  ratings  exterior  interior  \\\n",
       "0               Kartik  tata tiago ev   ev        5         5         5   \n",
       "1  Ganesh Kailas Patil  tata tiago ev   ev        5         5         5   \n",
       "\n",
       "   ride_quality         mileage time_of_review  \\\n",
       "0             5   150 per month   3 months ago   \n",
       "1             5  2000 per month  11 months ago   \n",
       "\n",
       "                                              review  \n",
       "0  tiago ev more than a car tiago ev is the right...  \n",
       "1  nice car buying tata tiago is very best drivin...  "
      ]
     },
     "execution_count": 7,
     "metadata": {},
     "output_type": "execute_result"
    }
   ],
   "source": [
    "df1.head(2)"
   ]
  },
  {
   "cell_type": "code",
   "execution_count": 8,
   "id": "266b02da",
   "metadata": {},
   "outputs": [
    {
     "data": {
      "text/html": [
       "<div>\n",
       "<style scoped>\n",
       "    .dataframe tbody tr th:only-of-type {\n",
       "        vertical-align: middle;\n",
       "    }\n",
       "\n",
       "    .dataframe tbody tr th {\n",
       "        vertical-align: top;\n",
       "    }\n",
       "\n",
       "    .dataframe thead th {\n",
       "        text-align: right;\n",
       "    }\n",
       "</style>\n",
       "<table border=\"1\" class=\"dataframe\">\n",
       "  <thead>\n",
       "    <tr style=\"text-align: right;\">\n",
       "      <th></th>\n",
       "      <th>Review</th>\n",
       "      <th>Rating</th>\n",
       "      <th>Attributes Mentioned</th>\n",
       "      <th>Model</th>\n",
       "    </tr>\n",
       "  </thead>\n",
       "  <tbody>\n",
       "    <tr>\n",
       "      <th>0</th>\n",
       "      <td>Using it for the last 1 month. It's a gentle-l...</td>\n",
       "      <td>5.0</td>\n",
       "      <td>['mileage' 'performance' 'power' 'price' 'seat...</td>\n",
       "      <td>hyundai kona</td>\n",
       "    </tr>\n",
       "    <tr>\n",
       "      <th>1</th>\n",
       "      <td>In the beginning, the car performed excellentl...</td>\n",
       "      <td>1.0</td>\n",
       "      <td>['mileage' 'performance' 'service' 'parts']</td>\n",
       "      <td>hyundai kona</td>\n",
       "    </tr>\n",
       "  </tbody>\n",
       "</table>\n",
       "</div>"
      ],
      "text/plain": [
       "                                              Review  Rating  \\\n",
       "0  Using it for the last 1 month. It's a gentle-l...     5.0   \n",
       "1  In the beginning, the car performed excellentl...     1.0   \n",
       "\n",
       "                                Attributes Mentioned         Model  \n",
       "0  ['mileage' 'performance' 'power' 'price' 'seat...  hyundai kona  \n",
       "1        ['mileage' 'performance' 'service' 'parts']  hyundai kona  "
      ]
     },
     "execution_count": 8,
     "metadata": {},
     "output_type": "execute_result"
    }
   ],
   "source": [
    "df2.head(2)"
   ]
  },
  {
   "cell_type": "code",
   "execution_count": 9,
   "id": "a31e55e5",
   "metadata": {},
   "outputs": [
    {
     "data": {
      "text/html": [
       "<div>\n",
       "<style scoped>\n",
       "    .dataframe tbody tr th:only-of-type {\n",
       "        vertical-align: middle;\n",
       "    }\n",
       "\n",
       "    .dataframe tbody tr th {\n",
       "        vertical-align: top;\n",
       "    }\n",
       "\n",
       "    .dataframe thead th {\n",
       "        text-align: right;\n",
       "    }\n",
       "</style>\n",
       "<table border=\"1\" class=\"dataframe\">\n",
       "  <thead>\n",
       "    <tr style=\"text-align: right;\">\n",
       "      <th></th>\n",
       "      <th>review</th>\n",
       "      <th>Exterior</th>\n",
       "      <th>Comfort</th>\n",
       "      <th>Performance</th>\n",
       "      <th>Fuel Economy</th>\n",
       "      <th>Value for Money</th>\n",
       "      <th>Condition</th>\n",
       "      <th>driven</th>\n",
       "      <th>rating</th>\n",
       "      <th>model_name</th>\n",
       "    </tr>\n",
       "  </thead>\n",
       "  <tbody>\n",
       "    <tr>\n",
       "      <th>0</th>\n",
       "      <td>Superb car like as fantastic as petroleum car....</td>\n",
       "      <td>5.0</td>\n",
       "      <td>4.0</td>\n",
       "      <td>5.0</td>\n",
       "      <td>5.0</td>\n",
       "      <td>5.0</td>\n",
       "      <td>New</td>\n",
       "      <td>Few hundred kilometers</td>\n",
       "      <td>5.0</td>\n",
       "      <td>hyundai kona</td>\n",
       "    </tr>\n",
       "    <tr>\n",
       "      <th>1</th>\n",
       "      <td>Anti national, worst service, worst customer c...</td>\n",
       "      <td>1.0</td>\n",
       "      <td>1.0</td>\n",
       "      <td>1.0</td>\n",
       "      <td>1.0</td>\n",
       "      <td>1.0</td>\n",
       "      <td>New</td>\n",
       "      <td>Haven't driven it</td>\n",
       "      <td>0.0</td>\n",
       "      <td>hyundai kona</td>\n",
       "    </tr>\n",
       "  </tbody>\n",
       "</table>\n",
       "</div>"
      ],
      "text/plain": [
       "                                              review  Exterior  Comfort  \\\n",
       "0  Superb car like as fantastic as petroleum car....       5.0      4.0   \n",
       "1  Anti national, worst service, worst customer c...       1.0      1.0   \n",
       "\n",
       "   Performance  Fuel Economy  Value for Money Condition  \\\n",
       "0          5.0           5.0              5.0       New   \n",
       "1          1.0           1.0              1.0       New   \n",
       "\n",
       "                   driven  rating    model_name  \n",
       "0  Few hundred kilometers     5.0  hyundai kona  \n",
       "1       Haven't driven it     0.0  hyundai kona  "
      ]
     },
     "execution_count": 9,
     "metadata": {},
     "output_type": "execute_result"
    }
   ],
   "source": [
    "df3.head(2)"
   ]
  },
  {
   "cell_type": "code",
   "execution_count": 10,
   "id": "bd989741",
   "metadata": {},
   "outputs": [],
   "source": [
    "df1.rename(columns = {'ratings': 'rating'}, inplace = True)"
   ]
  },
  {
   "cell_type": "code",
   "execution_count": 11,
   "id": "187cb4a0",
   "metadata": {},
   "outputs": [
    {
     "data": {
      "text/html": [
       "<div>\n",
       "<style scoped>\n",
       "    .dataframe tbody tr th:only-of-type {\n",
       "        vertical-align: middle;\n",
       "    }\n",
       "\n",
       "    .dataframe tbody tr th {\n",
       "        vertical-align: top;\n",
       "    }\n",
       "\n",
       "    .dataframe thead th {\n",
       "        text-align: right;\n",
       "    }\n",
       "</style>\n",
       "<table border=\"1\" class=\"dataframe\">\n",
       "  <thead>\n",
       "    <tr style=\"text-align: right;\">\n",
       "      <th></th>\n",
       "      <th>user_name</th>\n",
       "      <th>car</th>\n",
       "      <th>type</th>\n",
       "      <th>rating</th>\n",
       "      <th>exterior</th>\n",
       "      <th>interior</th>\n",
       "      <th>ride_quality</th>\n",
       "      <th>mileage</th>\n",
       "      <th>time_of_review</th>\n",
       "      <th>review</th>\n",
       "    </tr>\n",
       "  </thead>\n",
       "  <tbody>\n",
       "    <tr>\n",
       "      <th>0</th>\n",
       "      <td>Kartik</td>\n",
       "      <td>tata tiago ev</td>\n",
       "      <td>ev</td>\n",
       "      <td>5</td>\n",
       "      <td>5</td>\n",
       "      <td>5</td>\n",
       "      <td>5</td>\n",
       "      <td>150 per month</td>\n",
       "      <td>3 months ago</td>\n",
       "      <td>tiago ev more than a car tiago ev is the right...</td>\n",
       "    </tr>\n",
       "  </tbody>\n",
       "</table>\n",
       "</div>"
      ],
      "text/plain": [
       "  user_name            car type  rating  exterior  interior  ride_quality  \\\n",
       "0    Kartik  tata tiago ev   ev       5         5         5             5   \n",
       "\n",
       "         mileage time_of_review  \\\n",
       "0  150 per month   3 months ago   \n",
       "\n",
       "                                              review  \n",
       "0  tiago ev more than a car tiago ev is the right...  "
      ]
     },
     "execution_count": 11,
     "metadata": {},
     "output_type": "execute_result"
    }
   ],
   "source": [
    "df1.head(1)"
   ]
  },
  {
   "cell_type": "code",
   "execution_count": 12,
   "id": "1c936bbb",
   "metadata": {},
   "outputs": [],
   "source": [
    "df2.rename(columns = {'Review': 'review'}, inplace = True)"
   ]
  },
  {
   "cell_type": "code",
   "execution_count": 13,
   "id": "3167ec59",
   "metadata": {},
   "outputs": [],
   "source": [
    "df2.rename(columns = {'Rating': 'rating'}, inplace = True)"
   ]
  },
  {
   "cell_type": "code",
   "execution_count": 14,
   "id": "630ba12c",
   "metadata": {},
   "outputs": [
    {
     "data": {
      "text/html": [
       "<div>\n",
       "<style scoped>\n",
       "    .dataframe tbody tr th:only-of-type {\n",
       "        vertical-align: middle;\n",
       "    }\n",
       "\n",
       "    .dataframe tbody tr th {\n",
       "        vertical-align: top;\n",
       "    }\n",
       "\n",
       "    .dataframe thead th {\n",
       "        text-align: right;\n",
       "    }\n",
       "</style>\n",
       "<table border=\"1\" class=\"dataframe\">\n",
       "  <thead>\n",
       "    <tr style=\"text-align: right;\">\n",
       "      <th></th>\n",
       "      <th>review</th>\n",
       "      <th>rating</th>\n",
       "      <th>Attributes Mentioned</th>\n",
       "      <th>Model</th>\n",
       "    </tr>\n",
       "  </thead>\n",
       "  <tbody>\n",
       "    <tr>\n",
       "      <th>0</th>\n",
       "      <td>Using it for the last 1 month. It's a gentle-l...</td>\n",
       "      <td>5.0</td>\n",
       "      <td>['mileage' 'performance' 'power' 'price' 'seat...</td>\n",
       "      <td>hyundai kona</td>\n",
       "    </tr>\n",
       "  </tbody>\n",
       "</table>\n",
       "</div>"
      ],
      "text/plain": [
       "                                              review  rating  \\\n",
       "0  Using it for the last 1 month. It's a gentle-l...     5.0   \n",
       "\n",
       "                                Attributes Mentioned         Model  \n",
       "0  ['mileage' 'performance' 'power' 'price' 'seat...  hyundai kona  "
      ]
     },
     "execution_count": 14,
     "metadata": {},
     "output_type": "execute_result"
    }
   ],
   "source": [
    "df2.head(1)"
   ]
  },
  {
   "cell_type": "code",
   "execution_count": 15,
   "id": "5dbb5d35",
   "metadata": {},
   "outputs": [],
   "source": [
    "df = pd.concat([df1, df2, df3], axis = 0)"
   ]
  },
  {
   "cell_type": "code",
   "execution_count": 16,
   "id": "60583dee",
   "metadata": {},
   "outputs": [],
   "source": [
    "data = df.loc[:, ['rating','review']]"
   ]
  },
  {
   "cell_type": "code",
   "execution_count": 17,
   "id": "e967f66d",
   "metadata": {},
   "outputs": [
    {
     "data": {
      "text/plain": [
       "rating    0\n",
       "review    0\n",
       "dtype: int64"
      ]
     },
     "execution_count": 17,
     "metadata": {},
     "output_type": "execute_result"
    }
   ],
   "source": [
    "data.isna().sum()"
   ]
  },
  {
   "cell_type": "code",
   "execution_count": 18,
   "id": "526efe4a",
   "metadata": {},
   "outputs": [
    {
     "data": {
      "text/html": [
       "<div>\n",
       "<style scoped>\n",
       "    .dataframe tbody tr th:only-of-type {\n",
       "        vertical-align: middle;\n",
       "    }\n",
       "\n",
       "    .dataframe tbody tr th {\n",
       "        vertical-align: top;\n",
       "    }\n",
       "\n",
       "    .dataframe thead th {\n",
       "        text-align: right;\n",
       "    }\n",
       "</style>\n",
       "<table border=\"1\" class=\"dataframe\">\n",
       "  <thead>\n",
       "    <tr style=\"text-align: right;\">\n",
       "      <th></th>\n",
       "      <th>rating</th>\n",
       "      <th>review</th>\n",
       "    </tr>\n",
       "  </thead>\n",
       "  <tbody>\n",
       "    <tr>\n",
       "      <th>0</th>\n",
       "      <td>5.0</td>\n",
       "      <td>tiago ev more than a car tiago ev is the right...</td>\n",
       "    </tr>\n",
       "    <tr>\n",
       "      <th>1</th>\n",
       "      <td>5.0</td>\n",
       "      <td>nice car buying tata tiago is very best drivin...</td>\n",
       "    </tr>\n",
       "    <tr>\n",
       "      <th>2</th>\n",
       "      <td>4.0</td>\n",
       "      <td>safe and best to go car interior is a bit comp...</td>\n",
       "    </tr>\n",
       "    <tr>\n",
       "      <th>3</th>\n",
       "      <td>5.0</td>\n",
       "      <td>i m loving it its a amazing experience with ta...</td>\n",
       "    </tr>\n",
       "    <tr>\n",
       "      <th>4</th>\n",
       "      <td>5.0</td>\n",
       "      <td>excellent ev excellent ev hatchback for family...</td>\n",
       "    </tr>\n",
       "  </tbody>\n",
       "</table>\n",
       "</div>"
      ],
      "text/plain": [
       "   rating                                             review\n",
       "0     5.0  tiago ev more than a car tiago ev is the right...\n",
       "1     5.0  nice car buying tata tiago is very best drivin...\n",
       "2     4.0  safe and best to go car interior is a bit comp...\n",
       "3     5.0  i m loving it its a amazing experience with ta...\n",
       "4     5.0  excellent ev excellent ev hatchback for family..."
      ]
     },
     "execution_count": 18,
     "metadata": {},
     "output_type": "execute_result"
    }
   ],
   "source": [
    "data.head(5)"
   ]
  },
  {
   "cell_type": "code",
   "execution_count": 19,
   "id": "6e9ea80c",
   "metadata": {},
   "outputs": [
    {
     "data": {
      "text/plain": [
       "(300, 2)"
      ]
     },
     "execution_count": 19,
     "metadata": {},
     "output_type": "execute_result"
    }
   ],
   "source": [
    "data.shape"
   ]
  },
  {
   "cell_type": "markdown",
   "id": "f764df34",
   "metadata": {},
   "source": [
    "### Data Cleaning"
   ]
  },
  {
   "cell_type": "code",
   "execution_count": 20,
   "id": "763f7108",
   "metadata": {},
   "outputs": [],
   "source": [
    "# Stop words Removal\n",
    "import nltk\n",
    "from nltk.corpus import stopwords"
   ]
  },
  {
   "cell_type": "code",
   "execution_count": 21,
   "id": "c7357d2a",
   "metadata": {},
   "outputs": [
    {
     "name": "stderr",
     "output_type": "stream",
     "text": [
      "[nltk_data] Downloading package stopwords to C:\\Users\\Sagar\n",
      "[nltk_data]     Rajput\\AppData\\Roaming\\nltk_data...\n",
      "[nltk_data]   Package stopwords is already up-to-date!\n",
      "[nltk_data] Downloading package wordnet to C:\\Users\\Sagar\n",
      "[nltk_data]     Rajput\\AppData\\Roaming\\nltk_data...\n",
      "[nltk_data]   Package wordnet is already up-to-date!\n"
     ]
    },
    {
     "data": {
      "text/plain": [
       "True"
      ]
     },
     "execution_count": 21,
     "metadata": {},
     "output_type": "execute_result"
    }
   ],
   "source": [
    "nltk.download('stopwords')\n",
    "nltk.download('wordnet')"
   ]
  },
  {
   "cell_type": "code",
   "execution_count": 22,
   "id": "df6df475",
   "metadata": {},
   "outputs": [
    {
     "name": "stdout",
     "output_type": "stream",
     "text": [
      "{'they', 'both', 'against', 'whom', 'your', 'only', 'if', 'herself', 'which', \"she's\", 'same', 'an', 'off', 'but', 'by', 'into', 'more', 'ain', \"it's\", 'because', 'once', 'or', 'ma', 'few', 'down', \"don't\", \"weren't\", 'so', 'from', 'our', 'the', 'while', 'my', 'doesn', 'than', 'do', 'any', 'we', 'about', 'of', 'then', 'between', 'have', 'are', \"you've\", 'theirs', 'out', 'below', 'most', 'd', 're', \"mightn't\", 'what', 'just', 'haven', 'does', 'had', 've', 'he', \"isn't\", 'where', 'themselves', \"wouldn't\", 'myself', 'i', 'her', 'yourself', 'this', 'until', 'will', \"shouldn't\", 'there', 'further', \"mustn't\", \"shan't\", \"didn't\", 'now', 'ours', 'being', 'should', 'mightn', 'here', 'as', 'who', 'after', 'ourselves', 'shan', 'again', 'hers', 'too', 'how', \"that'll\", 'it', 'under', 'am', 'their', 'weren', 'when', 'to', 'its', 'each', 'hadn', 'did', 's', \"aren't\", 'you', 'been', 'those', 'nor', 'some', 'y', 'has', 'for', \"needn't\", 'o', 'didn', 'yourselves', \"couldn't\", 'other', 'won', 'such', 'mustn', 'me', 'that', 'is', 'at', 'aren', \"haven't\", 'these', 'not', 'up', 'll', \"you'll\", 'be', 'during', \"hasn't\", 'wasn', 'him', 'she', 'on', 'wouldn', 'over', 'and', 'isn', \"hadn't\", \"you're\", 'hasn', 'own', 'having', 'shouldn', 'them', 'doing', 'yours', 'a', 'why', 'all', 'needn', \"should've\", 'himself', 'couldn', 'through', 'were', 'above', 'no', \"you'd\", 't', 'his', 'can', 'm', 'in', 'before', 'don', \"wasn't\", \"doesn't\", 'very', \"won't\", 'with', 'itself', 'was'}\n"
     ]
    }
   ],
   "source": [
    "nltk_stopwords = set(stopwords.words('english'))\n",
    "print(nltk_stopwords)"
   ]
  },
  {
   "cell_type": "code",
   "execution_count": 23,
   "id": "ba8e7173",
   "metadata": {},
   "outputs": [
    {
     "data": {
      "text/plain": [
       "179"
      ]
     },
     "execution_count": 23,
     "metadata": {},
     "output_type": "execute_result"
    }
   ],
   "source": [
    "len(nltk_stopwords)"
   ]
  },
  {
   "cell_type": "code",
   "execution_count": 24,
   "id": "4653ed1c",
   "metadata": {},
   "outputs": [
    {
     "name": "stdout",
     "output_type": "stream",
     "text": [
      "{'thereafter', 'beyond', 'except', 'your', 'only', 'fifteen', 'herself', 'front', 'which', 'herein', 'off', 'across', 'two', 'by', 'into', 'because', 'became', 'without', 'latterly', 'so', 'hereafter', 'the', 'anyone', 'whenever', 'along', 'while', 'four', 'system', 'show', 'about', 'part', 'of', 'then', 'are', 'first', 'most', 'un', 'neither', 'what', 'bill', 'due', 'he', 'her', 'rather', 'this', 'alone', 'besides', 'until', 'will', 'further', 'con', 'sometimes', 'anyway', 'ten', 'wherein', 'now', 'ours', 'as', 'thick', 'after', 'many', 'ourselves', 'whither', 'hers', 'how', 'almost', 'becoming', 'noone', 'beside', 'ie', 'someone', 'becomes', 'its', 'otherwise', 'whereas', 'seeming', 'nor', 'been', 'us', 'has', 'eg', 'seemed', 'upon', 'third', 'forty', 'that', 'always', 'see', 'empty', 'cry', 'etc', 'these', 'full', 'describe', 'ltd', 'anywhere', 'during', 'become', 'him', 'therefore', 'name', 'and', 'per', 'fire', 'twenty', 'sixty', 'own', 'them', 'hence', 'thus', 'yours', 'get', 'seems', 'still', 'above', 'toward', 'no', 'go', 'well', 'might', 'even', 'thin', 'his', 'via', 'co', 'amount', 'before', 'interest', 'yet', 'something', 'eleven', 'take', 'whereupon', 'since', 'thereby', 'was', 'nowhere', 'they', 'everything', 'both', 'against', 'whom', 'afterwards', 'made', 'if', 'within', 'same', 'former', 'an', 'latter', 'but', 'more', 'once', 'or', 'could', 'few', 'down', 'from', 'our', 'already', 'throughout', 'serious', 'around', 'please', 'put', 'my', 'than', 'anyhow', 'do', 'any', 'we', 'would', 'nine', 'three', 'between', 'have', 'out', 'together', 'found', 're', 'below', 'however', 'somewhere', 'several', 'nothing', 'had', 'hasnt', 'also', 'amongst', 'where', 'themselves', 'i', 'myself', 'yourself', 'else', 'whether', 'eight', 'there', 'namely', 'everywhere', 'none', 'elsewhere', 'one', 'somehow', 'may', 'find', 'being', 'sometime', 'should', 'mill', 'never', 'here', 'therein', 'done', 'who', 'couldnt', 'must', 'too', 'again', 'top', 'whose', 'formerly', 'twelve', 'give', 'it', 'least', 'under', 'ever', 'whereby', 'am', 'their', 'behind', 'among', 'either', 'when', 'mostly', 'nobody', 'to', 'each', 'whereafter', 'another', 'though', 'thru', 'fill', 'hundred', 'detail', 'you', 'those', 'some', 'for', 'amoungst', 'yourselves', 'indeed', 'bottom', 'fifty', 'less', 'other', 'back', 'whoever', 'enough', 'such', 'nevertheless', 'me', 'is', 'although', 'often', 'at', 'moreover', 'de', 'five', 'mine', 'not', 'up', 'cannot', 'be', 'six', 'whole', 'side', 'she', 'on', 'next', 'sincere', 'onto', 'over', 'towards', 'whatever', 'last', 'perhaps', 'a', 'cant', 'much', 'why', 'all', 'others', 'himself', 'thence', 'hereby', 'through', 'hereupon', 'keep', 'were', 'everyone', 'can', 'in', 'seem', 'thereupon', 'inc', 'beforehand', 'very', 'every', 'move', 'whence', 'wherever', 'with', 'itself', 'call', 'anything', 'meanwhile'}\n"
     ]
    }
   ],
   "source": [
    "from sklearn.feature_extraction.text import ENGLISH_STOP_WORDS\n",
    "sklearn_stopwords = set(ENGLISH_STOP_WORDS)\n",
    "print(sklearn_stopwords)"
   ]
  },
  {
   "cell_type": "code",
   "execution_count": 25,
   "id": "28c2a468",
   "metadata": {},
   "outputs": [
    {
     "data": {
      "text/plain": [
       "318"
      ]
     },
     "execution_count": 25,
     "metadata": {},
     "output_type": "execute_result"
    }
   ],
   "source": [
    "len(sklearn_stopwords)"
   ]
  },
  {
   "cell_type": "code",
   "execution_count": 26,
   "id": "524d0479",
   "metadata": {},
   "outputs": [
    {
     "name": "stdout",
     "output_type": "stream",
     "text": [
      "{'they', 'both', 'against', 'whom', 'your', 'only', 'if', 'herself', 'which', 'same', 'an', 'off', 'but', 'by', 'into', 'more', 'because', 'once', 'or', 'few', 'down', 'so', 'from', 'our', 'the', 'while', 'my', 'than', 'do', 'any', 'we', 'about', 'of', 'then', 'between', 'have', 'are', 'out', 'most', 'below', 're', 'what', 'had', 'he', 'where', 'themselves', 'myself', 'i', 'her', 'yourself', 'this', 'until', 'will', 'there', 'further', 'now', 'ours', 'being', 'should', 'here', 'as', 'who', 'after', 'ourselves', 'again', 'hers', 'too', 'how', 'it', 'under', 'am', 'their', 'when', 'to', 'its', 'each', 'you', 'been', 'those', 'nor', 'some', 'has', 'for', 'yourselves', 'other', 'such', 'me', 'that', 'is', 'at', 'these', 'not', 'up', 'be', 'during', 'him', 'she', 'on', 'over', 'and', 'own', 'them', 'yours', 'a', 'why', 'all', 'himself', 'through', 'were', 'above', 'no', 'his', 'can', 'in', 'before', 'very', 'with', 'itself', 'was'}\n"
     ]
    }
   ],
   "source": [
    "# Find the common stopwords from NLTK & sklearn\n",
    "print(nltk_stopwords.intersection(sklearn_stopwords))"
   ]
  },
  {
   "cell_type": "code",
   "execution_count": 27,
   "id": "e910bc80",
   "metadata": {},
   "outputs": [
    {
     "data": {
      "text/plain": [
       "119"
      ]
     },
     "execution_count": 27,
     "metadata": {},
     "output_type": "execute_result"
    }
   ],
   "source": [
    "len(nltk_stopwords.intersection(sklearn_stopwords))"
   ]
  },
  {
   "cell_type": "code",
   "execution_count": 28,
   "id": "d8005683",
   "metadata": {},
   "outputs": [],
   "source": [
    "# Combining the stopwords from sklearn & NLTK\n",
    "combined_stopwords = nltk_stopwords.union(sklearn_stopwords)"
   ]
  },
  {
   "cell_type": "code",
   "execution_count": 29,
   "id": "0e3afe30",
   "metadata": {},
   "outputs": [
    {
     "data": {
      "text/plain": [
       "378"
      ]
     },
     "execution_count": 29,
     "metadata": {},
     "output_type": "execute_result"
    }
   ],
   "source": [
    "len(combined_stopwords)"
   ]
  },
  {
   "cell_type": "code",
   "execution_count": 30,
   "id": "8c3f8b14",
   "metadata": {},
   "outputs": [],
   "source": [
    "domain_stopwords = ['car', 'ev', 'car.', 'driving', 'km', 'drive']\n",
    "final_stopwords = domain_stopwords + list(combined_stopwords)"
   ]
  },
  {
   "cell_type": "code",
   "execution_count": 31,
   "id": "05f2a5de",
   "metadata": {},
   "outputs": [],
   "source": [
    "# Text Normalization: Stemming or Lemmatization (prefer)\n",
    "from nltk.stem import WordNetLemmatizer\n",
    "lemmatizer = WordNetLemmatizer()"
   ]
  },
  {
   "cell_type": "code",
   "execution_count": 32,
   "id": "ca3dfcba",
   "metadata": {},
   "outputs": [],
   "source": [
    "#create an empty list to collect cleaned data corpus\n",
    "cleaned_review =[]"
   ]
  },
  {
   "cell_type": "code",
   "execution_count": 33,
   "id": "0f60cc39",
   "metadata": {},
   "outputs": [],
   "source": [
    "#loop through each review, remove punctuations, lower case it, join it and add it to corpus\n",
    "for rev in data.review:\n",
    "    rev = rev.lower()\n",
    "    rev = rev.split()\n",
    "    rev = [lemmatizer.lemmatize(word) for word in rev if word not in final_stopwords]\n",
    "    rev = \" \".join(rev)\n",
    "    cleaned_review.append(rev)\n",
    "    "
   ]
  },
  {
   "cell_type": "code",
   "execution_count": 34,
   "id": "0e484d5c",
   "metadata": {},
   "outputs": [],
   "source": [
    "# add the corpus to the original dataframe\n",
    "data['cleaned_review'] = cleaned_review"
   ]
  },
  {
   "cell_type": "code",
   "execution_count": 35,
   "id": "219eb5fa",
   "metadata": {},
   "outputs": [
    {
     "data": {
      "text/html": [
       "<div>\n",
       "<style scoped>\n",
       "    .dataframe tbody tr th:only-of-type {\n",
       "        vertical-align: middle;\n",
       "    }\n",
       "\n",
       "    .dataframe tbody tr th {\n",
       "        vertical-align: top;\n",
       "    }\n",
       "\n",
       "    .dataframe thead th {\n",
       "        text-align: right;\n",
       "    }\n",
       "</style>\n",
       "<table border=\"1\" class=\"dataframe\">\n",
       "  <thead>\n",
       "    <tr style=\"text-align: right;\">\n",
       "      <th></th>\n",
       "      <th>rating</th>\n",
       "      <th>review</th>\n",
       "      <th>cleaned_review</th>\n",
       "    </tr>\n",
       "  </thead>\n",
       "  <tbody>\n",
       "    <tr>\n",
       "      <th>0</th>\n",
       "      <td>5.0</td>\n",
       "      <td>tiago ev more than a car tiago ev is the right...</td>\n",
       "      <td>tiago tiago right city high power loaded featu...</td>\n",
       "    </tr>\n",
       "    <tr>\n",
       "      <th>1</th>\n",
       "      <td>5.0</td>\n",
       "      <td>nice car buying tata tiago is very best drivin...</td>\n",
       "      <td>nice buying tata tiago best nice look goodserv...</td>\n",
       "    </tr>\n",
       "    <tr>\n",
       "      <th>2</th>\n",
       "      <td>4.0</td>\n",
       "      <td>safe and best to go car interior is a bit comp...</td>\n",
       "      <td>safe best interior bit compact comfortable ext...</td>\n",
       "    </tr>\n",
       "    <tr>\n",
       "      <th>3</th>\n",
       "      <td>5.0</td>\n",
       "      <td>i m loving it its a amazing experience with ta...</td>\n",
       "      <td>loving amazing experience tata tiago good buil...</td>\n",
       "    </tr>\n",
       "    <tr>\n",
       "      <th>4</th>\n",
       "      <td>5.0</td>\n",
       "      <td>excellent ev excellent ev hatchback for family...</td>\n",
       "      <td>excellent excellent hatchback family low cost ...</td>\n",
       "    </tr>\n",
       "  </tbody>\n",
       "</table>\n",
       "</div>"
      ],
      "text/plain": [
       "   rating                                             review  \\\n",
       "0     5.0  tiago ev more than a car tiago ev is the right...   \n",
       "1     5.0  nice car buying tata tiago is very best drivin...   \n",
       "2     4.0  safe and best to go car interior is a bit comp...   \n",
       "3     5.0  i m loving it its a amazing experience with ta...   \n",
       "4     5.0  excellent ev excellent ev hatchback for family...   \n",
       "\n",
       "                                      cleaned_review  \n",
       "0  tiago tiago right city high power loaded featu...  \n",
       "1  nice buying tata tiago best nice look goodserv...  \n",
       "2  safe best interior bit compact comfortable ext...  \n",
       "3  loving amazing experience tata tiago good buil...  \n",
       "4  excellent excellent hatchback family low cost ...  "
      ]
     },
     "execution_count": 35,
     "metadata": {},
     "output_type": "execute_result"
    }
   ],
   "source": [
    "data.head(5)"
   ]
  },
  {
   "cell_type": "markdown",
   "id": "819bd3bb",
   "metadata": {},
   "source": [
    "Let us see now polarity and sentiment of the cleaned review."
   ]
  },
  {
   "cell_type": "code",
   "execution_count": 36,
   "id": "bcb031b6",
   "metadata": {},
   "outputs": [],
   "source": [
    "from textblob import TextBlob"
   ]
  },
  {
   "cell_type": "code",
   "execution_count": 37,
   "id": "256cbd91",
   "metadata": {},
   "outputs": [],
   "source": [
    "def polarity(text):\n",
    "    try:\n",
    "        return TextBlob(text).sentiment.polarity\n",
    "    except:\n",
    "        return None\n",
    "        \n",
    "def sentiment(num):\n",
    "    if num<0:\n",
    "        return 'Negative'\n",
    "    elif num>0:\n",
    "        return 'Positive'\n",
    "    else:\n",
    "        return 'Neutral'"
   ]
  },
  {
   "cell_type": "code",
   "execution_count": 38,
   "id": "fb66560a",
   "metadata": {},
   "outputs": [],
   "source": [
    "data['polarity'] = data['cleaned_review'].apply(polarity)"
   ]
  },
  {
   "cell_type": "code",
   "execution_count": 39,
   "id": "bc1936fc",
   "metadata": {},
   "outputs": [],
   "source": [
    "data['sentiment'] = data['polarity'].apply(sentiment)"
   ]
  },
  {
   "cell_type": "code",
   "execution_count": 40,
   "id": "b82567c5",
   "metadata": {},
   "outputs": [
    {
     "data": {
      "text/html": [
       "<div>\n",
       "<style scoped>\n",
       "    .dataframe tbody tr th:only-of-type {\n",
       "        vertical-align: middle;\n",
       "    }\n",
       "\n",
       "    .dataframe tbody tr th {\n",
       "        vertical-align: top;\n",
       "    }\n",
       "\n",
       "    .dataframe thead th {\n",
       "        text-align: right;\n",
       "    }\n",
       "</style>\n",
       "<table border=\"1\" class=\"dataframe\">\n",
       "  <thead>\n",
       "    <tr style=\"text-align: right;\">\n",
       "      <th></th>\n",
       "      <th>rating</th>\n",
       "      <th>review</th>\n",
       "      <th>cleaned_review</th>\n",
       "      <th>polarity</th>\n",
       "      <th>sentiment</th>\n",
       "    </tr>\n",
       "  </thead>\n",
       "  <tbody>\n",
       "    <tr>\n",
       "      <th>0</th>\n",
       "      <td>5.0</td>\n",
       "      <td>tiago ev more than a car tiago ev is the right...</td>\n",
       "      <td>tiago tiago right city high power loaded featu...</td>\n",
       "      <td>0.222857</td>\n",
       "      <td>Positive</td>\n",
       "    </tr>\n",
       "    <tr>\n",
       "      <th>1</th>\n",
       "      <td>5.0</td>\n",
       "      <td>nice car buying tata tiago is very best drivin...</td>\n",
       "      <td>nice buying tata tiago best nice look goodserv...</td>\n",
       "      <td>0.550000</td>\n",
       "      <td>Positive</td>\n",
       "    </tr>\n",
       "    <tr>\n",
       "      <th>2</th>\n",
       "      <td>4.0</td>\n",
       "      <td>safe and best to go car interior is a bit comp...</td>\n",
       "      <td>safe best interior bit compact comfortable ext...</td>\n",
       "      <td>0.557993</td>\n",
       "      <td>Positive</td>\n",
       "    </tr>\n",
       "    <tr>\n",
       "      <th>3</th>\n",
       "      <td>5.0</td>\n",
       "      <td>i m loving it its a amazing experience with ta...</td>\n",
       "      <td>loving amazing experience tata tiago good buil...</td>\n",
       "      <td>0.625000</td>\n",
       "      <td>Positive</td>\n",
       "    </tr>\n",
       "    <tr>\n",
       "      <th>4</th>\n",
       "      <td>5.0</td>\n",
       "      <td>excellent ev excellent ev hatchback for family...</td>\n",
       "      <td>excellent excellent hatchback family low cost ...</td>\n",
       "      <td>0.397222</td>\n",
       "      <td>Positive</td>\n",
       "    </tr>\n",
       "  </tbody>\n",
       "</table>\n",
       "</div>"
      ],
      "text/plain": [
       "   rating                                             review  \\\n",
       "0     5.0  tiago ev more than a car tiago ev is the right...   \n",
       "1     5.0  nice car buying tata tiago is very best drivin...   \n",
       "2     4.0  safe and best to go car interior is a bit comp...   \n",
       "3     5.0  i m loving it its a amazing experience with ta...   \n",
       "4     5.0  excellent ev excellent ev hatchback for family...   \n",
       "\n",
       "                                      cleaned_review  polarity sentiment  \n",
       "0  tiago tiago right city high power loaded featu...  0.222857  Positive  \n",
       "1  nice buying tata tiago best nice look goodserv...  0.550000  Positive  \n",
       "2  safe best interior bit compact comfortable ext...  0.557993  Positive  \n",
       "3  loving amazing experience tata tiago good buil...  0.625000  Positive  \n",
       "4  excellent excellent hatchback family low cost ...  0.397222  Positive  "
      ]
     },
     "execution_count": 40,
     "metadata": {},
     "output_type": "execute_result"
    }
   ],
   "source": [
    "data.head(5)"
   ]
  },
  {
   "cell_type": "markdown",
   "id": "689614ee",
   "metadata": {},
   "source": [
    "The above result is obtained after cleaning the review data with new addition of polarity and sentiment."
   ]
  },
  {
   "cell_type": "markdown",
   "id": "b677fbfe",
   "metadata": {},
   "source": [
    "### Data Visualization"
   ]
  },
  {
   "cell_type": "code",
   "execution_count": 41,
   "id": "742a07aa",
   "metadata": {},
   "outputs": [],
   "source": [
    "per_rating = df.rating.value_counts()"
   ]
  },
  {
   "cell_type": "code",
   "execution_count": 42,
   "id": "c5e4bcfd",
   "metadata": {},
   "outputs": [
    {
     "data": {
      "text/plain": [
       "<AxesSubplot:xlabel='rating', ylabel='count'>"
      ]
     },
     "execution_count": 42,
     "metadata": {},
     "output_type": "execute_result"
    },
    {
     "data": {
      "image/png": "[encoded data removed]",
      "text/plain": [
       "<Figure size 432x288 with 1 Axes>"
      ]
     },
     "metadata": {
      "needs_background": "light"
     },
     "output_type": "display_data"
    }
   ],
   "source": [
    "sns.countplot(x = 'rating', data = data, order = per_rating.index, palette = 'Set1')"
   ]
  },
  {
   "cell_type": "markdown",
   "id": "8943f587",
   "metadata": {},
   "source": [
    "Most of the ratings is good."
   ]
  },
  {
   "cell_type": "markdown",
   "id": "a739b24a",
   "metadata": {},
   "source": [
    "#### Words used to express in reviews"
   ]
  },
  {
   "cell_type": "code",
   "execution_count": 43,
   "id": "471d602f",
   "metadata": {},
   "outputs": [],
   "source": [
    "from wordcloud import WordCloud"
   ]
  },
  {
   "cell_type": "code",
   "execution_count": 55,
   "id": "f5681320",
   "metadata": {},
   "outputs": [],
   "source": [
    "#reviews = \" \".join(data.cleaned_review)\n",
    "#plt.figure(figsize=(20,10))\n",
    "\n",
    "# Create and generate a word cloud image:\n",
    "#wordcloud = WordCloud(height=600,width=600,max_font_size=100, max_words=100, background_color='white').generate(reviews)\n",
    "\n",
    "# Display the generated image:\n",
    "#plt.imshow(wordcloud, interpolation='bilinear')\n",
    "#plt.axis(\"off\")\n",
    "#plt.show()"
   ]
  },
  {
   "cell_type": "code",
   "execution_count": null,
   "id": "d608d23e",
   "metadata": {},
   "outputs": [],
   "source": []
  },
  {
   "cell_type": "code",
   "execution_count": 49,
   "id": "ddc47ab2",
   "metadata": {},
   "outputs": [
    {
     "name": "stdout",
     "output_type": "stream",
     "text": [
      "['tiago', 'tiago', 'right', 'city', 'high', 'power', 'loaded', 'feature', 'like', 'auto', 'head', 'lamprain', 'sensing', 'wiper', 'range', 'issue', 'u', 'max', 'u', 'wont', 'like', 'petrol', 'diesel', 'vehicle', 'category', 'running', 'cost', 'r', 'nice', 'buying', 'tata', 'tiago', 'best', 'nice', 'look', 'goodservices', 'maintenance', 'low', 'safe', 'best', 'interior', 'bit', 'compact', 'comfortable', 'exterior', 'fine', 'sufficient', 'space', 'long', 'trip']\n"
     ]
    },
    {
     "data": {
      "image/png": "[encoded data removed]",
      "text/plain": [
       "<Figure size 864x360 with 1 Axes>"
      ]
     },
     "metadata": {
      "needs_background": "light"
     },
     "output_type": "display_data"
    }
   ],
   "source": [
    "# Write the code for plotting the cleaned review\n",
    "all_words = []\n",
    "for t in data[\"cleaned_review\"]:\n",
    "    all_words.extend(t.split())\n",
    "\n",
    "print(all_words[:50])\n",
    "\n",
    "# Frequency Distribution\n",
    "freq_dist = nltk.FreqDist(all_words)\n",
    "\n",
    "plt.figure(figsize=(12,5))\n",
    "plt.title('Top 25 most common words')\n",
    "plt.xticks(fontsize=15)\n",
    "\n",
    "freq_dist.plot(25, cumulative=False)\n",
    "\n",
    "plt.show()"
   ]
  },
  {
   "cell_type": "markdown",
   "id": "850168e4",
   "metadata": {},
   "source": [
    "The frequency chart above shows that the key words within the reviews include good, tata, best, electric, etc shows that people are actively expressing sentiment related to ev price and ev service time using these words."
   ]
  },
  {
   "cell_type": "markdown",
   "id": "85057e25",
   "metadata": {},
   "source": [
    "### Sentiment of Customers"
   ]
  },
  {
   "cell_type": "code",
   "execution_count": null,
   "id": "ea6c6fdf",
   "metadata": {},
   "outputs": [],
   "source": []
  },
  {
   "cell_type": "code",
   "execution_count": 50,
   "id": "6bce1b42",
   "metadata": {},
   "outputs": [
    {
     "data": {
      "text/plain": [
       "Positive    91.666667\n",
       "Negative     6.000000\n",
       "Neutral      2.333333\n",
       "Name: sentiment, dtype: float64"
      ]
     },
     "execution_count": 50,
     "metadata": {},
     "output_type": "execute_result"
    }
   ],
   "source": [
    "data[\"sentiment\"].value_counts(normalize=True)*100"
   ]
  },
  {
   "cell_type": "code",
   "execution_count": 51,
   "id": "35a2daa7",
   "metadata": {},
   "outputs": [
    {
     "data": {
      "text/plain": [
       "<Figure size 1080x1080 with 0 Axes>"
      ]
     },
     "metadata": {},
     "output_type": "display_data"
    },
    {
     "data": {
      "image/png": "[encoded data removed]",
      "text/plain": [
       "<Figure size 432x288 with 1 Axes>"
      ]
     },
     "metadata": {},
     "output_type": "display_data"
    }
   ],
   "source": [
    "# calculate the percentage of each type of sentiment score\n",
    "sentiment_type_percentages = data[\"sentiment\"].value_counts(normalize=True) * 100\n",
    "\n",
    "# create the pie chart\n",
    "plt.figure(figsize=(15,15))\n",
    "fig, ax = plt.subplots()\n",
    "ax.pie(\n",
    "    sentiment_type_percentages,\n",
    "    labels=sentiment_type_percentages.index, \n",
    "    colors=['green', 'red', 'yellow'], \n",
    "    explode=[0.1, 0.1, 0.1], \n",
    "    autopct='%1.1f%%'\n",
    "    )\n",
    "\n",
    "plt.show()"
   ]
  },
  {
   "cell_type": "markdown",
   "id": "cabe41ff",
   "metadata": {},
   "source": [
    "In the above pie diagram, we can see 91.7 % positive sentiment, 6.0 % negative sentiment and the remaining 2.3 % is neutral sentiment.\n",
    "\n"
   ]
  },
  {
   "cell_type": "code",
   "execution_count": null,
   "id": "cbe3bd14",
   "metadata": {},
   "outputs": [],
   "source": []
  },
  {
   "cell_type": "code",
   "execution_count": null,
   "id": "cc405c5f",
   "metadata": {},
   "outputs": [],
   "source": []
  }
 ],
 "metadata": {
  "kernelspec": {
   "display_name": "Python 3 (ipykernel)",
   "language": "python",
   "name": "python3"
  },
  "language_info": {
   "codemirror_mode": {
    "name": "ipython",
    "version": 3
   },
   "file_extension": ".py",
   "mimetype": "text/x-python",
   "name": "python",
   "nbconvert_exporter": "python",
   "pygments_lexer": "ipython3",
   "version": "3.9.12"
  }
 },
 "nbformat": 4,
 "nbformat_minor": 5
}
