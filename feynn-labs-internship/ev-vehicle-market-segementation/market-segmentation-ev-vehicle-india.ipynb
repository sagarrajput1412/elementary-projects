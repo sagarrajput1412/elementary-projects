{
 "cells": [
  {
   "cell_type": "markdown",
   "id": "05312dfa",
   "metadata": {},
   "source": [
    "## market-segmentation-ev-vehicle-india"
   ]
  },
  {
   "cell_type": "markdown",
   "id": "5f2f038d",
   "metadata": {},
   "source": [
    "Market segment evaluation is a critical process in understanding and targeting specific customer groups within a broader market. It involves analyzing various factors to divide the market into distinct segments based on shared characteristics, needs, and behaviors."
   ]
  },
  {
   "cell_type": "code",
   "execution_count": 1,
   "id": "b00ed847",
   "metadata": {},
   "outputs": [],
   "source": [
    "!pip install pandas numpy matplotlib seaborn --quiet"
   ]
  },
  {
   "cell_type": "code",
   "execution_count": 2,
   "id": "243e27af",
   "metadata": {},
   "outputs": [],
   "source": [
    "!pip install scikit-learn --quiet"
   ]
  },
  {
   "cell_type": "code",
   "execution_count": 3,
   "id": "ca3e688e",
   "metadata": {},
   "outputs": [],
   "source": [
    "!pip install bioinfokit --quiet"
   ]
  },
  {
   "cell_type": "markdown",
   "id": "7151725b",
   "metadata": {},
   "source": [
    "### Import Package & Data"
   ]
  },
  {
   "cell_type": "code",
   "execution_count": 4,
   "id": "c22e725e",
   "metadata": {},
   "outputs": [],
   "source": [
    "import pandas as pd\n",
    "import numpy as np\n",
    "import matplotlib.pyplot as plt\n",
    "import seaborn as sns\n",
    "from sklearn.preprocessing import OneHotEncoder\n",
    "from sklearn.preprocessing import MinMaxScaler\n",
    "\n",
    "%matplotlib inline"
   ]
  },
  {
   "cell_type": "code",
   "execution_count": 5,
   "id": "4df4d69b",
   "metadata": {},
   "outputs": [],
   "source": [
    "df = pd.read_csv('carwale-ev-vehicle.csv')"
   ]
  },
  {
   "cell_type": "code",
   "execution_count": 6,
   "id": "77dfd362",
   "metadata": {},
   "outputs": [
    {
     "data": {
      "text/html": [
       "<div>\n",
       "<style scoped>\n",
       "    .dataframe tbody tr th:only-of-type {\n",
       "        vertical-align: middle;\n",
       "    }\n",
       "\n",
       "    .dataframe tbody tr th {\n",
       "        vertical-align: top;\n",
       "    }\n",
       "\n",
       "    .dataframe thead th {\n",
       "        text-align: right;\n",
       "    }\n",
       "</style>\n",
       "<table border=\"1\" class=\"dataframe\">\n",
       "  <thead>\n",
       "    <tr style=\"text-align: right;\">\n",
       "      <th></th>\n",
       "      <th>review</th>\n",
       "      <th>Exterior</th>\n",
       "      <th>Comfort</th>\n",
       "      <th>Performance</th>\n",
       "      <th>Fuel Economy</th>\n",
       "      <th>Value for Money</th>\n",
       "      <th>Condition</th>\n",
       "      <th>driven</th>\n",
       "      <th>rating</th>\n",
       "      <th>model_name</th>\n",
       "    </tr>\n",
       "  </thead>\n",
       "  <tbody>\n",
       "    <tr>\n",
       "      <th>0</th>\n",
       "      <td>Superb car like as fantastic as petroleum car....</td>\n",
       "      <td>5.0</td>\n",
       "      <td>4.0</td>\n",
       "      <td>5.0</td>\n",
       "      <td>5.0</td>\n",
       "      <td>5.0</td>\n",
       "      <td>New</td>\n",
       "      <td>Few hundred kilometers</td>\n",
       "      <td>5.0</td>\n",
       "      <td>hyundai kona</td>\n",
       "    </tr>\n",
       "    <tr>\n",
       "      <th>1</th>\n",
       "      <td>Anti national, worst service, worst customer c...</td>\n",
       "      <td>1.0</td>\n",
       "      <td>1.0</td>\n",
       "      <td>1.0</td>\n",
       "      <td>1.0</td>\n",
       "      <td>1.0</td>\n",
       "      <td>New</td>\n",
       "      <td>Haven't driven it</td>\n",
       "      <td>0.0</td>\n",
       "      <td>hyundai kona</td>\n",
       "    </tr>\n",
       "    <tr>\n",
       "      <th>2</th>\n",
       "      <td>Super happy with it. The car is too good</td>\n",
       "      <td>4.0</td>\n",
       "      <td>5.0</td>\n",
       "      <td>5.0</td>\n",
       "      <td>5.0</td>\n",
       "      <td>4.0</td>\n",
       "      <td>New</td>\n",
       "      <td>Few thousand kilometers</td>\n",
       "      <td>5.0</td>\n",
       "      <td>hyundai kona</td>\n",
       "    </tr>\n",
       "    <tr>\n",
       "      <th>3</th>\n",
       "      <td>Pretty good car, smooth as a glider fast car, ...</td>\n",
       "      <td>5.0</td>\n",
       "      <td>5.0</td>\n",
       "      <td>5.0</td>\n",
       "      <td>5.0</td>\n",
       "      <td>5.0</td>\n",
       "      <td>New</td>\n",
       "      <td>Few thousand kilometers</td>\n",
       "      <td>5.0</td>\n",
       "      <td>hyundai kona</td>\n",
       "    </tr>\n",
       "    <tr>\n",
       "      <th>4</th>\n",
       "      <td>Price difference between petrol and electronic...</td>\n",
       "      <td>4.0</td>\n",
       "      <td>4.0</td>\n",
       "      <td>5.0</td>\n",
       "      <td>3.0</td>\n",
       "      <td>2.0</td>\n",
       "      <td>Not Purchased</td>\n",
       "      <td>Haven't driven it</td>\n",
       "      <td>3.0</td>\n",
       "      <td>hyundai kona</td>\n",
       "    </tr>\n",
       "  </tbody>\n",
       "</table>\n",
       "</div>"
      ],
      "text/plain": [
       "                                              review  Exterior  Comfort  \\\n",
       "0  Superb car like as fantastic as petroleum car....       5.0      4.0   \n",
       "1  Anti national, worst service, worst customer c...       1.0      1.0   \n",
       "2           Super happy with it. The car is too good       4.0      5.0   \n",
       "3  Pretty good car, smooth as a glider fast car, ...       5.0      5.0   \n",
       "4  Price difference between petrol and electronic...       4.0      4.0   \n",
       "\n",
       "   Performance  Fuel Economy  Value for Money      Condition  \\\n",
       "0          5.0           5.0              5.0            New   \n",
       "1          1.0           1.0              1.0            New   \n",
       "2          5.0           5.0              4.0            New   \n",
       "3          5.0           5.0              5.0            New   \n",
       "4          5.0           3.0              2.0  Not Purchased   \n",
       "\n",
       "                    driven  rating    model_name  \n",
       "0   Few hundred kilometers     5.0  hyundai kona  \n",
       "1        Haven't driven it     0.0  hyundai kona  \n",
       "2  Few thousand kilometers     5.0  hyundai kona  \n",
       "3  Few thousand kilometers     5.0  hyundai kona  \n",
       "4        Haven't driven it     3.0  hyundai kona  "
      ]
     },
     "execution_count": 6,
     "metadata": {},
     "output_type": "execute_result"
    }
   ],
   "source": [
    "df.head()"
   ]
  },
  {
   "cell_type": "code",
   "execution_count": 7,
   "id": "8d67258e",
   "metadata": {},
   "outputs": [
    {
     "data": {
      "text/plain": [
       "Index(['review', 'Exterior', 'Comfort', 'Performance', 'Fuel Economy',\n",
       "       'Value for Money', 'Condition', 'driven', 'rating', 'model_name'],\n",
       "      dtype='object')"
      ]
     },
     "execution_count": 7,
     "metadata": {},
     "output_type": "execute_result"
    }
   ],
   "source": [
    "df.columns"
   ]
  },
  {
   "cell_type": "code",
   "execution_count": 8,
   "id": "264121f4",
   "metadata": {},
   "outputs": [
    {
     "data": {
      "text/plain": [
       "(129, 10)"
      ]
     },
     "execution_count": 8,
     "metadata": {},
     "output_type": "execute_result"
    }
   ],
   "source": [
    "df.shape"
   ]
  },
  {
   "cell_type": "code",
   "execution_count": 9,
   "id": "40166244",
   "metadata": {},
   "outputs": [
    {
     "name": "stdout",
     "output_type": "stream",
     "text": [
      "<class 'pandas.core.frame.DataFrame'>\n",
      "RangeIndex: 129 entries, 0 to 128\n",
      "Data columns (total 10 columns):\n",
      " #   Column           Non-Null Count  Dtype  \n",
      "---  ------           --------------  -----  \n",
      " 0   review           129 non-null    object \n",
      " 1   Exterior         129 non-null    float64\n",
      " 2   Comfort          129 non-null    float64\n",
      " 3   Performance      129 non-null    float64\n",
      " 4   Fuel Economy     129 non-null    float64\n",
      " 5   Value for Money  129 non-null    float64\n",
      " 6   Condition        129 non-null    object \n",
      " 7   driven           129 non-null    object \n",
      " 8   rating           129 non-null    float64\n",
      " 9   model_name       129 non-null    object \n",
      "dtypes: float64(6), object(4)\n",
      "memory usage: 10.2+ KB\n"
     ]
    }
   ],
   "source": [
    "df.info()"
   ]
  },
  {
   "cell_type": "code",
   "execution_count": 10,
   "id": "5f122c37",
   "metadata": {},
   "outputs": [
    {
     "data": {
      "text/plain": [
       "review             0\n",
       "Exterior           0\n",
       "Comfort            0\n",
       "Performance        0\n",
       "Fuel Economy       0\n",
       "Value for Money    0\n",
       "Condition          0\n",
       "driven             0\n",
       "rating             0\n",
       "model_name         0\n",
       "dtype: int64"
      ]
     },
     "execution_count": 10,
     "metadata": {},
     "output_type": "execute_result"
    }
   ],
   "source": [
    "df.isna().sum()"
   ]
  },
  {
   "cell_type": "code",
   "execution_count": 11,
   "id": "78e9a72e",
   "metadata": {},
   "outputs": [
    {
     "data": {
      "text/plain": [
       "array(['New', 'Not Purchased', 'Used'], dtype=object)"
      ]
     },
     "execution_count": 11,
     "metadata": {},
     "output_type": "execute_result"
    }
   ],
   "source": [
    "df['Condition'].unique()"
   ]
  },
  {
   "cell_type": "code",
   "execution_count": 12,
   "id": "d861535a",
   "metadata": {},
   "outputs": [
    {
     "data": {
      "text/plain": [
       "New              63\n",
       "Not Purchased    46\n",
       "Used             20\n",
       "Name: Condition, dtype: int64"
      ]
     },
     "execution_count": 12,
     "metadata": {},
     "output_type": "execute_result"
    }
   ],
   "source": [
    "df['Condition'].value_counts()"
   ]
  },
  {
   "cell_type": "code",
   "execution_count": 13,
   "id": "b27643f8",
   "metadata": {},
   "outputs": [
    {
     "data": {
      "text/plain": [
       "array(['Few hundred kilometers', \"Haven't driven it\",\n",
       "       'Few thousand kilometers', 'Did a short drive once',\n",
       "       'Its my mate since ages'], dtype=object)"
      ]
     },
     "execution_count": 13,
     "metadata": {},
     "output_type": "execute_result"
    }
   ],
   "source": [
    "df['driven'].unique()"
   ]
  },
  {
   "cell_type": "code",
   "execution_count": 14,
   "id": "f271bc86",
   "metadata": {},
   "outputs": [
    {
     "data": {
      "text/plain": [
       "Did a short drive once     37\n",
       "Few thousand kilometers    34\n",
       "Few hundred kilometers     31\n",
       "Haven't driven it          25\n",
       "Its my mate since ages      2\n",
       "Name: driven, dtype: int64"
      ]
     },
     "execution_count": 14,
     "metadata": {},
     "output_type": "execute_result"
    }
   ],
   "source": [
    "df['driven'].value_counts()"
   ]
  },
  {
   "cell_type": "code",
   "execution_count": 15,
   "id": "ecc3da8d",
   "metadata": {},
   "outputs": [],
   "source": [
    "df['driven'].replace(\"Its my mate since ages\", \"Haven't driven it\", inplace = True)"
   ]
  },
  {
   "cell_type": "code",
   "execution_count": 16,
   "id": "5dc28152",
   "metadata": {},
   "outputs": [
    {
     "data": {
      "text/plain": [
       "Did a short drive once     37\n",
       "Few thousand kilometers    34\n",
       "Few hundred kilometers     31\n",
       "Haven't driven it          27\n",
       "Name: driven, dtype: int64"
      ]
     },
     "execution_count": 16,
     "metadata": {},
     "output_type": "execute_result"
    }
   ],
   "source": [
    "df['driven'].value_counts()"
   ]
  },
  {
   "cell_type": "markdown",
   "id": "78e7f35d",
   "metadata": {},
   "source": [
    "### Data Preprocessing"
   ]
  },
  {
   "cell_type": "code",
   "execution_count": 17,
   "id": "ac5576cf",
   "metadata": {},
   "outputs": [],
   "source": [
    "# use min max scaling, one hot encoding \n",
    "data = df.copy()"
   ]
  },
  {
   "cell_type": "markdown",
   "id": "30e2b93d",
   "metadata": {},
   "source": [
    "#### Scaling numeric features"
   ]
  },
  {
   "cell_type": "code",
   "execution_count": 18,
   "id": "454306a7",
   "metadata": {},
   "outputs": [],
   "source": [
    "numerical_columns = df.select_dtypes(include=['float64'])"
   ]
  },
  {
   "cell_type": "code",
   "execution_count": 19,
   "id": "e7d813b0",
   "metadata": {},
   "outputs": [
    {
     "data": {
      "text/plain": [
       "Index(['Exterior', 'Comfort', 'Performance', 'Fuel Economy', 'Value for Money',\n",
       "       'rating'],\n",
       "      dtype='object')"
      ]
     },
     "execution_count": 19,
     "metadata": {},
     "output_type": "execute_result"
    }
   ],
   "source": [
    "numerical_columns.columns"
   ]
  },
  {
   "cell_type": "code",
   "execution_count": 20,
   "id": "9d525cdd",
   "metadata": {},
   "outputs": [],
   "source": [
    "# min max scaling"
   ]
  },
  {
   "cell_type": "code",
   "execution_count": 21,
   "id": "d50a9fec",
   "metadata": {},
   "outputs": [],
   "source": [
    "scaler = MinMaxScaler()"
   ]
  },
  {
   "cell_type": "code",
   "execution_count": 22,
   "id": "7e3c978d",
   "metadata": {},
   "outputs": [],
   "source": [
    "scaled_df = scaler.fit_transform(numerical_columns)"
   ]
  },
  {
   "cell_type": "code",
   "execution_count": 23,
   "id": "6f76f2e2",
   "metadata": {},
   "outputs": [],
   "source": [
    "minmax_df = pd.DataFrame(scaled_df, columns=['Exterior', 'Comfort', 'Performance', 'Fuel Economy', 'Value for Money', 'rating'])"
   ]
  },
  {
   "cell_type": "code",
   "execution_count": 24,
   "id": "96004261",
   "metadata": {},
   "outputs": [],
   "source": [
    "df = df.drop(columns=['Exterior', 'Comfort', 'Performance', 'Fuel Economy', 'Value for Money', 'rating'], axis=1)"
   ]
  },
  {
   "cell_type": "code",
   "execution_count": 25,
   "id": "e3f84901",
   "metadata": {},
   "outputs": [],
   "source": [
    "df = pd.concat([df, minmax_df], axis=1)"
   ]
  },
  {
   "cell_type": "code",
   "execution_count": 26,
   "id": "54a0b051",
   "metadata": {},
   "outputs": [
    {
     "data": {
      "text/html": [
       "<div>\n",
       "<style scoped>\n",
       "    .dataframe tbody tr th:only-of-type {\n",
       "        vertical-align: middle;\n",
       "    }\n",
       "\n",
       "    .dataframe tbody tr th {\n",
       "        vertical-align: top;\n",
       "    }\n",
       "\n",
       "    .dataframe thead th {\n",
       "        text-align: right;\n",
       "    }\n",
       "</style>\n",
       "<table border=\"1\" class=\"dataframe\">\n",
       "  <thead>\n",
       "    <tr style=\"text-align: right;\">\n",
       "      <th></th>\n",
       "      <th>review</th>\n",
       "      <th>Condition</th>\n",
       "      <th>driven</th>\n",
       "      <th>model_name</th>\n",
       "      <th>Exterior</th>\n",
       "      <th>Comfort</th>\n",
       "      <th>Performance</th>\n",
       "      <th>Fuel Economy</th>\n",
       "      <th>Value for Money</th>\n",
       "      <th>rating</th>\n",
       "    </tr>\n",
       "  </thead>\n",
       "  <tbody>\n",
       "    <tr>\n",
       "      <th>0</th>\n",
       "      <td>Superb car like as fantastic as petroleum car....</td>\n",
       "      <td>New</td>\n",
       "      <td>Few hundred kilometers</td>\n",
       "      <td>hyundai kona</td>\n",
       "      <td>1.0</td>\n",
       "      <td>0.8</td>\n",
       "      <td>1.0</td>\n",
       "      <td>1.0</td>\n",
       "      <td>1.0</td>\n",
       "      <td>1.0</td>\n",
       "    </tr>\n",
       "    <tr>\n",
       "      <th>1</th>\n",
       "      <td>Anti national, worst service, worst customer c...</td>\n",
       "      <td>New</td>\n",
       "      <td>Haven't driven it</td>\n",
       "      <td>hyundai kona</td>\n",
       "      <td>0.2</td>\n",
       "      <td>0.2</td>\n",
       "      <td>0.2</td>\n",
       "      <td>0.2</td>\n",
       "      <td>0.2</td>\n",
       "      <td>0.0</td>\n",
       "    </tr>\n",
       "  </tbody>\n",
       "</table>\n",
       "</div>"
      ],
      "text/plain": [
       "                                              review Condition  \\\n",
       "0  Superb car like as fantastic as petroleum car....       New   \n",
       "1  Anti national, worst service, worst customer c...       New   \n",
       "\n",
       "                   driven    model_name  Exterior  Comfort  Performance  \\\n",
       "0  Few hundred kilometers  hyundai kona       1.0      0.8          1.0   \n",
       "1       Haven't driven it  hyundai kona       0.2      0.2          0.2   \n",
       "\n",
       "   Fuel Economy  Value for Money  rating  \n",
       "0           1.0              1.0     1.0  \n",
       "1           0.2              0.2     0.0  "
      ]
     },
     "execution_count": 26,
     "metadata": {},
     "output_type": "execute_result"
    }
   ],
   "source": [
    "df.head(2)"
   ]
  },
  {
   "cell_type": "code",
   "execution_count": null,
   "id": "a41be2d7",
   "metadata": {},
   "outputs": [],
   "source": []
  },
  {
   "cell_type": "markdown",
   "id": "8d0a4573",
   "metadata": {},
   "source": [
    "#### Encoding categorical data"
   ]
  },
  {
   "cell_type": "code",
   "execution_count": 27,
   "id": "eaaa4af5",
   "metadata": {},
   "outputs": [],
   "source": [
    "a = ['Condition','driven']"
   ]
  },
  {
   "cell_type": "code",
   "execution_count": 28,
   "id": "33412ac1",
   "metadata": {},
   "outputs": [],
   "source": [
    "categorical_columns = df[a].columns.tolist()                   # input_features is not equal to feature_names_in_"
   ]
  },
  {
   "cell_type": "code",
   "execution_count": 29,
   "id": "ba709592",
   "metadata": {},
   "outputs": [],
   "source": [
    "# one hot encoding"
   ]
  },
  {
   "cell_type": "code",
   "execution_count": 30,
   "id": "1959a320",
   "metadata": {},
   "outputs": [],
   "source": [
    "encoder = OneHotEncoder(sparse=False)"
   ]
  },
  {
   "cell_type": "code",
   "execution_count": 31,
   "id": "06910ecb",
   "metadata": {},
   "outputs": [],
   "source": [
    "one_hot_df = encoder.fit_transform(df[categorical_columns])"
   ]
  },
  {
   "cell_type": "code",
   "execution_count": 32,
   "id": "b4752cb4",
   "metadata": {},
   "outputs": [
    {
     "data": {
      "text/plain": [
       "['Condition_New',\n",
       " 'Condition_Not Purchased',\n",
       " 'Condition_Used',\n",
       " 'driven_Did a short drive once',\n",
       " 'driven_Few hundred kilometers',\n",
       " 'driven_Few thousand kilometers',\n",
       " \"driven_Haven't driven it\"]"
      ]
     },
     "execution_count": 32,
     "metadata": {},
     "output_type": "execute_result"
    }
   ],
   "source": [
    "list(encoder.get_feature_names_out(categorical_columns))"
   ]
  },
  {
   "cell_type": "code",
   "execution_count": 33,
   "id": "4e1cb254",
   "metadata": {},
   "outputs": [],
   "source": [
    "ohe_df = pd.DataFrame(one_hot_df, columns= ['New', 'Not Purchased', 'Used', 'Did a short drive once', 'Few hundred kilometers', 'Few thousand kilometers', \"Haven't driven it\"])"
   ]
  },
  {
   "cell_type": "code",
   "execution_count": 34,
   "id": "b95a0d2c",
   "metadata": {},
   "outputs": [],
   "source": [
    "df = pd.concat([df, ohe_df], axis=1)"
   ]
  },
  {
   "cell_type": "code",
   "execution_count": 35,
   "id": "a1b2a93d",
   "metadata": {},
   "outputs": [],
   "source": [
    "df = df.drop(categorical_columns, axis=1)"
   ]
  },
  {
   "cell_type": "code",
   "execution_count": 36,
   "id": "b19d7dcd",
   "metadata": {},
   "outputs": [
    {
     "data": {
      "text/html": [
       "<div>\n",
       "<style scoped>\n",
       "    .dataframe tbody tr th:only-of-type {\n",
       "        vertical-align: middle;\n",
       "    }\n",
       "\n",
       "    .dataframe tbody tr th {\n",
       "        vertical-align: top;\n",
       "    }\n",
       "\n",
       "    .dataframe thead th {\n",
       "        text-align: right;\n",
       "    }\n",
       "</style>\n",
       "<table border=\"1\" class=\"dataframe\">\n",
       "  <thead>\n",
       "    <tr style=\"text-align: right;\">\n",
       "      <th></th>\n",
       "      <th>review</th>\n",
       "      <th>model_name</th>\n",
       "      <th>Exterior</th>\n",
       "      <th>Comfort</th>\n",
       "      <th>Performance</th>\n",
       "      <th>Fuel Economy</th>\n",
       "      <th>Value for Money</th>\n",
       "      <th>rating</th>\n",
       "      <th>New</th>\n",
       "      <th>Not Purchased</th>\n",
       "      <th>Used</th>\n",
       "      <th>Did a short drive once</th>\n",
       "      <th>Few hundred kilometers</th>\n",
       "      <th>Few thousand kilometers</th>\n",
       "      <th>Haven't driven it</th>\n",
       "    </tr>\n",
       "  </thead>\n",
       "  <tbody>\n",
       "    <tr>\n",
       "      <th>0</th>\n",
       "      <td>Superb car like as fantastic as petroleum car....</td>\n",
       "      <td>hyundai kona</td>\n",
       "      <td>1.0</td>\n",
       "      <td>0.8</td>\n",
       "      <td>1.0</td>\n",
       "      <td>1.0</td>\n",
       "      <td>1.0</td>\n",
       "      <td>1.0</td>\n",
       "      <td>1.0</td>\n",
       "      <td>0.0</td>\n",
       "      <td>0.0</td>\n",
       "      <td>0.0</td>\n",
       "      <td>1.0</td>\n",
       "      <td>0.0</td>\n",
       "      <td>0.0</td>\n",
       "    </tr>\n",
       "    <tr>\n",
       "      <th>1</th>\n",
       "      <td>Anti national, worst service, worst customer c...</td>\n",
       "      <td>hyundai kona</td>\n",
       "      <td>0.2</td>\n",
       "      <td>0.2</td>\n",
       "      <td>0.2</td>\n",
       "      <td>0.2</td>\n",
       "      <td>0.2</td>\n",
       "      <td>0.0</td>\n",
       "      <td>1.0</td>\n",
       "      <td>0.0</td>\n",
       "      <td>0.0</td>\n",
       "      <td>0.0</td>\n",
       "      <td>0.0</td>\n",
       "      <td>0.0</td>\n",
       "      <td>1.0</td>\n",
       "    </tr>\n",
       "  </tbody>\n",
       "</table>\n",
       "</div>"
      ],
      "text/plain": [
       "                                              review    model_name  Exterior  \\\n",
       "0  Superb car like as fantastic as petroleum car....  hyundai kona       1.0   \n",
       "1  Anti national, worst service, worst customer c...  hyundai kona       0.2   \n",
       "\n",
       "   Comfort  Performance  Fuel Economy  Value for Money  rating  New  \\\n",
       "0      0.8          1.0           1.0              1.0     1.0  1.0   \n",
       "1      0.2          0.2           0.2              0.2     0.0  1.0   \n",
       "\n",
       "   Not Purchased  Used  Did a short drive once  Few hundred kilometers  \\\n",
       "0            0.0   0.0                     0.0                     1.0   \n",
       "1            0.0   0.0                     0.0                     0.0   \n",
       "\n",
       "   Few thousand kilometers  Haven't driven it  \n",
       "0                      0.0                0.0  \n",
       "1                      0.0                1.0  "
      ]
     },
     "execution_count": 36,
     "metadata": {},
     "output_type": "execute_result"
    }
   ],
   "source": [
    "df.head(2)"
   ]
  },
  {
   "cell_type": "markdown",
   "id": "f9f6a4c3",
   "metadata": {},
   "source": [
    "### Explore Data"
   ]
  },
  {
   "cell_type": "code",
   "execution_count": 38,
   "id": "97a90568",
   "metadata": {},
   "outputs": [
    {
     "data": {
      "text/html": [
       "<div>\n",
       "<style scoped>\n",
       "    .dataframe tbody tr th:only-of-type {\n",
       "        vertical-align: middle;\n",
       "    }\n",
       "\n",
       "    .dataframe tbody tr th {\n",
       "        vertical-align: top;\n",
       "    }\n",
       "\n",
       "    .dataframe thead th {\n",
       "        text-align: right;\n",
       "    }\n",
       "</style>\n",
       "<table border=\"1\" class=\"dataframe\">\n",
       "  <thead>\n",
       "    <tr style=\"text-align: right;\">\n",
       "      <th></th>\n",
       "      <th>review</th>\n",
       "      <th>Exterior</th>\n",
       "      <th>Comfort</th>\n",
       "      <th>Performance</th>\n",
       "      <th>Fuel Economy</th>\n",
       "      <th>Value for Money</th>\n",
       "      <th>Condition</th>\n",
       "      <th>driven</th>\n",
       "      <th>rating</th>\n",
       "      <th>model_name</th>\n",
       "    </tr>\n",
       "  </thead>\n",
       "  <tbody>\n",
       "    <tr>\n",
       "      <th>0</th>\n",
       "      <td>Superb car like as fantastic as petroleum car....</td>\n",
       "      <td>5.0</td>\n",
       "      <td>4.0</td>\n",
       "      <td>5.0</td>\n",
       "      <td>5.0</td>\n",
       "      <td>5.0</td>\n",
       "      <td>New</td>\n",
       "      <td>Few hundred kilometers</td>\n",
       "      <td>5.0</td>\n",
       "      <td>hyundai kona</td>\n",
       "    </tr>\n",
       "    <tr>\n",
       "      <th>1</th>\n",
       "      <td>Anti national, worst service, worst customer c...</td>\n",
       "      <td>1.0</td>\n",
       "      <td>1.0</td>\n",
       "      <td>1.0</td>\n",
       "      <td>1.0</td>\n",
       "      <td>1.0</td>\n",
       "      <td>New</td>\n",
       "      <td>Haven't driven it</td>\n",
       "      <td>0.0</td>\n",
       "      <td>hyundai kona</td>\n",
       "    </tr>\n",
       "    <tr>\n",
       "      <th>2</th>\n",
       "      <td>Super happy with it. The car is too good</td>\n",
       "      <td>4.0</td>\n",
       "      <td>5.0</td>\n",
       "      <td>5.0</td>\n",
       "      <td>5.0</td>\n",
       "      <td>4.0</td>\n",
       "      <td>New</td>\n",
       "      <td>Few thousand kilometers</td>\n",
       "      <td>5.0</td>\n",
       "      <td>hyundai kona</td>\n",
       "    </tr>\n",
       "    <tr>\n",
       "      <th>3</th>\n",
       "      <td>Pretty good car, smooth as a glider fast car, ...</td>\n",
       "      <td>5.0</td>\n",
       "      <td>5.0</td>\n",
       "      <td>5.0</td>\n",
       "      <td>5.0</td>\n",
       "      <td>5.0</td>\n",
       "      <td>New</td>\n",
       "      <td>Few thousand kilometers</td>\n",
       "      <td>5.0</td>\n",
       "      <td>hyundai kona</td>\n",
       "    </tr>\n",
       "    <tr>\n",
       "      <th>4</th>\n",
       "      <td>Price difference between petrol and electronic...</td>\n",
       "      <td>4.0</td>\n",
       "      <td>4.0</td>\n",
       "      <td>5.0</td>\n",
       "      <td>3.0</td>\n",
       "      <td>2.0</td>\n",
       "      <td>Not Purchased</td>\n",
       "      <td>Haven't driven it</td>\n",
       "      <td>3.0</td>\n",
       "      <td>hyundai kona</td>\n",
       "    </tr>\n",
       "  </tbody>\n",
       "</table>\n",
       "</div>"
      ],
      "text/plain": [
       "                                              review  Exterior  Comfort  \\\n",
       "0  Superb car like as fantastic as petroleum car....       5.0      4.0   \n",
       "1  Anti national, worst service, worst customer c...       1.0      1.0   \n",
       "2           Super happy with it. The car is too good       4.0      5.0   \n",
       "3  Pretty good car, smooth as a glider fast car, ...       5.0      5.0   \n",
       "4  Price difference between petrol and electronic...       4.0      4.0   \n",
       "\n",
       "   Performance  Fuel Economy  Value for Money      Condition  \\\n",
       "0          5.0           5.0              5.0            New   \n",
       "1          1.0           1.0              1.0            New   \n",
       "2          5.0           5.0              4.0            New   \n",
       "3          5.0           5.0              5.0            New   \n",
       "4          5.0           3.0              2.0  Not Purchased   \n",
       "\n",
       "                    driven  rating    model_name  \n",
       "0   Few hundred kilometers     5.0  hyundai kona  \n",
       "1        Haven't driven it     0.0  hyundai kona  \n",
       "2  Few thousand kilometers     5.0  hyundai kona  \n",
       "3  Few thousand kilometers     5.0  hyundai kona  \n",
       "4        Haven't driven it     3.0  hyundai kona  "
      ]
     },
     "execution_count": 38,
     "metadata": {},
     "output_type": "execute_result"
    }
   ],
   "source": [
    "data.head(5)"
   ]
  },
  {
   "cell_type": "code",
   "execution_count": 49,
   "id": "3166fc75",
   "metadata": {},
   "outputs": [
    {
     "data": {
      "image/png": "[encoded data removed]",
      "text/plain": [
       "<Figure size 360x360 with 1 Axes>"
      ]
     },
     "metadata": {
      "needs_background": "light"
     },
     "output_type": "display_data"
    }
   ],
   "source": [
    "plt.rcParams['figure.figsize'] = (5, 5)\n",
    "f = sns.barplot(x = data['model_name'], y = data['rating'])\n",
    "plt.title('EV cars distribution of customers')\n",
    "plt.show()"
   ]
  },
  {
   "cell_type": "code",
   "execution_count": 57,
   "id": "0d846a52",
   "metadata": {},
   "outputs": [
    {
     "data": {
      "image/png": "[encoded data removed]",
      "text/plain": [
       "<Figure size 576x360 with 1 Axes>"
      ]
     },
     "metadata": {
      "needs_background": "light"
     },
     "output_type": "display_data"
    }
   ],
   "source": [
    "plt.rcParams['figure.figsize'] = (8, 5)\n",
    "f = sns.barplot(x = data['Performance'], y = data['Value for Money'])\n",
    "plt.title('Ev car Performance w.r.t. Value for Money')\n",
    "plt.show()"
   ]
  },
  {
   "cell_type": "markdown",
   "id": "89650927",
   "metadata": {},
   "source": [
    "#### Correlation"
   ]
  },
  {
   "cell_type": "markdown",
   "id": "a228bc48",
   "metadata": {},
   "source": [
    "The greater the absolute value of the correlation coefficient, the stronger the relationship and the sign of the correlation coefficient represents the direction of the relationship."
   ]
  },
  {
   "cell_type": "code",
   "execution_count": 58,
   "id": "22e954bc",
   "metadata": {},
   "outputs": [],
   "source": [
    "corr = df.corr().round(2)"
   ]
  },
  {
   "cell_type": "code",
   "execution_count": 59,
   "id": "1b74f580",
   "metadata": {},
   "outputs": [
    {
     "data": {
      "image/png": "[encoded data removed]",
      "text/plain": [
       "<Figure size 1152x864 with 2 Axes>"
      ]
     },
     "metadata": {
      "needs_background": "light"
     },
     "output_type": "display_data"
    }
   ],
   "source": [
    "plt.subplots(figsize=(16, 12))\n",
    "sns.heatmap(corr, vmax=.5, center=0, annot=True,\n",
    "            square=True, linewidths=.5, cbar_kws={'shrink': .5})\n",
    "sns.set(font_scale= 1)\n",
    "plt.show()"
   ]
  },
  {
   "cell_type": "code",
   "execution_count": null,
   "id": "735b3e72",
   "metadata": {},
   "outputs": [],
   "source": []
  },
  {
   "cell_type": "markdown",
   "id": "b4e23d5b",
   "metadata": {},
   "source": [
    "### PCA"
   ]
  },
  {
   "cell_type": "code",
   "execution_count": 60,
   "id": "74986e39",
   "metadata": {},
   "outputs": [
    {
     "data": {
      "text/html": [
       "<div>\n",
       "<style scoped>\n",
       "    .dataframe tbody tr th:only-of-type {\n",
       "        vertical-align: middle;\n",
       "    }\n",
       "\n",
       "    .dataframe tbody tr th {\n",
       "        vertical-align: top;\n",
       "    }\n",
       "\n",
       "    .dataframe thead th {\n",
       "        text-align: right;\n",
       "    }\n",
       "</style>\n",
       "<table border=\"1\" class=\"dataframe\">\n",
       "  <thead>\n",
       "    <tr style=\"text-align: right;\">\n",
       "      <th></th>\n",
       "      <th>review</th>\n",
       "      <th>model_name</th>\n",
       "      <th>Exterior</th>\n",
       "      <th>Comfort</th>\n",
       "      <th>Performance</th>\n",
       "      <th>Fuel Economy</th>\n",
       "      <th>Value for Money</th>\n",
       "      <th>rating</th>\n",
       "      <th>New</th>\n",
       "      <th>Not Purchased</th>\n",
       "      <th>Used</th>\n",
       "      <th>Did a short drive once</th>\n",
       "      <th>Few hundred kilometers</th>\n",
       "      <th>Few thousand kilometers</th>\n",
       "      <th>Haven't driven it</th>\n",
       "    </tr>\n",
       "  </thead>\n",
       "  <tbody>\n",
       "    <tr>\n",
       "      <th>0</th>\n",
       "      <td>Superb car like as fantastic as petroleum car....</td>\n",
       "      <td>hyundai kona</td>\n",
       "      <td>1.0</td>\n",
       "      <td>0.8</td>\n",
       "      <td>1.0</td>\n",
       "      <td>1.0</td>\n",
       "      <td>1.0</td>\n",
       "      <td>1.0</td>\n",
       "      <td>1.0</td>\n",
       "      <td>0.0</td>\n",
       "      <td>0.0</td>\n",
       "      <td>0.0</td>\n",
       "      <td>1.0</td>\n",
       "      <td>0.0</td>\n",
       "      <td>0.0</td>\n",
       "    </tr>\n",
       "    <tr>\n",
       "      <th>1</th>\n",
       "      <td>Anti national, worst service, worst customer c...</td>\n",
       "      <td>hyundai kona</td>\n",
       "      <td>0.2</td>\n",
       "      <td>0.2</td>\n",
       "      <td>0.2</td>\n",
       "      <td>0.2</td>\n",
       "      <td>0.2</td>\n",
       "      <td>0.0</td>\n",
       "      <td>1.0</td>\n",
       "      <td>0.0</td>\n",
       "      <td>0.0</td>\n",
       "      <td>0.0</td>\n",
       "      <td>0.0</td>\n",
       "      <td>0.0</td>\n",
       "      <td>1.0</td>\n",
       "    </tr>\n",
       "  </tbody>\n",
       "</table>\n",
       "</div>"
      ],
      "text/plain": [
       "                                              review    model_name  Exterior  \\\n",
       "0  Superb car like as fantastic as petroleum car....  hyundai kona       1.0   \n",
       "1  Anti national, worst service, worst customer c...  hyundai kona       0.2   \n",
       "\n",
       "   Comfort  Performance  Fuel Economy  Value for Money  rating  New  \\\n",
       "0      0.8          1.0           1.0              1.0     1.0  1.0   \n",
       "1      0.2          0.2           0.2              0.2     0.0  1.0   \n",
       "\n",
       "   Not Purchased  Used  Did a short drive once  Few hundred kilometers  \\\n",
       "0            0.0   0.0                     0.0                     1.0   \n",
       "1            0.0   0.0                     0.0                     0.0   \n",
       "\n",
       "   Few thousand kilometers  Haven't driven it  \n",
       "0                      0.0                0.0  \n",
       "1                      0.0                1.0  "
      ]
     },
     "execution_count": 60,
     "metadata": {},
     "output_type": "execute_result"
    }
   ],
   "source": [
    "df.head(2)"
   ]
  },
  {
   "cell_type": "code",
   "execution_count": 61,
   "id": "a9cda2d4",
   "metadata": {},
   "outputs": [],
   "source": [
    "df1 = df.iloc[:, 2:8]"
   ]
  },
  {
   "cell_type": "code",
   "execution_count": 62,
   "id": "3b0421c8",
   "metadata": {},
   "outputs": [
    {
     "data": {
      "text/html": [
       "<div>\n",
       "<style scoped>\n",
       "    .dataframe tbody tr th:only-of-type {\n",
       "        vertical-align: middle;\n",
       "    }\n",
       "\n",
       "    .dataframe tbody tr th {\n",
       "        vertical-align: top;\n",
       "    }\n",
       "\n",
       "    .dataframe thead th {\n",
       "        text-align: right;\n",
       "    }\n",
       "</style>\n",
       "<table border=\"1\" class=\"dataframe\">\n",
       "  <thead>\n",
       "    <tr style=\"text-align: right;\">\n",
       "      <th></th>\n",
       "      <th>Exterior</th>\n",
       "      <th>Comfort</th>\n",
       "      <th>Performance</th>\n",
       "      <th>Fuel Economy</th>\n",
       "      <th>Value for Money</th>\n",
       "      <th>rating</th>\n",
       "    </tr>\n",
       "  </thead>\n",
       "  <tbody>\n",
       "    <tr>\n",
       "      <th>0</th>\n",
       "      <td>1.0</td>\n",
       "      <td>0.8</td>\n",
       "      <td>1.0</td>\n",
       "      <td>1.0</td>\n",
       "      <td>1.0</td>\n",
       "      <td>1.0</td>\n",
       "    </tr>\n",
       "    <tr>\n",
       "      <th>1</th>\n",
       "      <td>0.2</td>\n",
       "      <td>0.2</td>\n",
       "      <td>0.2</td>\n",
       "      <td>0.2</td>\n",
       "      <td>0.2</td>\n",
       "      <td>0.0</td>\n",
       "    </tr>\n",
       "  </tbody>\n",
       "</table>\n",
       "</div>"
      ],
      "text/plain": [
       "   Exterior  Comfort  Performance  Fuel Economy  Value for Money  rating\n",
       "0       1.0      0.8          1.0           1.0              1.0     1.0\n",
       "1       0.2      0.2          0.2           0.2              0.2     0.0"
      ]
     },
     "execution_count": 62,
     "metadata": {},
     "output_type": "execute_result"
    }
   ],
   "source": [
    "df1.head(2)"
   ]
  },
  {
   "cell_type": "code",
   "execution_count": 63,
   "id": "a2da5e7d",
   "metadata": {},
   "outputs": [],
   "source": [
    "from sklearn.decomposition import PCA"
   ]
  },
  {
   "cell_type": "code",
   "execution_count": 64,
   "id": "221e023c",
   "metadata": {},
   "outputs": [],
   "source": [
    "pca_df = PCA(n_components= 6)"
   ]
  },
  {
   "cell_type": "code",
   "execution_count": 65,
   "id": "62122b9c",
   "metadata": {},
   "outputs": [],
   "source": [
    "pca_features = pca_df.fit_transform(df1)"
   ]
  },
  {
   "cell_type": "code",
   "execution_count": 66,
   "id": "9dbc5581",
   "metadata": {},
   "outputs": [
    {
     "data": {
      "text/plain": [
       "array([[-2.37881996e-01,  5.14528815e-02, -8.73898582e-02,\n",
       "         2.40304051e-02, -1.04589487e-02,  1.51690462e-01],\n",
       "       [ 1.72241068e+00, -3.39679397e-02, -2.29416966e-01,\n",
       "        -8.53469069e-02, -1.03182702e-01, -1.92572132e-02],\n",
       "       [-1.47709563e-01,  4.34323710e-02,  2.77969332e-02,\n",
       "         1.51071242e-01, -5.80727889e-02, -1.31382241e-01],\n",
       "       [-3.10717255e-01, -6.40481037e-03, -1.12933293e-02,\n",
       "        -1.59295057e-02,  1.05062547e-02, -1.67347316e-03],\n",
       "       [ 4.52748747e-01, -7.85736329e-02,  2.77756126e-01,\n",
       "         4.20743519e-02, -2.80702308e-01,  1.22858844e-02],\n",
       "       [-6.77935576e-02,  1.14590578e-01, -2.43960962e-02,\n",
       "         1.69461434e-01, -3.10875722e-02,  2.98454273e-01],\n",
       "       [-3.10717255e-01, -6.40481037e-03, -1.12933293e-02,\n",
       "        -1.59295057e-02,  1.05062547e-02, -1.67347316e-03],\n",
       "       [-3.10717255e-01, -6.40481037e-03, -1.12933293e-02,\n",
       "        -1.59295057e-02,  1.05062547e-02, -1.67347316e-03],\n",
       "       [-3.10717255e-01, -6.40481037e-03, -1.12933293e-02,\n",
       "        -1.59295057e-02,  1.05062547e-02, -1.67347316e-03],\n",
       "       [-3.10717255e-01, -6.40481037e-03, -1.12933293e-02,\n",
       "        -1.59295057e-02,  1.05062547e-02, -1.67347316e-03],\n",
       "       [-3.10717255e-01, -6.40481037e-03, -1.12933293e-02,\n",
       "        -1.59295057e-02,  1.05062547e-02, -1.67347316e-03],\n",
       "       [-3.10717255e-01, -6.40481037e-03, -1.12933293e-02,\n",
       "        -1.59295057e-02,  1.05062547e-02, -1.67347316e-03],\n",
       "       [-3.10717255e-01, -6.40481037e-03, -1.12933293e-02,\n",
       "        -1.59295057e-02,  1.05062547e-02, -1.67347316e-03],\n",
       "       [ 1.51481293e-02, -6.79315699e-02, -7.76342088e-02,\n",
       "         1.55986237e-01, -1.11363088e-01,  3.32254923e-02],\n",
       "       [-2.37881996e-01,  5.14528815e-02, -8.73898582e-02,\n",
       "         2.40304051e-02, -1.04589487e-02,  1.51690462e-01],\n",
       "       [-3.10717255e-01, -6.40481037e-03, -1.12933293e-02,\n",
       "        -1.59295057e-02,  1.05062547e-02, -1.67347316e-03],\n",
       "       [ 1.85990521e-01,  2.19663541e-01,  2.39303031e-01,\n",
       "        -6.88711068e-02, -2.50514726e-02, -1.89579794e-01],\n",
       "       [ 1.05753954e-01,  1.29501673e-01,  5.66621358e-02,\n",
       "         2.60898010e-01,  9.16706070e-02, -1.72327015e-02],\n",
       "       [-9.92922239e-02,  1.53867750e-01, -2.63486415e-01,\n",
       "         1.25519945e-01, -1.00339775e-01,  1.81945754e-01],\n",
       "       [-3.10717255e-01, -6.40481037e-03, -1.12933293e-02,\n",
       "        -1.59295057e-02,  1.05062547e-02, -1.67347316e-03],\n",
       "       [ 6.99173330e-01, -2.59309049e-02,  4.60017358e-02,\n",
       "         1.20126083e-01,  2.78292188e-01,  7.72985835e-02],\n",
       "       [-3.10717255e-01, -6.40481037e-03, -1.12933293e-02,\n",
       "        -1.59295057e-02,  1.05062547e-02, -1.67347316e-03],\n",
       "       [-1.72127483e-01,  9.60100580e-02, -1.87389887e-01,\n",
       "         8.55600343e-02, -7.93745720e-02,  2.85818188e-02],\n",
       "       [-1.36928163e-01,  7.28849745e-02,  1.81069145e-01,\n",
       "        -5.53629903e-02, -5.80008070e-02, -1.77651760e-02],\n",
       "       [ 8.48111110e-01, -9.95171865e-02,  4.06783681e-03,\n",
       "         3.73104541e-02, -6.21641921e-02, -1.14435687e-02],\n",
       "       [-1.40628817e-01,  5.67328864e-02,  5.17004327e-02,\n",
       "         1.29501523e-01, -1.01223689e-02,  1.45090338e-01],\n",
       "       [-3.10717255e-01, -6.40481037e-03, -1.12933293e-02,\n",
       "        -1.59295057e-02,  1.05062547e-02, -1.67347316e-03],\n",
       "       [-3.10717255e-01, -6.40481037e-03, -1.12933293e-02,\n",
       "        -1.59295057e-02,  1.05062547e-02, -1.67347316e-03],\n",
       "       [-3.10717255e-01, -6.40481037e-03, -1.12933293e-02,\n",
       "        -1.59295057e-02,  1.05062547e-02, -1.67347316e-03],\n",
       "       [ 1.47209049e-01, -3.11356461e-01,  1.74089467e-01,\n",
       "         8.93186384e-02,  1.16901241e-01, -2.50003977e-02],\n",
       "       [ 1.10157463e+00, -1.34478844e-02,  3.29330394e-02,\n",
       "         1.47137222e-01,  8.75792038e-02,  1.02705971e-01],\n",
       "       [ 3.69565479e-01,  3.95698253e-02,  2.19689997e-01,\n",
       "         1.86419610e-01, -9.16155093e-03, -2.20806065e-02],\n",
       "       [-3.10717255e-01, -6.40481037e-03, -1.12933293e-02,\n",
       "        -1.59295057e-02,  1.05062547e-02, -1.67347316e-03],\n",
       "       [-3.10717255e-01, -6.40481037e-03, -1.12933293e-02,\n",
       "        -1.59295057e-02,  1.05062547e-02, -1.67347316e-03],\n",
       "       [-5.76871298e-02, -1.25789262e-01, -1.53767992e-03,\n",
       "         1.16026326e-01, -9.03978851e-02, -1.20138443e-01],\n",
       "       [ 1.02657254e-01,  1.76605877e-01,  3.67154970e-02,\n",
       "        -8.66116015e-02,  2.61778029e-01,  7.03702161e-02],\n",
       "       [-3.10717255e-01, -6.40481037e-03, -1.12933293e-02,\n",
       "        -1.59295057e-02,  1.05062547e-02, -1.67347316e-03],\n",
       "       [ 1.68411767e-01,  2.21163054e-01, -6.32845314e-02,\n",
       "        -2.50819723e-02,  1.92862405e-01, -5.27384270e-02],\n",
       "       [-3.10717255e-01, -6.40481037e-03, -1.12933293e-02,\n",
       "        -1.59295057e-02,  1.05062547e-02, -1.67347316e-03],\n",
       "       [ 9.85232082e-02, -4.49999645e-02, -1.11762768e-01,\n",
       "         1.20381976e-01,  5.90089310e-02,  6.11220795e-04],\n",
       "       [ 1.39394912e-01, -8.52512974e-01, -1.57966395e-01,\n",
       "        -1.91154085e-01, -1.51119227e-01,  5.45455164e-02],\n",
       "       [-1.54506917e-01,  7.43844869e-02, -1.21518418e-01,\n",
       "        -1.15738559e-02,  1.59913071e-01,  1.19076190e-01],\n",
       "       [-3.10717255e-01, -6.40481037e-03, -1.12933293e-02,\n",
       "        -1.59295057e-02,  1.05062547e-02, -1.67347316e-03],\n",
       "       [ 2.51595035e-01,  1.03019595e-01, -5.21840205e-03,\n",
       "        -1.69427230e-01, -7.86783519e-02, -1.83719361e-02],\n",
       "       [-3.10717255e-01, -6.40481037e-03, -1.12933293e-02,\n",
       "        -1.59295057e-02,  1.05062547e-02, -1.67347316e-03],\n",
       "       [ 1.72241068e+00, -3.39679397e-02, -2.29416966e-01,\n",
       "        -8.53469069e-02, -1.03182702e-01, -1.92572132e-02],\n",
       "       [-1.61346082e-01,  1.25462662e-01, -3.41176751e-02,\n",
       "        -1.20874198e-01, -7.93025901e-02,  1.42198883e-01],\n",
       "       [-3.10717255e-01, -6.40481037e-03, -1.12933293e-02,\n",
       "        -1.59295057e-02,  1.05062547e-02, -1.67347316e-03],\n",
       "       [-2.34181342e-01,  6.76049696e-02,  4.19788538e-02,\n",
       "        -1.60834109e-01, -5.83373868e-02, -1.11650516e-02],\n",
       "       [-3.10717255e-01, -6.40481037e-03, -1.12933293e-02,\n",
       "        -1.59295057e-02,  1.05062547e-02, -1.67347316e-03],\n",
       "       [-2.34181342e-01,  6.76049696e-02,  4.19788538e-02,\n",
       "        -1.60834109e-01, -5.83373868e-02, -1.11650516e-02],\n",
       "       [-3.10717255e-01, -6.40481037e-03, -1.12933293e-02,\n",
       "        -1.59295057e-02,  1.05062547e-02, -1.67347316e-03],\n",
       "       [-1.44158908e-01, -1.01616663e-01,  1.26442407e-02,\n",
       "        -1.95879024e-01, -9.06624830e-02,  7.87462948e-05],\n",
       "       [-3.10717255e-01, -6.40481037e-03, -1.12933293e-02,\n",
       "        -1.59295057e-02,  1.05062547e-02, -1.67347316e-03],\n",
       "       [-1.57645428e-01,  1.41614750e-01,  9.52510369e-02,\n",
       "        -3.05738712e-01, -1.27181028e-01, -2.06566301e-02],\n",
       "       [-3.10717255e-01, -6.40481037e-03, -1.12933293e-02,\n",
       "        -1.59295057e-02,  1.05062547e-02, -1.67347316e-03],\n",
       "       [-3.10717255e-01, -6.40481037e-03, -1.12933293e-02,\n",
       "        -1.59295057e-02,  1.05062547e-02, -1.67347316e-03],\n",
       "       [-3.10717255e-01, -6.40481037e-03, -1.12933293e-02,\n",
       "        -1.59295057e-02,  1.05062547e-02, -1.67347316e-03],\n",
       "       [ 2.50991080e-01,  3.97633034e-02, -1.14640475e-01,\n",
       "         3.62946895e-01, -2.00907335e-01,  5.68806598e-02],\n",
       "       [-3.10717255e-01, -6.40481037e-03, -1.12933293e-02,\n",
       "        -1.59295057e-02,  1.05062547e-02, -1.67347316e-03],\n",
       "       [-3.10717255e-01, -6.40481037e-03, -1.12933293e-02,\n",
       "        -1.59295057e-02,  1.05062547e-02, -1.67347316e-03],\n",
       "       [-3.10717255e-01, -6.40481037e-03, -1.12933293e-02,\n",
       "        -1.59295057e-02,  1.05062547e-02, -1.67347316e-03],\n",
       "       [ 7.62030911e-01,  1.50235224e-01,  2.74075404e-01,\n",
       "        -2.43379204e-01, -2.68982775e-01,  1.14052391e-01],\n",
       "       [-3.10717255e-01, -6.40481037e-03, -1.12933293e-02,\n",
       "        -1.59295057e-02,  1.05062547e-02, -1.67347316e-03],\n",
       "       [-3.10717255e-01, -6.40481037e-03, -1.12933293e-02,\n",
       "        -1.59295057e-02,  1.05062547e-02, -1.67347316e-03],\n",
       "       [ 7.29655213e-01, -6.37316706e-01,  1.02351544e-01,\n",
       "         4.62399465e-02, -1.38461936e-01,  2.28945851e-02],\n",
       "       [ 6.92334164e-01,  2.51472697e-02,  1.33402478e-01,\n",
       "         1.08257407e-02,  3.90765275e-02,  1.00421277e-01],\n",
       "       [-3.10717255e-01, -6.40481037e-03, -1.12933293e-02,\n",
       "        -1.59295057e-02,  1.05062547e-02, -1.67347316e-03],\n",
       "       [-3.10717255e-01, -6.40481037e-03, -1.12933293e-02,\n",
       "        -1.59295057e-02,  1.05062547e-02, -1.67347316e-03],\n",
       "       [ 1.27002938e-03, -5.02799694e-02, -2.50853059e-01,\n",
       "         1.49108575e-02,  5.86723512e-02,  7.21134523e-03],\n",
       "       [-2.44962742e-01,  3.81523661e-02, -1.11293358e-01,\n",
       "         4.56001234e-02, -5.84093686e-02, -1.24782116e-01],\n",
       "       [-3.10717255e-01, -6.40481037e-03, -1.12933293e-02,\n",
       "        -1.59295057e-02,  1.05062547e-02, -1.67347316e-03],\n",
       "       [-1.47709563e-01,  4.34323710e-02,  2.77969332e-02,\n",
       "         1.51071242e-01, -5.80727889e-02, -1.31382241e-01],\n",
       "       [-2.34181342e-01,  6.76049696e-02,  4.19788538e-02,\n",
       "        -1.60834109e-01, -5.83373868e-02, -1.11650516e-02],\n",
       "       [-3.10717255e-01, -6.40481037e-03, -1.12933293e-02,\n",
       "        -1.59295057e-02,  1.05062547e-02, -1.67347316e-03],\n",
       "       [ 1.66805246e+00,  1.01677648e+00, -1.00606543e-01,\n",
       "         1.16329466e-01,  7.04269102e-02, -9.39268851e-02],\n",
       "       [ 6.95157786e-01, -7.85529744e-01,  3.30137650e-01,\n",
       "         1.59521867e-01,  1.90971131e-01, -3.70835243e-02],\n",
       "       [ 1.54236582e+00,  3.04475326e-01, -1.70747740e-01,\n",
       "        -1.52570754e-02, -3.85325096e-02, -4.17448090e-02],\n",
       "       [ 5.29084892e-01, -8.90686017e-02, -1.69920262e-02,\n",
       "        -2.53049465e-02,  2.98920812e-01, -6.94652272e-02],\n",
       "       [-1.68426829e-01,  1.12162146e-01, -5.80211746e-02,\n",
       "        -9.93044795e-02, -1.27253010e-01, -1.34273695e-01],\n",
       "       [-7.15652297e-02, -1.08137661e-01, -1.74756530e-01,\n",
       "        -2.50490533e-02,  7.96375546e-02, -1.46152590e-01],\n",
       "       [-3.10717255e-01, -6.40481037e-03, -1.12933293e-02,\n",
       "        -1.59295057e-02,  1.05062547e-02, -1.67347316e-03],\n",
       "       [-3.10717255e-01, -6.40481037e-03, -1.12933293e-02,\n",
       "        -1.59295057e-02,  1.05062547e-02, -1.67347316e-03],\n",
       "       [-2.13464076e-01, -1.12480548e-03,  1.27796962e-01,\n",
       "         8.95416126e-02,  1.08428344e-02, -8.27359759e-03],\n",
       "       [ 2.23788748e-02,  1.06570068e-01,  9.07906952e-02,\n",
       "         2.96502271e-01, -7.87014124e-02,  1.53815699e-02],\n",
       "       [-1.23441642e-01, -1.70346438e-01,  9.84623485e-02,\n",
       "         5.44966968e-02, -2.14822618e-02,  2.97020031e-03],\n",
       "       [-3.10717255e-01, -6.40481037e-03, -1.12933293e-02,\n",
       "        -1.59295057e-02,  1.05062547e-02, -1.67347316e-03],\n",
       "       [-3.10717255e-01, -6.40481037e-03, -1.12933293e-02,\n",
       "        -1.59295057e-02,  1.05062547e-02, -1.67347316e-03],\n",
       "       [-3.10717255e-01, -6.40481037e-03, -1.12933293e-02,\n",
       "        -1.59295057e-02,  1.05062547e-02, -1.67347316e-03],\n",
       "       [-3.10717255e-01, -6.40481037e-03, -1.12933293e-02,\n",
       "        -1.59295057e-02,  1.05062547e-02, -1.67347316e-03],\n",
       "       [ 3.00864266e-01,  2.03317975e-01,  4.44264791e-01,\n",
       "        -6.05338786e-02,  2.14572750e-01, -1.05685546e-01],\n",
       "       [-3.10717255e-01, -6.40481037e-03, -1.12933293e-02,\n",
       "        -1.59295057e-02,  1.05062547e-02, -1.67347316e-03],\n",
       "       [-2.44962742e-01,  3.81523661e-02, -1.11293358e-01,\n",
       "         4.56001234e-02, -5.84093686e-02, -1.24782116e-01],\n",
       "       [-8.21050496e-02, -7.32115748e-02, -2.16724500e-01,\n",
       "         5.05151185e-02, -1.11699668e-01,  3.98256167e-02],\n",
       "       [-3.10717255e-01, -6.40481037e-03, -1.12933293e-02,\n",
       "        -1.59295057e-02,  1.05062547e-02, -1.67347316e-03],\n",
       "       [-2.27342176e-01,  1.65267950e-02, -4.54218887e-02,\n",
       "        -5.15337667e-02,  1.80878274e-01, -3.42877446e-02],\n",
       "       [ 1.09696188e-01,  2.10032451e-01,  2.97335090e-01,\n",
       "        -5.48365641e-02, -1.47473072e-01,  1.19507056e-01],\n",
       "       [ 4.77208479e-01, -1.51277379e-01,  2.56226853e-01,\n",
       "         5.42408036e-02,  1.97800996e-01,  7.96575630e-02],\n",
       "       [-3.10717255e-01, -6.40481037e-03, -1.12933293e-02,\n",
       "        -1.59295057e-02,  1.05062547e-02, -1.67347316e-03],\n",
       "       [-3.10717255e-01, -6.40481037e-03, -1.12933293e-02,\n",
       "        -1.59295057e-02,  1.05062547e-02, -1.67347316e-03],\n",
       "       [-2.34181342e-01,  6.76049696e-02,  4.19788538e-02,\n",
       "        -1.60834109e-01, -5.83373868e-02, -1.11650516e-02],\n",
       "       [ 2.86190400e-01,  1.66382199e-02,  2.53818556e-01,\n",
       "         2.22023871e-01, -1.79533570e-01,  1.05336650e-02],\n",
       "       [-8.87524040e-02,  1.18941663e-01, -2.21518446e-01,\n",
       "         4.99557733e-02,  9.09974475e-02, -4.03245268e-03],\n",
       "       [ 8.81333874e-02,  1.51127244e-01, -9.20933319e-03,\n",
       "         3.58031900e-01, -1.47617036e-01, -1.07727073e-01],\n",
       "       [-7.79710035e-02,  1.48394267e-01, -6.82462345e-02,\n",
       "        -1.56478459e-01,  9.10694293e-02,  1.09584612e-01],\n",
       "       [-3.10717255e-01, -6.40481037e-03, -1.12933293e-02,\n",
       "        -1.59295057e-02,  1.05062547e-02, -1.67347316e-03],\n",
       "       [-3.10717255e-01, -6.40481037e-03, -1.12933293e-02,\n",
       "        -1.59295057e-02,  1.05062547e-02, -1.67347316e-03],\n",
       "       [-3.10717255e-01, -6.40481037e-03, -1.12933293e-02,\n",
       "        -1.59295057e-02,  1.05062547e-02, -1.67347316e-03],\n",
       "       [-3.10717255e-01, -6.40481037e-03, -1.12933293e-02,\n",
       "        -1.59295057e-02,  1.05062547e-02, -1.67347316e-03],\n",
       "       [-3.10717255e-01, -6.40481037e-03, -1.12933293e-02,\n",
       "        -1.59295057e-02,  1.05062547e-02, -1.67347316e-03],\n",
       "       [ 1.44153049e+00, -2.54949765e-01, -6.59256315e-03,\n",
       "        -1.03461473e-01,  1.24457389e-01,  8.30877164e-02],\n",
       "       [-3.10717255e-01, -6.40481037e-03, -1.12933293e-02,\n",
       "        -1.59295057e-02,  1.05062547e-02, -1.67347316e-03],\n",
       "       [ 1.58382091e+00, -1.36382808e-01, -5.33204085e-02,\n",
       "        -1.86836447e-01, -1.33018755e-02, -4.95125052e-02],\n",
       "       [-3.10717255e-01, -6.40481037e-03, -1.12933293e-02,\n",
       "        -1.59295057e-02,  1.05062547e-02, -1.67347316e-03],\n",
       "       [ 1.72241068e+00, -3.39679397e-02, -2.29416966e-01,\n",
       "        -8.53469069e-02, -1.03182702e-01, -1.92572132e-02],\n",
       "       [-3.10717255e-01, -6.40481037e-03, -1.12933293e-02,\n",
       "        -1.59295057e-02,  1.05062547e-02, -1.67347316e-03],\n",
       "       [-3.10717255e-01, -6.40481037e-03, -1.12933293e-02,\n",
       "        -1.59295057e-02,  1.05062547e-02, -1.67347316e-03],\n",
       "       [-3.10717255e-01, -6.40481037e-03, -1.12933293e-02,\n",
       "        -1.59295057e-02,  1.05062547e-02, -1.67347316e-03],\n",
       "       [-2.44962742e-01,  3.81523661e-02, -1.11293358e-01,\n",
       "         4.56001234e-02, -5.84093686e-02, -1.24782116e-01],\n",
       "       [ 1.33802153e+00,  1.57503281e-01,  1.05348846e-01,\n",
       "        -1.78276245e-01,  1.20263940e-01,  5.11085421e-02],\n",
       "       [ 1.02223862e-01, -2.88478764e-02,  1.76059438e-02,\n",
       "        -6.44825379e-02,  1.11304929e-02, -1.62244293e-01],\n",
       "       [-3.10717255e-01, -6.40481037e-03, -1.12933293e-02,\n",
       "        -1.59295057e-02,  1.05062547e-02, -1.67347316e-03],\n",
       "       [ 7.04995712e-01, -6.49117709e-01, -2.24139518e-01,\n",
       "         1.11598799e-01,  3.15015220e-02, -1.16736627e-01],\n",
       "       [-3.10717255e-01, -6.40481037e-03, -1.12933293e-02,\n",
       "        -1.59295057e-02,  1.05062547e-02, -1.67347316e-03],\n",
       "       [ 2.06557788e-01, -1.02673561e-02,  1.80599734e-01,\n",
       "         1.94188620e-02,  5.94174926e-02,  1.07628161e-01],\n",
       "       [-3.10717255e-01, -6.40481037e-03, -1.12933293e-02,\n",
       "        -1.59295057e-02,  1.05062547e-02, -1.67347316e-03],\n",
       "       [-3.10717255e-01, -6.40481037e-03, -1.12933293e-02,\n",
       "        -1.59295057e-02,  1.05062547e-02, -1.67347316e-03],\n",
       "       [-8.87524040e-02,  1.18941663e-01, -2.21518446e-01,\n",
       "         4.99557733e-02,  9.09974475e-02, -4.03245268e-03],\n",
       "       [ 1.34114108e-01,  1.57454764e-01,  5.12521910e-01,\n",
       "         1.06746434e-02, -1.26171289e-01, -4.04570034e-02]])"
      ]
     },
     "execution_count": 66,
     "metadata": {},
     "output_type": "execute_result"
    }
   ],
   "source": [
    "pca_features"
   ]
  },
  {
   "cell_type": "code",
   "execution_count": 67,
   "id": "174c0188",
   "metadata": {},
   "outputs": [
    {
     "data": {
      "text/plain": [
       "array([0.26181613, 0.03247519, 0.01550306, 0.01055633, 0.00840555,\n",
       "       0.00465461])"
      ]
     },
     "execution_count": 67,
     "metadata": {},
     "output_type": "execute_result"
    }
   ],
   "source": [
    "pca_df.explained_variance_"
   ]
  },
  {
   "cell_type": "markdown",
   "id": "1d625a0e",
   "metadata": {},
   "source": [
    "The amount of variance explained by each of the selected components. Equal to n_components largest eigenvalues of the covariance matrix of X."
   ]
  },
  {
   "cell_type": "code",
   "execution_count": 68,
   "id": "c271eae8",
   "metadata": {},
   "outputs": [
    {
     "data": {
      "text/plain": [
       "array([0.78526577, 0.09740291, 0.04649836, 0.03166162, 0.02521077,\n",
       "       0.01396057])"
      ]
     },
     "execution_count": 68,
     "metadata": {},
     "output_type": "execute_result"
    }
   ],
   "source": [
    "pca_df.explained_variance_ratio_"
   ]
  },
  {
   "cell_type": "markdown",
   "id": "0f7def3f",
   "metadata": {},
   "source": [
    "Percentage of variance explained by each of the selected components.\n",
    "If n_components is not set then all components are stored and the sum of the ratios is equal to 1.0."
   ]
  },
  {
   "cell_type": "code",
   "execution_count": 69,
   "id": "84299a60",
   "metadata": {},
   "outputs": [],
   "source": [
    "summary_df = pd.DataFrame({\n",
    "    'Standard deviation': np.sqrt(pca_df.explained_variance_),\n",
    "    'Proportion of Variance': pca_df.explained_variance_ratio_,\n",
    "    'Cumulative Proportion': pca_df.explained_variance_ratio_.cumsum()\n",
    "}).T\n",
    "\n",
    "for i in summary_df.columns:\n",
    "    summary_df.rename(columns ={i:f\"PC{i+1}\"}, inplace=True)"
   ]
  },
  {
   "cell_type": "code",
   "execution_count": 70,
   "id": "b8c7ca0c",
   "metadata": {},
   "outputs": [
    {
     "data": {
      "text/html": [
       "<div>\n",
       "<style scoped>\n",
       "    .dataframe tbody tr th:only-of-type {\n",
       "        vertical-align: middle;\n",
       "    }\n",
       "\n",
       "    .dataframe tbody tr th {\n",
       "        vertical-align: top;\n",
       "    }\n",
       "\n",
       "    .dataframe thead th {\n",
       "        text-align: right;\n",
       "    }\n",
       "</style>\n",
       "<table border=\"1\" class=\"dataframe\">\n",
       "  <thead>\n",
       "    <tr style=\"text-align: right;\">\n",
       "      <th></th>\n",
       "      <th>PC1</th>\n",
       "      <th>PC2</th>\n",
       "      <th>PC3</th>\n",
       "      <th>PC4</th>\n",
       "      <th>PC5</th>\n",
       "      <th>PC6</th>\n",
       "    </tr>\n",
       "  </thead>\n",
       "  <tbody>\n",
       "    <tr>\n",
       "      <th>Standard deviation</th>\n",
       "      <td>0.5117</td>\n",
       "      <td>0.1802</td>\n",
       "      <td>0.1245</td>\n",
       "      <td>0.1027</td>\n",
       "      <td>0.0917</td>\n",
       "      <td>0.0682</td>\n",
       "    </tr>\n",
       "    <tr>\n",
       "      <th>Proportion of Variance</th>\n",
       "      <td>0.7853</td>\n",
       "      <td>0.0974</td>\n",
       "      <td>0.0465</td>\n",
       "      <td>0.0317</td>\n",
       "      <td>0.0252</td>\n",
       "      <td>0.0140</td>\n",
       "    </tr>\n",
       "    <tr>\n",
       "      <th>Cumulative Proportion</th>\n",
       "      <td>0.7853</td>\n",
       "      <td>0.8827</td>\n",
       "      <td>0.9292</td>\n",
       "      <td>0.9608</td>\n",
       "      <td>0.9860</td>\n",
       "      <td>1.0000</td>\n",
       "    </tr>\n",
       "  </tbody>\n",
       "</table>\n",
       "</div>"
      ],
      "text/plain": [
       "                           PC1     PC2     PC3     PC4     PC5     PC6\n",
       "Standard deviation      0.5117  0.1802  0.1245  0.1027  0.0917  0.0682\n",
       "Proportion of Variance  0.7853  0.0974  0.0465  0.0317  0.0252  0.0140\n",
       "Cumulative Proportion   0.7853  0.8827  0.9292  0.9608  0.9860  1.0000"
      ]
     },
     "execution_count": 70,
     "metadata": {},
     "output_type": "execute_result"
    }
   ],
   "source": [
    "summary_df.round(4)"
   ]
  },
  {
   "cell_type": "code",
   "execution_count": null,
   "id": "4f6c3c5b",
   "metadata": {},
   "outputs": [],
   "source": []
  },
  {
   "cell_type": "code",
   "execution_count": 71,
   "id": "45055ad1",
   "metadata": {},
   "outputs": [],
   "source": [
    "#pca_df.components_"
   ]
  },
  {
   "cell_type": "markdown",
   "id": "11997d42",
   "metadata": {},
   "source": [
    "The estimated number of components. When n_components is set to ‘mle’ or a number between 0 and 1 (with svd_solver == ‘full’) this number is estimated from input data. Otherwise it equals the parameter n_components, or the lesser value of n_features and n_samples if n_components is None."
   ]
  },
  {
   "cell_type": "code",
   "execution_count": 72,
   "id": "c93a5bd3",
   "metadata": {},
   "outputs": [],
   "source": [
    "pca_matrix = pd.DataFrame(pca_df.components_, columns = df1.columns).T\n",
    "for i in pca_matrix.columns:\n",
    "    pca_matrix.rename(columns ={i:f\"PC{i+1}\"}, inplace=True)"
   ]
  },
  {
   "cell_type": "code",
   "execution_count": 73,
   "id": "727a5985",
   "metadata": {},
   "outputs": [],
   "source": [
    "pca_matrix=pca_matrix*-1"
   ]
  },
  {
   "cell_type": "code",
   "execution_count": 74,
   "id": "cb22c5b7",
   "metadata": {},
   "outputs": [
    {
     "data": {
      "text/html": [
       "<div>\n",
       "<style scoped>\n",
       "    .dataframe tbody tr th:only-of-type {\n",
       "        vertical-align: middle;\n",
       "    }\n",
       "\n",
       "    .dataframe tbody tr th {\n",
       "        vertical-align: top;\n",
       "    }\n",
       "\n",
       "    .dataframe thead th {\n",
       "        text-align: right;\n",
       "    }\n",
       "</style>\n",
       "<table border=\"1\" class=\"dataframe\">\n",
       "  <thead>\n",
       "    <tr style=\"text-align: right;\">\n",
       "      <th></th>\n",
       "      <th>PC1</th>\n",
       "      <th>PC2</th>\n",
       "      <th>PC3</th>\n",
       "      <th>PC4</th>\n",
       "      <th>PC5</th>\n",
       "      <th>PC6</th>\n",
       "    </tr>\n",
       "  </thead>\n",
       "  <tbody>\n",
       "    <tr>\n",
       "      <th>Exterior</th>\n",
       "      <td>0.329</td>\n",
       "      <td>0.223</td>\n",
       "      <td>-0.500</td>\n",
       "      <td>0.308</td>\n",
       "      <td>-0.345</td>\n",
       "      <td>-0.616</td>\n",
       "    </tr>\n",
       "    <tr>\n",
       "      <th>Comfort</th>\n",
       "      <td>0.364</td>\n",
       "      <td>0.289</td>\n",
       "      <td>-0.380</td>\n",
       "      <td>0.200</td>\n",
       "      <td>-0.105</td>\n",
       "      <td>0.767</td>\n",
       "    </tr>\n",
       "    <tr>\n",
       "      <th>Performance</th>\n",
       "      <td>0.417</td>\n",
       "      <td>0.115</td>\n",
       "      <td>-0.171</td>\n",
       "      <td>-0.178</td>\n",
       "      <td>0.852</td>\n",
       "      <td>-0.163</td>\n",
       "    </tr>\n",
       "    <tr>\n",
       "      <th>Fuel Economy</th>\n",
       "      <td>0.383</td>\n",
       "      <td>0.370</td>\n",
       "      <td>0.266</td>\n",
       "      <td>-0.725</td>\n",
       "      <td>-0.344</td>\n",
       "      <td>-0.047</td>\n",
       "    </tr>\n",
       "    <tr>\n",
       "      <th>Value for Money</th>\n",
       "      <td>0.486</td>\n",
       "      <td>0.026</td>\n",
       "      <td>0.695</td>\n",
       "      <td>0.527</td>\n",
       "      <td>0.002</td>\n",
       "      <td>-0.033</td>\n",
       "    </tr>\n",
       "    <tr>\n",
       "      <th>rating</th>\n",
       "      <td>0.450</td>\n",
       "      <td>-0.846</td>\n",
       "      <td>-0.147</td>\n",
       "      <td>-0.175</td>\n",
       "      <td>-0.162</td>\n",
       "      <td>0.056</td>\n",
       "    </tr>\n",
       "  </tbody>\n",
       "</table>\n",
       "</div>"
      ],
      "text/plain": [
       "                   PC1    PC2    PC3    PC4    PC5    PC6\n",
       "Exterior         0.329  0.223 -0.500  0.308 -0.345 -0.616\n",
       "Comfort          0.364  0.289 -0.380  0.200 -0.105  0.767\n",
       "Performance      0.417  0.115 -0.171 -0.178  0.852 -0.163\n",
       "Fuel Economy     0.383  0.370  0.266 -0.725 -0.344 -0.047\n",
       "Value for Money  0.486  0.026  0.695  0.527  0.002 -0.033\n",
       "rating           0.450 -0.846 -0.147 -0.175 -0.162  0.056"
      ]
     },
     "execution_count": 74,
     "metadata": {},
     "output_type": "execute_result"
    }
   ],
   "source": [
    "pca_matrix.round(3)"
   ]
  },
  {
   "cell_type": "code",
   "execution_count": 75,
   "id": "fcc334c1",
   "metadata": {},
   "outputs": [],
   "source": [
    "sns.set_style(\"whitegrid\")"
   ]
  },
  {
   "cell_type": "code",
   "execution_count": 76,
   "id": "5770fd00",
   "metadata": {},
   "outputs": [
    {
     "data": {
      "image/png": "[encoded data removed]",
      "text/plain": [
       "<Figure size 720x432 with 1 Axes>"
      ]
     },
     "metadata": {},
     "output_type": "display_data"
    }
   ],
   "source": [
    "from bioinfokit.visuz import cluster\n",
    "\n",
    "ax = cluster.biplot(cscore=pca_features, loadings=-1*pca_df.components_, labels=df.columns.values, \n",
    "               var1=round(pca_df.explained_variance_ratio_[0]*100,2), var2=round(pca_df.explained_variance_ratio_[1]*100,2),\n",
    "                    show=True,dim=(10,6))"
   ]
  },
  {
   "cell_type": "code",
   "execution_count": null,
   "id": "e2cf6623",
   "metadata": {},
   "outputs": [],
   "source": []
  },
  {
   "cell_type": "markdown",
   "id": "a1037478",
   "metadata": {},
   "source": [
    "### KMeans Clustering"
   ]
  },
  {
   "cell_type": "code",
   "execution_count": 77,
   "id": "f8abdd76",
   "metadata": {},
   "outputs": [],
   "source": [
    "from sklearn.cluster import KMeans"
   ]
  },
  {
   "cell_type": "code",
   "execution_count": 78,
   "id": "a2f27925",
   "metadata": {},
   "outputs": [
    {
     "data": {
      "image/png": "[encoded data removed]",
      "text/plain": [
       "<Figure size 720x432 with 1 Axes>"
      ]
     },
     "metadata": {},
     "output_type": "display_data"
    }
   ],
   "source": [
    "k_range = range(2, 9)\n",
    "inertia = []\n",
    "\n",
    "# Specify the value for n_init\n",
    "n_init_value = 6\n",
    "\n",
    "for k in k_range:\n",
    "    kmeans = KMeans(n_clusters=k, random_state= 42, n_init=n_init_value)\n",
    "    kmeans.fit(df1)\n",
    "    inertia.append(kmeans.inertia_)\n",
    "    \n",
    "plt.figure(figsize=(10,6))    \n",
    "plt.plot(k_range, inertia, marker='o')\n",
    "plt.xlabel('Number of clusters')\n",
    "plt.ylabel('Inertia')\n",
    "plt.show()"
   ]
  },
  {
   "cell_type": "markdown",
   "id": "da912ad0",
   "metadata": {},
   "source": [
    "This plot shows the inertia values for different numbers of segments (clusters), helping to determine the optimal number of segments based on the \"elbow\" method. If you've stored the results from multiple runs of K-means clustering, you can plot them similarly to evaluate different parameter settings or preprocessing choices."
   ]
  },
  {
   "cell_type": "markdown",
   "id": "67cc6c21",
   "metadata": {},
   "source": [
    "### Extracting Segments"
   ]
  },
  {
   "cell_type": "code",
   "execution_count": 79,
   "id": "bb6e5553",
   "metadata": {},
   "outputs": [
    {
     "data": {
      "text/plain": [
       "array([0, 2, 0, 0, 1, 0, 0, 0, 0, 0, 0, 0, 0, 0, 0, 0, 1, 1, 0, 0, 1, 0,\n",
       "       0, 0, 1, 0, 0, 0, 0, 1, 2, 1, 0, 0, 0, 0, 0, 1, 0, 1, 1, 0, 0, 1,\n",
       "       0, 2, 0, 0, 0, 0, 0, 0, 0, 0, 0, 0, 0, 0, 1, 0, 0, 0, 1, 0, 0, 1,\n",
       "       1, 0, 0, 0, 0, 0, 0, 0, 0, 2, 1, 2, 1, 0, 0, 0, 0, 0, 0, 0, 0, 0,\n",
       "       0, 0, 1, 0, 0, 0, 0, 0, 1, 1, 0, 0, 0, 1, 0, 1, 0, 0, 0, 0, 0, 0,\n",
       "       2, 0, 2, 0, 2, 0, 0, 0, 0, 2, 1, 0, 1, 0, 1, 0, 0, 0, 1])"
      ]
     },
     "execution_count": 79,
     "metadata": {},
     "output_type": "execute_result"
    }
   ],
   "source": [
    "k_best = 3  # Assuming we choose the best number of segments based on the plot\n",
    "kmeans_best = KMeans(n_clusters= k_best, random_state= 42, n_init= n_init_value)\n",
    "kmeans_best.fit_predict(df1)"
   ]
  },
  {
   "cell_type": "code",
   "execution_count": 80,
   "id": "2406b0ad",
   "metadata": {},
   "outputs": [],
   "source": [
    "df['cluster'] = kmeans_best.labels_"
   ]
  },
  {
   "cell_type": "code",
   "execution_count": 81,
   "id": "4c2bfdcc",
   "metadata": {},
   "outputs": [
    {
     "data": {
      "text/plain": [
       "Counter({0: 94, 2: 9, 1: 26})"
      ]
     },
     "execution_count": 81,
     "metadata": {},
     "output_type": "execute_result"
    }
   ],
   "source": [
    "#To see each cluster size\n",
    "from collections import Counter\n",
    "Counter(kmeans_best.labels_)"
   ]
  },
  {
   "cell_type": "code",
   "execution_count": 82,
   "id": "0a70613b",
   "metadata": {},
   "outputs": [
    {
     "data": {
      "image/png": "[encoded data removed]",
      "text/plain": [
       "<Figure size 720x432 with 1 Axes>"
      ]
     },
     "metadata": {},
     "output_type": "display_data"
    }
   ],
   "source": [
    "#Visualizing clusters\n",
    "names = ['pc1','pc2','pc3','pc4','pc5','pc6']\n",
    "pf = pd.DataFrame(data = pca_features, columns = names)\n",
    "\n",
    "plt.figure(figsize=(10,6))\n",
    "sns.scatterplot(data= pf, x=\"pc1\", y=\"pc2\", hue=kmeans_best.labels_)\n",
    "plt.scatter(kmeans_best.cluster_centers_[:,0], kmeans_best.cluster_centers_[:,1], \n",
    "            marker=\"X\", c=\"r\", s=80, label=\"centroids\")\n",
    "\n",
    "plt.legend()\n",
    "plt.show()"
   ]
  },
  {
   "cell_type": "markdown",
   "id": "2d00f185",
   "metadata": {},
   "source": [
    "### Describe Segments"
   ]
  },
  {
   "cell_type": "code",
   "execution_count": 83,
   "id": "6571af91",
   "metadata": {},
   "outputs": [
    {
     "data": {
      "text/html": [
       "<div>\n",
       "<style scoped>\n",
       "    .dataframe tbody tr th:only-of-type {\n",
       "        vertical-align: middle;\n",
       "    }\n",
       "\n",
       "    .dataframe tbody tr th {\n",
       "        vertical-align: top;\n",
       "    }\n",
       "\n",
       "    .dataframe thead th {\n",
       "        text-align: right;\n",
       "    }\n",
       "</style>\n",
       "<table border=\"1\" class=\"dataframe\">\n",
       "  <thead>\n",
       "    <tr style=\"text-align: right;\">\n",
       "      <th>model_name</th>\n",
       "      <th>hyundai kona</th>\n",
       "      <th>tata nexon ev</th>\n",
       "      <th>tata tigor ev</th>\n",
       "    </tr>\n",
       "    <tr>\n",
       "      <th>cluster</th>\n",
       "      <th></th>\n",
       "      <th></th>\n",
       "      <th></th>\n",
       "    </tr>\n",
       "  </thead>\n",
       "  <tbody>\n",
       "    <tr>\n",
       "      <th>0</th>\n",
       "      <td>25</td>\n",
       "      <td>57</td>\n",
       "      <td>12</td>\n",
       "    </tr>\n",
       "    <tr>\n",
       "      <th>1</th>\n",
       "      <td>7</td>\n",
       "      <td>15</td>\n",
       "      <td>4</td>\n",
       "    </tr>\n",
       "    <tr>\n",
       "      <th>2</th>\n",
       "      <td>2</td>\n",
       "      <td>3</td>\n",
       "      <td>4</td>\n",
       "    </tr>\n",
       "  </tbody>\n",
       "</table>\n",
       "</div>"
      ],
      "text/plain": [
       "model_name  hyundai kona  tata nexon ev  tata tigor ev\n",
       "cluster                                               \n",
       "0                     25             57             12\n",
       "1                      7             15              4\n",
       "2                      2              3              4"
      ]
     },
     "execution_count": 83,
     "metadata": {},
     "output_type": "execute_result"
    }
   ],
   "source": [
    "from statsmodels.graphics.mosaicplot import mosaic\n",
    "from itertools import product\n",
    "\n",
    "crosstab =pd.crosstab(df['cluster'],df['model_name'])\n",
    "\n",
    "crosstab "
   ]
  },
  {
   "cell_type": "code",
   "execution_count": null,
   "id": "f736e628",
   "metadata": {},
   "outputs": [],
   "source": []
  },
  {
   "cell_type": "code",
   "execution_count": 84,
   "id": "850d7a29",
   "metadata": {},
   "outputs": [
    {
     "data": {
      "image/png": "[encoded data removed]",
      "text/plain": [
       "<Figure size 720x360 with 3 Axes>"
      ]
     },
     "metadata": {},
     "output_type": "display_data"
    }
   ],
   "source": [
    "# Mosaic Plot\n",
    "plt.rcParams['figure.figsize'] = (10,5)\n",
    "mosaic(crosstab.stack(), horizontal=False)\n",
    "plt.show()"
   ]
  },
  {
   "cell_type": "code",
   "execution_count": 89,
   "id": "853c107d",
   "metadata": {},
   "outputs": [
    {
     "data": {
      "text/html": [
       "<div>\n",
       "<style scoped>\n",
       "    .dataframe tbody tr th:only-of-type {\n",
       "        vertical-align: middle;\n",
       "    }\n",
       "\n",
       "    .dataframe tbody tr th {\n",
       "        vertical-align: top;\n",
       "    }\n",
       "\n",
       "    .dataframe thead th {\n",
       "        text-align: right;\n",
       "    }\n",
       "</style>\n",
       "<table border=\"1\" class=\"dataframe\">\n",
       "  <thead>\n",
       "    <tr style=\"text-align: right;\">\n",
       "      <th>Condition</th>\n",
       "      <th>New</th>\n",
       "      <th>Not Purchased</th>\n",
       "      <th>Used</th>\n",
       "    </tr>\n",
       "    <tr>\n",
       "      <th>cluster</th>\n",
       "      <th></th>\n",
       "      <th></th>\n",
       "      <th></th>\n",
       "    </tr>\n",
       "  </thead>\n",
       "  <tbody>\n",
       "    <tr>\n",
       "      <th>0</th>\n",
       "      <td>50</td>\n",
       "      <td>31</td>\n",
       "      <td>13</td>\n",
       "    </tr>\n",
       "    <tr>\n",
       "      <th>1</th>\n",
       "      <td>7</td>\n",
       "      <td>13</td>\n",
       "      <td>6</td>\n",
       "    </tr>\n",
       "    <tr>\n",
       "      <th>2</th>\n",
       "      <td>6</td>\n",
       "      <td>2</td>\n",
       "      <td>1</td>\n",
       "    </tr>\n",
       "  </tbody>\n",
       "</table>\n",
       "</div>"
      ],
      "text/plain": [
       "Condition  New  Not Purchased  Used\n",
       "cluster                            \n",
       "0           50             31    13\n",
       "1            7             13     6\n",
       "2            6              2     1"
      ]
     },
     "execution_count": 89,
     "metadata": {},
     "output_type": "execute_result"
    }
   ],
   "source": [
    "# Mosaic plot Condition vs segment\n",
    "crosstab_gender =pd.crosstab(df['cluster'], data['Condition'])\n",
    "crosstab_gender"
   ]
  },
  {
   "cell_type": "code",
   "execution_count": 90,
   "id": "d3353cd2",
   "metadata": {},
   "outputs": [
    {
     "data": {
      "image/png": "[encoded data removed]",
      "text/plain": [
       "<Figure size 720x360 with 3 Axes>"
      ]
     },
     "metadata": {},
     "output_type": "display_data"
    }
   ],
   "source": [
    "plt.rcParams['figure.figsize'] = (10,5)\n",
    "mosaic(crosstab_gender.stack(), horizontal=False)\n",
    "plt.show()"
   ]
  },
  {
   "cell_type": "code",
   "execution_count": 96,
   "id": "d9b33300",
   "metadata": {},
   "outputs": [
    {
     "data": {
      "text/plain": [
       "<AxesSubplot:xlabel='cluster', ylabel='Comfort'>"
      ]
     },
     "execution_count": 96,
     "metadata": {},
     "output_type": "execute_result"
    },
    {
     "data": {
      "image/png": "[encoded data removed]",
      "text/plain": [
       "<Figure size 720x360 with 1 Axes>"
      ]
     },
     "metadata": {},
     "output_type": "display_data"
    }
   ],
   "source": [
    "# Box plot for age\n",
    "\n",
    "sns.boxplot(x=\"cluster\", y=\"Comfort\", data= df)"
   ]
  },
  {
   "cell_type": "markdown",
   "id": "b62273d3",
   "metadata": {},
   "source": [
    "### Selecting target segment"
   ]
  },
  {
   "cell_type": "code",
   "execution_count": 99,
   "id": "dd72b5ef",
   "metadata": {},
   "outputs": [
    {
     "data": {
      "text/html": [
       "<div>\n",
       "<style scoped>\n",
       "    .dataframe tbody tr th:only-of-type {\n",
       "        vertical-align: middle;\n",
       "    }\n",
       "\n",
       "    .dataframe tbody tr th {\n",
       "        vertical-align: top;\n",
       "    }\n",
       "\n",
       "    .dataframe thead th {\n",
       "        text-align: right;\n",
       "    }\n",
       "</style>\n",
       "<table border=\"1\" class=\"dataframe\">\n",
       "  <thead>\n",
       "    <tr style=\"text-align: right;\">\n",
       "      <th></th>\n",
       "      <th>cluster</th>\n",
       "      <th>Value for Money</th>\n",
       "    </tr>\n",
       "  </thead>\n",
       "  <tbody>\n",
       "    <tr>\n",
       "      <th>0</th>\n",
       "      <td>0</td>\n",
       "      <td>0.974468</td>\n",
       "    </tr>\n",
       "    <tr>\n",
       "      <th>1</th>\n",
       "      <td>1</td>\n",
       "      <td>0.546154</td>\n",
       "    </tr>\n",
       "    <tr>\n",
       "      <th>2</th>\n",
       "      <td>2</td>\n",
       "      <td>0.177778</td>\n",
       "    </tr>\n",
       "  </tbody>\n",
       "</table>\n",
       "</div>"
      ],
      "text/plain": [
       "   cluster  Value for Money\n",
       "0        0         0.974468\n",
       "1        1         0.546154\n",
       "2        2         0.177778"
      ]
     },
     "execution_count": 99,
     "metadata": {},
     "output_type": "execute_result"
    }
   ],
   "source": [
    "# Value for Money\n",
    "value = df.groupby('cluster')['Value for Money'].mean()\n",
    "value = value.to_frame().reset_index()\n",
    "value"
   ]
  },
  {
   "cell_type": "code",
   "execution_count": 100,
   "id": "f6fea838",
   "metadata": {},
   "outputs": [
    {
     "data": {
      "text/html": [
       "<div>\n",
       "<style scoped>\n",
       "    .dataframe tbody tr th:only-of-type {\n",
       "        vertical-align: middle;\n",
       "    }\n",
       "\n",
       "    .dataframe tbody tr th {\n",
       "        vertical-align: top;\n",
       "    }\n",
       "\n",
       "    .dataframe thead th {\n",
       "        text-align: right;\n",
       "    }\n",
       "</style>\n",
       "<table border=\"1\" class=\"dataframe\">\n",
       "  <thead>\n",
       "    <tr style=\"text-align: right;\">\n",
       "      <th></th>\n",
       "      <th>cluster</th>\n",
       "      <th>Performance</th>\n",
       "    </tr>\n",
       "  </thead>\n",
       "  <tbody>\n",
       "    <tr>\n",
       "      <th>0</th>\n",
       "      <td>0</td>\n",
       "      <td>0.980851</td>\n",
       "    </tr>\n",
       "    <tr>\n",
       "      <th>1</th>\n",
       "      <td>1</td>\n",
       "      <td>0.769231</td>\n",
       "    </tr>\n",
       "    <tr>\n",
       "      <th>2</th>\n",
       "      <td>2</td>\n",
       "      <td>0.200000</td>\n",
       "    </tr>\n",
       "  </tbody>\n",
       "</table>\n",
       "</div>"
      ],
      "text/plain": [
       "   cluster  Performance\n",
       "0        0     0.980851\n",
       "1        1     0.769231\n",
       "2        2     0.200000"
      ]
     },
     "execution_count": 100,
     "metadata": {},
     "output_type": "execute_result"
    }
   ],
   "source": [
    "# Performance\n",
    "performance = df.groupby('cluster')['Performance'].mean()\n",
    "performance = performance.to_frame().reset_index()\n",
    "performance"
   ]
  },
  {
   "cell_type": "code",
   "execution_count": 101,
   "id": "e8fcdcd9",
   "metadata": {},
   "outputs": [
    {
     "data": {
      "text/html": [
       "<div>\n",
       "<style scoped>\n",
       "    .dataframe tbody tr th:only-of-type {\n",
       "        vertical-align: middle;\n",
       "    }\n",
       "\n",
       "    .dataframe tbody tr th {\n",
       "        vertical-align: top;\n",
       "    }\n",
       "\n",
       "    .dataframe thead th {\n",
       "        text-align: right;\n",
       "    }\n",
       "</style>\n",
       "<table border=\"1\" class=\"dataframe\">\n",
       "  <thead>\n",
       "    <tr style=\"text-align: right;\">\n",
       "      <th></th>\n",
       "      <th>cluster</th>\n",
       "      <th>Exterior</th>\n",
       "    </tr>\n",
       "  </thead>\n",
       "  <tbody>\n",
       "    <tr>\n",
       "      <th>0</th>\n",
       "      <td>0</td>\n",
       "      <td>0.965957</td>\n",
       "    </tr>\n",
       "    <tr>\n",
       "      <th>1</th>\n",
       "      <td>1</td>\n",
       "      <td>0.830769</td>\n",
       "    </tr>\n",
       "    <tr>\n",
       "      <th>2</th>\n",
       "      <td>2</td>\n",
       "      <td>0.333333</td>\n",
       "    </tr>\n",
       "  </tbody>\n",
       "</table>\n",
       "</div>"
      ],
      "text/plain": [
       "   cluster  Exterior\n",
       "0        0  0.965957\n",
       "1        1  0.830769\n",
       "2        2  0.333333"
      ]
     },
     "execution_count": 101,
     "metadata": {},
     "output_type": "execute_result"
    }
   ],
   "source": [
    "# Exterior\n",
    "exterior = df.groupby('cluster')['Exterior'].mean()\n",
    "exterior = exterior.to_frame().reset_index()\n",
    "exterior"
   ]
  },
  {
   "cell_type": "code",
   "execution_count": 103,
   "id": "8bd23068",
   "metadata": {},
   "outputs": [
    {
     "data": {
      "text/html": [
       "<div>\n",
       "<style scoped>\n",
       "    .dataframe tbody tr th:only-of-type {\n",
       "        vertical-align: middle;\n",
       "    }\n",
       "\n",
       "    .dataframe tbody tr th {\n",
       "        vertical-align: top;\n",
       "    }\n",
       "\n",
       "    .dataframe thead th {\n",
       "        text-align: right;\n",
       "    }\n",
       "</style>\n",
       "<table border=\"1\" class=\"dataframe\">\n",
       "  <thead>\n",
       "    <tr style=\"text-align: right;\">\n",
       "      <th></th>\n",
       "      <th>cluster</th>\n",
       "      <th>Comfort</th>\n",
       "    </tr>\n",
       "  </thead>\n",
       "  <tbody>\n",
       "    <tr>\n",
       "      <th>0</th>\n",
       "      <td>0</td>\n",
       "      <td>0.961702</td>\n",
       "    </tr>\n",
       "    <tr>\n",
       "      <th>1</th>\n",
       "      <td>1</td>\n",
       "      <td>0.815385</td>\n",
       "    </tr>\n",
       "    <tr>\n",
       "      <th>2</th>\n",
       "      <td>2</td>\n",
       "      <td>0.266667</td>\n",
       "    </tr>\n",
       "  </tbody>\n",
       "</table>\n",
       "</div>"
      ],
      "text/plain": [
       "   cluster   Comfort\n",
       "0        0  0.961702\n",
       "1        1  0.815385\n",
       "2        2  0.266667"
      ]
     },
     "execution_count": 103,
     "metadata": {},
     "output_type": "execute_result"
    }
   ],
   "source": [
    "# Comfort\n",
    "comfort = df.groupby('cluster')['Comfort'].mean()\n",
    "comfort = comfort.to_frame().reset_index()\n",
    "comfort"
   ]
  },
  {
   "cell_type": "code",
   "execution_count": 104,
   "id": "ee36cc80",
   "metadata": {},
   "outputs": [
    {
     "data": {
      "text/html": [
       "<div>\n",
       "<style scoped>\n",
       "    .dataframe tbody tr th:only-of-type {\n",
       "        vertical-align: middle;\n",
       "    }\n",
       "\n",
       "    .dataframe tbody tr th {\n",
       "        vertical-align: top;\n",
       "    }\n",
       "\n",
       "    .dataframe thead th {\n",
       "        text-align: right;\n",
       "    }\n",
       "</style>\n",
       "<table border=\"1\" class=\"dataframe\">\n",
       "  <thead>\n",
       "    <tr style=\"text-align: right;\">\n",
       "      <th></th>\n",
       "      <th>cluster</th>\n",
       "      <th>Comfort</th>\n",
       "    </tr>\n",
       "  </thead>\n",
       "  <tbody>\n",
       "    <tr>\n",
       "      <th>0</th>\n",
       "      <td>0</td>\n",
       "      <td>0.961702</td>\n",
       "    </tr>\n",
       "    <tr>\n",
       "      <th>1</th>\n",
       "      <td>1</td>\n",
       "      <td>0.815385</td>\n",
       "    </tr>\n",
       "    <tr>\n",
       "      <th>2</th>\n",
       "      <td>2</td>\n",
       "      <td>0.266667</td>\n",
       "    </tr>\n",
       "  </tbody>\n",
       "</table>\n",
       "</div>"
      ],
      "text/plain": [
       "   cluster   Comfort\n",
       "0        0  0.961702\n",
       "1        1  0.815385\n",
       "2        2  0.266667"
      ]
     },
     "execution_count": 104,
     "metadata": {},
     "output_type": "execute_result"
    }
   ],
   "source": [
    "# Fuel Economy\n",
    "economy = df.groupby('cluster')['Comfort'].mean()\n",
    "fuel_economy = economy.to_frame().reset_index()\n",
    "fuel_economy"
   ]
  },
  {
   "cell_type": "code",
   "execution_count": 116,
   "id": "de13ab08",
   "metadata": {},
   "outputs": [
    {
     "data": {
      "image/png": "[encoded data removed]",
      "text/plain": [
       "<Figure size 648x288 with 1 Axes>"
      ]
     },
     "metadata": {},
     "output_type": "display_data"
    }
   ],
   "source": [
    "#Target segments\n",
    "\n",
    "plt.figure(figsize = (9,4))\n",
    "sns.scatterplot(x = \"Value for Money\", y = \"Exterior\", data= df, s=400, color=\"blue\")\n",
    "plt.title(\"Simple segment evaluation plot for the car ev vehicle data set\",\n",
    "          fontsize = 15) \n",
    "plt.xlabel(\"Value for Money\", fontsize = 12) \n",
    "plt.ylabel(\"Exterior\", fontsize = 12) \n",
    "plt.show()"
   ]
  },
  {
   "cell_type": "markdown",
   "id": "bd2640f8",
   "metadata": {},
   "source": [
    "Above are the selected segments."
   ]
  },
  {
   "cell_type": "code",
   "execution_count": null,
   "id": "82434b5b",
   "metadata": {},
   "outputs": [],
   "source": []
  }
 ],
 "metadata": {
  "kernelspec": {
   "display_name": "Python 3 (ipykernel)",
   "language": "python",
   "name": "python3"
  },
  "language_info": {
   "codemirror_mode": {
    "name": "ipython",
    "version": 3
   },
   "file_extension": ".py",
   "mimetype": "text/x-python",
   "name": "python",
   "nbconvert_exporter": "python",
   "pygments_lexer": "ipython3",
   "version": "3.9.12"
  }
 },
 "nbformat": 4,
 "nbformat_minor": 5
}
